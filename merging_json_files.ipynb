{
 "cells": [
  {
   "cell_type": "code",
   "execution_count": 1,
   "id": "0632bbaf-bb15-4d53-a02d-493eea56a0ba",
   "metadata": {},
   "outputs": [],
   "source": [
    "import json\n",
    "import numpy as np\n",
    "import random"
   ]
  },
  {
   "cell_type": "markdown",
   "id": "4786b194-225c-4da5-ab8f-cb7f6939a31c",
   "metadata": {},
   "source": [
    "### train/val"
   ]
  },
  {
   "cell_type": "code",
   "execution_count": 2,
   "id": "490f2265-bb15-4c31-b605-c8a8f196de7c",
   "metadata": {},
   "outputs": [],
   "source": [
    "f = open('/data/output/multi_data/hc_train_val0.json') \n",
    "hc = json.load(f)\n",
    "f = open('/data/output/multi_data/msd_train_val0.json') \n",
    "msd = json.load(f)\n",
    "f = open('/data/output/multi_data/luna_train_val0.json') \n",
    "luna = json.load(f)"
   ]
  },
  {
   "cell_type": "code",
   "execution_count": 3,
   "id": "58dc7050-07b5-43e0-b588-be05437bba3a",
   "metadata": {},
   "outputs": [
    {
     "name": "stdout",
     "output_type": "stream",
     "text": [
      "488\n",
      "122\n"
     ]
    }
   ],
   "source": [
    "merged_train = []\n",
    "merged_val = []\n",
    "for h in hc['training']:\n",
    "    merged_train.append(h)\n",
    "\n",
    "for m in msd['training']:\n",
    "    merged_train.append(m)\n",
    "\n",
    "for l in luna['training']:\n",
    "    merged_train.append(l)\n",
    "\n",
    "for h in hc['validation']:\n",
    "    merged_val.append(h)\n",
    "\n",
    "for m in msd['validation']:\n",
    "    merged_val.append(m)\n",
    "\n",
    "for l in luna['validation']:\n",
    "    merged_val.append(l)\n",
    "\n",
    "print(len(merged_train))\n",
    "print(len(merged_val))"
   ]
  },
  {
   "cell_type": "code",
   "execution_count": 4,
   "id": "2d29212b-390e-4732-bdf6-30d8a5586422",
   "metadata": {},
   "outputs": [],
   "source": [
    "random.shuffle(merged_train)\n",
    "random.shuffle(merged_val)\n",
    "\n",
    "save_file = open(\n",
    "    '/data/output/mixed_data/mixed_train_val0.json',\n",
    "    'w'\n",
    ")\n",
    "value = {\n",
    "    \"training\": merged_train,\n",
    "    \"validation\": merged_val\n",
    "}\n",
    "json.dump(value, save_file, indent=5)\n",
    "save_file.close()"
   ]
  },
  {
   "cell_type": "markdown",
   "id": "7fa3d2b0-2272-4c90-98da-219ac702f650",
   "metadata": {},
   "source": [
    "### test "
   ]
  },
  {
   "cell_type": "code",
   "execution_count": 5,
   "id": "d228e857-5b81-4e5a-9d73-7e95ca8afd41",
   "metadata": {},
   "outputs": [],
   "source": [
    "f = open('/data/output/multi_data/hc_test.json') \n",
    "hc = json.load(f)\n",
    "f = open('/data/output/multi_data/msd_test.json') \n",
    "msd = json.load(f)\n",
    "f = open('/data/output/multi_data/luna_test.json') \n",
    "luna = json.load(f)"
   ]
  },
  {
   "cell_type": "code",
   "execution_count": 6,
   "id": "b780ed16-a455-4911-897e-a4745135359d",
   "metadata": {},
   "outputs": [
    {
     "name": "stdout",
     "output_type": "stream",
     "text": [
      "155\n"
     ]
    }
   ],
   "source": [
    "merged_test = []\n",
    "for h in hc['test']:\n",
    "    merged_test.append(h)\n",
    "\n",
    "for m in msd['test']:\n",
    "    merged_test.append(m)\n",
    "\n",
    "for l in luna['test']:\n",
    "    merged_test.append(l)\n",
    "\n",
    "print(len(merged_test))"
   ]
  },
  {
   "cell_type": "code",
   "execution_count": 7,
   "id": "58226640-6d66-45de-a6a0-5c7dbc622ed3",
   "metadata": {},
   "outputs": [],
   "source": [
    "random.shuffle(merged_test)\n",
    "\n",
    "save_file = open(\n",
    "    '/data/output/mixed_data/mixed_test.json',\n",
    "    'w'\n",
    ")\n",
    "value = {\n",
    "    \"test\": merged_test\n",
    "}\n",
    "json.dump(value, save_file, indent=5)\n",
    "save_file.close()"
   ]
  }
 ],
 "metadata": {
  "kernelspec": {
   "display_name": "Python 3 (ipykernel)",
   "language": "python",
   "name": "python3"
  },
  "language_info": {
   "codemirror_mode": {
    "name": "ipython",
    "version": 3
   },
   "file_extension": ".py",
   "mimetype": "text/x-python",
   "name": "python",
   "nbconvert_exporter": "python",
   "pygments_lexer": "ipython3",
   "version": "3.10.12"
  }
 },
 "nbformat": 4,
 "nbformat_minor": 5
}
