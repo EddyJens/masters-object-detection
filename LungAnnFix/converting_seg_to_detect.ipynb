{
 "cells": [
  {
   "cell_type": "code",
   "execution_count": 1,
   "id": "3553a402-4c5a-4465-88d2-999c271c6eb9",
   "metadata": {},
   "outputs": [],
   "source": [
    "### Code to convert segment data to coordinate \n",
    "### characteristics:\n",
    "### - consider only the bigger nodule as the real one!"
   ]
  },
  {
   "cell_type": "code",
   "execution_count": 2,
   "id": "f3d971f4-c1b9-46e9-9d8b-fbd7d9c42dab",
   "metadata": {},
   "outputs": [],
   "source": [
    "import SimpleITK as sitk\n",
    "from mpl_toolkits.mplot3d.art3d import Poly3DCollection\n",
    "import numpy as np\n",
    "import glob\n",
    "import matplotlib\n",
    "from utils import (\n",
    "    load_itk, resample, \n",
    "    gen_coordinate_and_masks\n",
    ")\n",
    "from skimage import measure\n",
    "from matplotlib import pyplot as plt\n",
    "from tqdm import tqdm\n",
    "import pandas as pd\n",
    "\n",
    "from sklearn.cluster import KMeans"
   ]
  },
  {
   "cell_type": "markdown",
   "id": "ee69171f-7968-488d-a502-d57773ff600d",
   "metadata": {},
   "source": [
    "### HC dataset"
   ]
  },
  {
   "cell_type": "code",
   "execution_count": 3,
   "id": "a0834035-610d-4fe2-8b49-e2b6cf0ae284",
   "metadata": {
    "scrolled": true
   },
   "outputs": [
    {
     "name": "stdout",
     "output_type": "stream",
     "text": [
      "101\n",
      "/data/HC_Masks_resample/PL032303325116347/PL032303325116347.nii.gz\n"
     ]
    }
   ],
   "source": [
    "MASK_PATH = r'/data/HC_Masks_resample/*/*.nii.gz'\n",
    "mask_list = glob.glob(MASK_PATH)\n",
    "print(len(mask_list))\n",
    "print(mask_list[0])"
   ]
  },
  {
   "cell_type": "code",
   "execution_count": 4,
   "id": "9bb8886c-d5be-4a12-8320-302c46a3a25e",
   "metadata": {},
   "outputs": [],
   "source": [
    "# mask_list = list(filter(lambda k: 'PL652297908013408' in k, mask_list))\n",
    "# print(len(mask_list))"
   ]
  },
  {
   "cell_type": "markdown",
   "id": "4252ee01-0b6a-41f2-ba52-261ba7c0ec04",
   "metadata": {},
   "source": [
    "### MSD dataset"
   ]
  },
  {
   "cell_type": "code",
   "execution_count": 5,
   "id": "7acabb0d-b5ac-474c-b769-29f93a966d5a",
   "metadata": {},
   "outputs": [],
   "source": [
    "# MASK_PATH = r'/data/MSD_Masks_resample/*/lung*'\n",
    "# mask_list = glob.glob(MASK_PATH)\n",
    "# print(len(mask_list))\n",
    "# print(mask_list[0])"
   ]
  },
  {
   "cell_type": "markdown",
   "id": "6ed6a52e-99e3-4fea-ae08-54453a975fa6",
   "metadata": {},
   "source": [
    "### batch execution"
   ]
  },
  {
   "cell_type": "code",
   "execution_count": 6,
   "id": "6f7ef7e2-6af5-4d4f-b564-44b1ba875231",
   "metadata": {
    "scrolled": true
   },
   "outputs": [
    {
     "name": "stderr",
     "output_type": "stream",
     "text": [
      "100%|██████████| 101/101 [8:37:39<00:00, 307.52s/it]   \n"
     ]
    }
   ],
   "source": [
    "nodule_coordinates = []\n",
    "dataset = 'HC'\n",
    "for mask in tqdm(mask_list):\n",
    "    img, origin, spacing = load_itk(mask)    \n",
    "    img = img.transpose(2, 1, 0)\n",
    "    nodule_mask = img.copy()\n",
    "    # nodule_mask, spacing = resample(img, spacing)\n",
    "\n",
    "    coord_nodule_mask = gen_coordinate_and_masks(nodule_mask)\n",
    "\n",
    "    fig = plt.figure(figsize=(10, 10))\n",
    "    ax = fig.add_subplot(111, projection='3d')\n",
    "    \n",
    "    # p = nodule_mask.transpose(2, 1, 0)\n",
    "    p = nodule_mask.copy()\n",
    "    verts, faces, normals, values = measure.marching_cubes(p, 0)\n",
    "    mesh = Poly3DCollection(verts[faces], alpha=0.7)\n",
    "    face_color = [1, 0, 0, 0.7] # red\n",
    "    mesh.set_facecolor(face_color)\n",
    "    ax.add_collection3d(mesh)\n",
    "\n",
    "    # p = coord_nodule_mask['nodule_bounding_box'].transpose(2, 1, 0)\n",
    "    p = coord_nodule_mask['nodule_bounding_box'].copy()\n",
    "    verts, faces, normals, values = measure.marching_cubes(p, 0)\n",
    "    mesh = Poly3DCollection(verts[faces], alpha=0.20)\n",
    "    face_color = [0.45, 0.45, 0.75] # blue\n",
    "    mesh.set_facecolor(face_color)\n",
    "    ax.add_collection3d(mesh)\n",
    "\n",
    "    # p = coord_nodule_mask['outlier_mask'].transpose(2, 1, 0)\n",
    "    # verts, faces, normals, values = measure.marching_cubes(p, 0)\n",
    "    # mesh = Poly3DCollection(verts[faces], alpha=0.20)\n",
    "    # face_color = [0, 0, 0] # black\n",
    "    # mesh.set_facecolor(face_color)\n",
    "    # ax.add_collection3d(mesh)\n",
    "    \n",
    "    ax.set_xlim(0, p.shape[0])\n",
    "    ax.set_ylim(0, p.shape[1])\n",
    "    ax.set_zlim(0, p.shape[2])\n",
    "\n",
    "    # ax.view_init(20, 95)\n",
    "\n",
    "    raw_name = None\n",
    "    if dataset == 'HC':\n",
    "        raw_name = mask.split('/')[3]\n",
    "    if dataset == 'MSD':\n",
    "        raw_name = mask.split('/')[3].split('.')[0]\n",
    "    plt.savefig(\n",
    "        '/data/' + dataset + \\\n",
    "        '-clean-nodules-coord-preview/' + \\\n",
    "        raw_name + '.png'\n",
    "    )\n",
    "    plt.close()\n",
    "    matplotlib.use('Agg')\n",
    "\n",
    "    nodule_coordinates.append({\n",
    "        \"name\": raw_name,\n",
    "        \"spacing\": spacing,\n",
    "        \"origin\": origin,\n",
    "        \"exam_refined\": coord_nodule_mask[\"exam_refined\"],\n",
    "        \"x_min\": coord_nodule_mask[\"x_min\"],\n",
    "        \"y_min\": coord_nodule_mask[\"y_min\"],\n",
    "        \"z_min\": coord_nodule_mask[\"z_min\"],\n",
    "        \"x_max\": coord_nodule_mask[\"x_max\"],\n",
    "        \"y_max\": coord_nodule_mask[\"y_max\"],\n",
    "        \"z_max\": coord_nodule_mask[\"z_max\"]\n",
    "    })\n",
    "\n",
    "    plt.show()"
   ]
  },
  {
   "cell_type": "code",
   "execution_count": 7,
   "id": "fa28f074-cecc-48d3-9c6b-7e6c27e68f68",
   "metadata": {},
   "outputs": [
    {
     "data": {
      "text/plain": [
       "(array([0., 1.]), array([114426669,     40467]))"
      ]
     },
     "execution_count": 7,
     "metadata": {},
     "output_type": "execute_result"
    }
   ],
   "source": [
    "np.unique(coord_nodule_mask['nodule_bounding_box'], return_counts=True)"
   ]
  },
  {
   "cell_type": "code",
   "execution_count": 8,
   "id": "709d5bae-acb2-46a7-b9ce-3c8ca4421aaf",
   "metadata": {},
   "outputs": [
    {
     "data": {
      "text/html": [
       "<div>\n",
       "<style scoped>\n",
       "    .dataframe tbody tr th:only-of-type {\n",
       "        vertical-align: middle;\n",
       "    }\n",
       "\n",
       "    .dataframe tbody tr th {\n",
       "        vertical-align: top;\n",
       "    }\n",
       "\n",
       "    .dataframe thead th {\n",
       "        text-align: right;\n",
       "    }\n",
       "</style>\n",
       "<table border=\"1\" class=\"dataframe\">\n",
       "  <thead>\n",
       "    <tr style=\"text-align: right;\">\n",
       "      <th></th>\n",
       "      <th>name</th>\n",
       "      <th>spacing</th>\n",
       "      <th>origin</th>\n",
       "      <th>exam_refined</th>\n",
       "      <th>x_min</th>\n",
       "      <th>y_min</th>\n",
       "      <th>z_min</th>\n",
       "      <th>x_max</th>\n",
       "      <th>y_max</th>\n",
       "      <th>z_max</th>\n",
       "    </tr>\n",
       "  </thead>\n",
       "  <tbody>\n",
       "    <tr>\n",
       "      <th>0</th>\n",
       "      <td>PL032303325116347</td>\n",
       "      <td>[1.25, 0.703125, 0.703125]</td>\n",
       "      <td>[-239.75, 121.796875, 173.5968780517578]</td>\n",
       "      <td>False</td>\n",
       "      <td>175</td>\n",
       "      <td>171</td>\n",
       "      <td>62</td>\n",
       "      <td>201</td>\n",
       "      <td>200</td>\n",
       "      <td>76</td>\n",
       "    </tr>\n",
       "    <tr>\n",
       "      <th>1</th>\n",
       "      <td>PL061850842690412</td>\n",
       "      <td>[1.25, 0.703125, 0.703125]</td>\n",
       "      <td>[-241.5, 390.023193359375, 255.02317810058594]</td>\n",
       "      <td>False</td>\n",
       "      <td>455</td>\n",
       "      <td>256</td>\n",
       "      <td>227</td>\n",
       "      <td>487</td>\n",
       "      <td>288</td>\n",
       "      <td>240</td>\n",
       "    </tr>\n",
       "    <tr>\n",
       "      <th>2</th>\n",
       "      <td>PL064775189851313</td>\n",
       "      <td>[1.25, 0.703125, 0.703125]</td>\n",
       "      <td>[-13.5, 372.078125, 234.078125]</td>\n",
       "      <td>False</td>\n",
       "      <td>206</td>\n",
       "      <td>231</td>\n",
       "      <td>195</td>\n",
       "      <td>240</td>\n",
       "      <td>260</td>\n",
       "      <td>208</td>\n",
       "    </tr>\n",
       "    <tr>\n",
       "      <th>3</th>\n",
       "      <td>PL070153620449075</td>\n",
       "      <td>[1.25, 0.703125, 0.703125]</td>\n",
       "      <td>[16.5, 369.023193359375, 246.02317810058594]</td>\n",
       "      <td>False</td>\n",
       "      <td>445</td>\n",
       "      <td>330</td>\n",
       "      <td>222</td>\n",
       "      <td>514</td>\n",
       "      <td>388</td>\n",
       "      <td>247</td>\n",
       "    </tr>\n",
       "    <tr>\n",
       "      <th>4</th>\n",
       "      <td>PL075999918976403</td>\n",
       "      <td>[1.25, 0.703125, 0.703125]</td>\n",
       "      <td>[356.9999694824219, 308.0977783203125, 218.097...</td>\n",
       "      <td>False</td>\n",
       "      <td>359</td>\n",
       "      <td>208</td>\n",
       "      <td>181</td>\n",
       "      <td>419</td>\n",
       "      <td>266</td>\n",
       "      <td>216</td>\n",
       "    </tr>\n",
       "  </tbody>\n",
       "</table>\n",
       "</div>"
      ],
      "text/plain": [
       "                name                     spacing  \\\n",
       "0  PL032303325116347  [1.25, 0.703125, 0.703125]   \n",
       "1  PL061850842690412  [1.25, 0.703125, 0.703125]   \n",
       "2  PL064775189851313  [1.25, 0.703125, 0.703125]   \n",
       "3  PL070153620449075  [1.25, 0.703125, 0.703125]   \n",
       "4  PL075999918976403  [1.25, 0.703125, 0.703125]   \n",
       "\n",
       "                                              origin  exam_refined  x_min  \\\n",
       "0           [-239.75, 121.796875, 173.5968780517578]         False    175   \n",
       "1     [-241.5, 390.023193359375, 255.02317810058594]         False    455   \n",
       "2                    [-13.5, 372.078125, 234.078125]         False    206   \n",
       "3       [16.5, 369.023193359375, 246.02317810058594]         False    445   \n",
       "4  [356.9999694824219, 308.0977783203125, 218.097...         False    359   \n",
       "\n",
       "   y_min  z_min  x_max  y_max  z_max  \n",
       "0    171     62    201    200     76  \n",
       "1    256    227    487    288    240  \n",
       "2    231    195    240    260    208  \n",
       "3    330    222    514    388    247  \n",
       "4    208    181    419    266    216  "
      ]
     },
     "execution_count": 8,
     "metadata": {},
     "output_type": "execute_result"
    }
   ],
   "source": [
    "nodule_coordinates = pd.DataFrame(nodule_coordinates)\n",
    "nodule_coordinates.to_csv('/data/output/hc_clean_nodules3.csv', index=False)\n",
    "nodule_coordinates.head()"
   ]
  },
  {
   "cell_type": "code",
   "execution_count": 9,
   "id": "832006ec-b799-4830-bc58-434daa6241ff",
   "metadata": {},
   "outputs": [
    {
     "ename": "ValueError",
     "evalue": "invalid literal for int() with base 10: 'aa'",
     "output_type": "error",
     "traceback": [
      "\u001b[0;31m---------------------------------------------------------------------------\u001b[0m",
      "\u001b[0;31mValueError\u001b[0m                                Traceback (most recent call last)",
      "Cell \u001b[0;32mIn[9], line 1\u001b[0m\n\u001b[0;32m----> 1\u001b[0m \u001b[38;5;28;43mint\u001b[39;49m\u001b[43m(\u001b[49m\u001b[38;5;124;43m'\u001b[39;49m\u001b[38;5;124;43maa\u001b[39;49m\u001b[38;5;124;43m'\u001b[39;49m\u001b[43m)\u001b[49m\n",
      "\u001b[0;31mValueError\u001b[0m: invalid literal for int() with base 10: 'aa'"
     ]
    }
   ],
   "source": [
    "int('aa')"
   ]
  },
  {
   "cell_type": "markdown",
   "id": "189dd6d3-4387-4137-ad82-1d6a31c2f591",
   "metadata": {
    "jp-MarkdownHeadingCollapsed": true
   },
   "source": [
    "### unique exam"
   ]
  },
  {
   "cell_type": "code",
   "execution_count": null,
   "id": "6b400c95-89f4-4ced-92b4-aa5c56d869fb",
   "metadata": {},
   "outputs": [],
   "source": [
    "%%time\n",
    "img, origin, spacing = load_itk(mask_list[0])\n",
    "\n",
    "print(np.unique(img, return_counts=True))\n",
    "print(img.shape)\n",
    "print(origin, spacing)"
   ]
  },
  {
   "cell_type": "code",
   "execution_count": null,
   "id": "88dc54c7",
   "metadata": {},
   "outputs": [],
   "source": [
    "%%time\n",
    "img2, spacing2 = resample(img, spacing, [1.25, 0.703125, 0.703125])\n",
    "\n",
    "print(np.unique(img2, return_counts=True))\n",
    "print(img2.shape)\n",
    "print(origin, spacing2)"
   ]
  },
  {
   "cell_type": "code",
   "execution_count": null,
   "id": "42fcb8b5-3d9d-4035-a36e-c9899c1c30da",
   "metadata": {
    "scrolled": true
   },
   "outputs": [],
   "source": [
    "%%time\n",
    "x, y, z = img2.shape\n",
    "\n",
    "count = 0\n",
    "coordinates = []\n",
    "for i in range(x):\n",
    "    for j in range(y):\n",
    "        for k in range(z):\n",
    "             if img2[i][j][k] == 1:\n",
    "                 coordinates.append((i, j, k))\n",
    "\n",
    "print(len(coordinates))"
   ]
  },
  {
   "cell_type": "code",
   "execution_count": null,
   "id": "b820669e-55b4-4818-b327-1876b2bb8ef0",
   "metadata": {},
   "outputs": [],
   "source": [
    "%%time\n",
    "from sklearn.neighbors import NearestNeighbors\n",
    "\n",
    "X = np.array(coordinates)\n",
    "nbrs = NearestNeighbors(n_neighbors=100, algorithm='ball_tree').fit(X)\n",
    "distances, indices = nbrs.kneighbors(X)"
   ]
  },
  {
   "cell_type": "code",
   "execution_count": null,
   "id": "812a0639-8bf3-4d27-b170-37d93aaadae7",
   "metadata": {},
   "outputs": [],
   "source": [
    "distances.shape"
   ]
  },
  {
   "cell_type": "code",
   "execution_count": null,
   "id": "35c22c9a-b851-4915-b92b-9bae495ba5e7",
   "metadata": {},
   "outputs": [],
   "source": [
    "print(type(distances))"
   ]
  },
  {
   "cell_type": "code",
   "execution_count": null,
   "id": "07c87bfc-a443-4e49-aacf-1008209f83c8",
   "metadata": {
    "scrolled": true
   },
   "outputs": [],
   "source": [
    "disto = []\n",
    "for index, dista in enumerate(distances):\n",
    "    disto.append({\n",
    "        \"index\": index,\n",
    "        \"distance\": dista.sum()\n",
    "    })\n",
    "\n",
    "print(len(disto))"
   ]
  },
  {
   "cell_type": "code",
   "execution_count": null,
   "id": "3eba503e-110f-4da6-9c32-172263580b16",
   "metadata": {
    "scrolled": true
   },
   "outputs": [],
   "source": [
    "sorted_disto = sorted(disto, key=lambda x:x[\"distance\"], reverse=True)"
   ]
  },
  {
   "cell_type": "code",
   "execution_count": null,
   "id": "1971ae8b-fc50-4486-9891-92b501402cb5",
   "metadata": {},
   "outputs": [],
   "source": [
    "sorted_disto[0:20]"
   ]
  },
  {
   "cell_type": "code",
   "execution_count": null,
   "id": "8fdf32ed-669f-49b1-8a4d-186911419d7a",
   "metadata": {},
   "outputs": [],
   "source": [
    "outliers = []\n",
    "for unique_value in sorted_disto:\n",
    "    if unique_value['distance'] > 1500:\n",
    "        outliers.append(unique_value)\n",
    "\n",
    "print(outliers)"
   ]
  },
  {
   "cell_type": "code",
   "execution_count": null,
   "id": "dcf33789-ece7-4285-b812-f45ceb2dca2a",
   "metadata": {},
   "outputs": [],
   "source": [
    "%%time\n",
    "xs = []\n",
    "ys = []\n",
    "zs = []\n",
    "for a in range(len(coordinates)):\n",
    "    xs.append(coordinates[a][0])\n",
    "    ys.append(coordinates[a][1])\n",
    "    zs.append(coordinates[a][2])"
   ]
  },
  {
   "cell_type": "code",
   "execution_count": null,
   "id": "938b609e-5ccb-4eee-b04d-b3ef3ef84a74",
   "metadata": {},
   "outputs": [],
   "source": [
    "print(np.min(xs))\n",
    "print(np.min(ys))\n",
    "print(np.min(zs))\n",
    "print(np.max(xs))\n",
    "print(np.max(ys)) \n",
    "print(np.max(zs)) "
   ]
  },
  {
   "cell_type": "code",
   "execution_count": null,
   "id": "c7e2f9b2-7e7e-44db-83e5-a3eb4b054ca1",
   "metadata": {},
   "outputs": [],
   "source": [
    "%%time\n",
    "p = img2.transpose(2, 1, 0)\n",
    "verts, faces, normals, values = measure.marching_cubes(p, 0)\n",
    "\n",
    "fig = plt.figure(figsize=(10, 10))\n",
    "ax = fig.add_subplot(111, projection='3d')\n",
    "\n",
    "mesh = Poly3DCollection(verts[faces], alpha=0.05)\n",
    "face_color = [1, 0, 0, 0.7]\n",
    "mesh.set_facecolor(face_color)\n",
    "ax.add_collection3d(mesh)\n",
    "\n",
    "### bounding box\n",
    "# axes = [x, y, z]\n",
    "# data = np.zeros(axes)\n",
    "\n",
    "# for i in range(np.min(xs), np.max(xs)):\n",
    "#     for j in range(np.min(ys), np.max(ys)):\n",
    "#         for k in range(np.min(zs), np.max(zs)):\n",
    "#             data[i][j][k] = 1\n",
    "\n",
    "# p = data.transpose(2, 1, 0)\n",
    "# verts, faces, normals, values = measure.marching_cubes(p, 0)\n",
    "\n",
    "# mesh = Poly3DCollection(verts[faces], alpha=0.20)\n",
    "# face_color = [0.45, 0.45, 0.75]\n",
    "# mesh.set_facecolor(face_color)\n",
    "# ax.add_collection3d(mesh)\n",
    "\n",
    "### kmeans center\n",
    "axes = [x, y, z]\n",
    "data = np.zeros(axes)\n",
    "\n",
    "# for kmeans_clusters in kmeans_output:\n",
    "#     data[int(kmeans_clusters[0])][int(kmeans_clusters[1])][int(kmeans_clusters[2])] = 1\n",
    "\n",
    "if len(outliers) > 0:\n",
    "    for distrib in outliers:\n",
    "        a = coordinates[distrib[\"index\"]][0]\n",
    "        b = coordinates[distrib[\"index\"]][1]\n",
    "        c = coordinates[distrib[\"index\"]][2]\n",
    "        data[a][b][c] = 1\n",
    "    \n",
    "    p = data.transpose(2, 1, 0)\n",
    "    \n",
    "    verts, faces, normals, values = measure.marching_cubes(p, 0)\n",
    "    \n",
    "    mesh = Poly3DCollection(verts[faces], alpha=0.95)\n",
    "    face_color = [0, 0, 0]\n",
    "    mesh.set_facecolor(face_color)\n",
    "    ax.add_collection3d(mesh)\n",
    "\n",
    "ax.set_xlim(0, p.shape[0])\n",
    "ax.set_ylim(0, p.shape[1])\n",
    "ax.set_zlim(0, p.shape[2])\n",
    "\n",
    "# ax.view_init(90, 90)\n",
    "\n",
    "plt.show()"
   ]
  },
  {
   "cell_type": "code",
   "execution_count": null,
   "id": "0a3c4eab-cbb2-4740-a0b8-214d647078f0",
   "metadata": {},
   "outputs": [],
   "source": []
  }
 ],
 "metadata": {
  "kernelspec": {
   "display_name": "Python 3 (ipykernel)",
   "language": "python",
   "name": "python3"
  },
  "language_info": {
   "codemirror_mode": {
    "name": "ipython",
    "version": 3
   },
   "file_extension": ".py",
   "mimetype": "text/x-python",
   "name": "python",
   "nbconvert_exporter": "python",
   "pygments_lexer": "ipython3",
   "version": "3.8.10"
  }
 },
 "nbformat": 4,
 "nbformat_minor": 5
}
