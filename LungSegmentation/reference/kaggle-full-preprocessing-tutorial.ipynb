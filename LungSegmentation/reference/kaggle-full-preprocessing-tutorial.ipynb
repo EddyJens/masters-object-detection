{
 "cells": [
  {
   "cell_type": "code",
   "execution_count": 1,
   "metadata": {},
   "outputs": [],
   "source": [
    "### reference: https://www.kaggle.com/code/gzuidhof/full-preprocessing-tutorial#3D-plotting-the-scan"
   ]
  },
  {
   "cell_type": "code",
   "execution_count": 2,
   "metadata": {},
   "outputs": [],
   "source": [
    "import os\n",
    "import SimpleITK as sitk\n",
    "import numpy as np\n",
    "import glob"
   ]
  },
  {
   "cell_type": "code",
   "execution_count": 3,
   "metadata": {},
   "outputs": [
    {
     "name": "stdout",
     "output_type": "stream",
     "text": [
      "888\n",
      "888\n"
     ]
    }
   ],
   "source": [
    "PATH = r'D:/masters_datasets/LUNA16-original/LUNA16_Images/*.mhd'\n",
    "MASK = r'D:/masters_datasets/LUNA16-original/LUNA16_Images/*.raw'\n",
    "exams = glob.glob(PATH)\n",
    "masks = glob.glob(MASK)\n",
    "print(len(exams))\n",
    "print(len(masks))"
   ]
  },
  {
   "cell_type": "code",
   "execution_count": 4,
   "metadata": {},
   "outputs": [
    {
     "data": {
      "text/plain": [
       "'D:/masters_datasets/LUNA16-original/LUNA16_Images\\\\1.3.6.1.4.1.14519.5.2.1.6279.6001.154837327827713479309898027966.mhd'"
      ]
     },
     "execution_count": 4,
     "metadata": {},
     "output_type": "execute_result"
    }
   ],
   "source": [
    "def load_scan(path):\n",
    "    exam = sitk.ReadImage(path)\n",
    "\n",
    "exams[0]"
   ]
  },
  {
   "cell_type": "code",
   "execution_count": 5,
   "metadata": {},
   "outputs": [
    {
     "data": {
      "text/plain": [
       "['CopyInformation',\n",
       " 'EraseMetaData',\n",
       " 'EvaluateAtContinuousIndex',\n",
       " 'EvaluateAtPhysicalPoint',\n",
       " 'GetBufferAsDouble',\n",
       " 'GetBufferAsFloat',\n",
       " 'GetBufferAsInt16',\n",
       " 'GetBufferAsInt32',\n",
       " 'GetBufferAsInt64',\n",
       " 'GetBufferAsInt8',\n",
       " 'GetBufferAsUInt16',\n",
       " 'GetBufferAsUInt32',\n",
       " 'GetBufferAsUInt64',\n",
       " 'GetBufferAsUInt8',\n",
       " 'GetDepth',\n",
       " 'GetDimension',\n",
       " 'GetDirection',\n",
       " 'GetHeight',\n",
       " 'GetITKBase',\n",
       " 'GetMetaData',\n",
       " 'GetMetaDataKeys',\n",
       " 'GetNumberOfComponentsPerPixel',\n",
       " 'GetNumberOfPixels',\n",
       " 'GetOrigin',\n",
       " 'GetPixel',\n",
       " 'GetPixelID',\n",
       " 'GetPixelIDTypeAsString',\n",
       " 'GetPixelIDValue',\n",
       " 'GetSize',\n",
       " 'GetSizeOfPixelComponent',\n",
       " 'GetSpacing',\n",
       " 'GetWidth',\n",
       " 'HasMetaDataKey',\n",
       " 'IsUnique',\n",
       " 'MakeUnique',\n",
       " 'SetDirection',\n",
       " 'SetMetaData',\n",
       " 'SetOrigin',\n",
       " 'SetPixel',\n",
       " 'SetPixelAsComplexFloat64',\n",
       " 'SetSpacing',\n",
       " 'TransformContinuousIndexToPhysicalPoint',\n",
       " 'TransformIndexToPhysicalPoint',\n",
       " 'TransformPhysicalPointToContinuousIndex',\n",
       " 'TransformPhysicalPointToIndex',\n",
       " '_Image__ipaste',\n",
       " '__EvaluateAtContinuousIndex__',\n",
       " '__EvaluateAtPhysicalPoint__',\n",
       " '__GetPixelAsComplexFloat32__',\n",
       " '__GetPixelAsComplexFloat64__',\n",
       " '__GetPixelAsDouble__',\n",
       " '__GetPixelAsFloat__',\n",
       " '__GetPixelAsInt16__',\n",
       " '__GetPixelAsInt32__',\n",
       " '__GetPixelAsInt64__',\n",
       " '__GetPixelAsInt8__',\n",
       " '__GetPixelAsUInt16__',\n",
       " '__GetPixelAsUInt32__',\n",
       " '__GetPixelAsUInt64__',\n",
       " '__GetPixelAsUInt8__',\n",
       " '__GetPixelAsVectorFloat32__',\n",
       " '__GetPixelAsVectorFloat64__',\n",
       " '__GetPixelAsVectorInt16__',\n",
       " '__GetPixelAsVectorInt32__',\n",
       " '__GetPixelAsVectorInt64__',\n",
       " '__GetPixelAsVectorInt8__',\n",
       " '__GetPixelAsVectorUInt16__',\n",
       " '__GetPixelAsVectorUInt32__',\n",
       " '__GetPixelAsVectorUInt64__',\n",
       " '__GetPixelAsVectorUInt8__',\n",
       " '__SetPixelAsComplexFloat32__',\n",
       " '__SetPixelAsDouble__',\n",
       " '__SetPixelAsFloat__',\n",
       " '__SetPixelAsInt16__',\n",
       " '__SetPixelAsInt32__',\n",
       " '__SetPixelAsInt64__',\n",
       " '__SetPixelAsInt8__',\n",
       " '__SetPixelAsUInt16__',\n",
       " '__SetPixelAsUInt32__',\n",
       " '__SetPixelAsUInt64__',\n",
       " '__SetPixelAsUInt8__',\n",
       " '__SetPixelAsVectorFloat32__',\n",
       " '__SetPixelAsVectorFloat64__',\n",
       " '__SetPixelAsVectorInt16__',\n",
       " '__SetPixelAsVectorInt32__',\n",
       " '__SetPixelAsVectorInt64__',\n",
       " '__SetPixelAsVectorInt8__',\n",
       " '__SetPixelAsVectorUInt16__',\n",
       " '__SetPixelAsVectorUInt32__',\n",
       " '__SetPixelAsVectorUInt64__',\n",
       " '__SetPixelAsVectorUInt8__',\n",
       " '__abs__',\n",
       " '__add__',\n",
       " '__and__',\n",
       " '__class__',\n",
       " '__contains__',\n",
       " '__copy__',\n",
       " '__deepcopy__',\n",
       " '__delattr__',\n",
       " '__delitem__',\n",
       " '__dict__',\n",
       " '__dir__',\n",
       " '__div__',\n",
       " '__doc__',\n",
       " '__eq__',\n",
       " '__floordiv__',\n",
       " '__format__',\n",
       " '__ge__',\n",
       " '__getattribute__',\n",
       " '__getitem__',\n",
       " '__getstate__',\n",
       " '__gt__',\n",
       " '__hash__',\n",
       " '__iadd__',\n",
       " '__iand__',\n",
       " '__ifloordiv__',\n",
       " '__imod__',\n",
       " '__imul__',\n",
       " '__init__',\n",
       " '__init_subclass__',\n",
       " '__invert__',\n",
       " '__ior__',\n",
       " '__ipow__',\n",
       " '__isub__',\n",
       " '__iter__',\n",
       " '__itruediv__',\n",
       " '__ixor__',\n",
       " '__le__',\n",
       " '__len__',\n",
       " '__lt__',\n",
       " '__mod__',\n",
       " '__module__',\n",
       " '__mul__',\n",
       " '__ne__',\n",
       " '__neg__',\n",
       " '__new__',\n",
       " '__or__',\n",
       " '__pos__',\n",
       " '__pow__',\n",
       " '__radd__',\n",
       " '__rand__',\n",
       " '__rdiv__',\n",
       " '__reduce__',\n",
       " '__reduce_ex__',\n",
       " '__repr__',\n",
       " '__rfloordiv__',\n",
       " '__rmul__',\n",
       " '__ror__',\n",
       " '__rpow__',\n",
       " '__rsub__',\n",
       " '__rtruediv__',\n",
       " '__rxor__',\n",
       " '__setattr__',\n",
       " '__setitem__',\n",
       " '__setstate__',\n",
       " '__sizeof__',\n",
       " '__str__',\n",
       " '__sub__',\n",
       " '__subclasshook__',\n",
       " '__swig_destroy__',\n",
       " '__truediv__',\n",
       " '__weakref__',\n",
       " '__xor__',\n",
       " '_expand_ellipsis',\n",
       " '_tuple_to_py_type',\n",
       " 'this',\n",
       " 'thisown']"
      ]
     },
     "execution_count": 5,
     "metadata": {},
     "output_type": "execute_result"
    }
   ],
   "source": [
    "exam = sitk.ReadImage(exams[0])\n",
    "dir(exam)"
   ]
  },
  {
   "cell_type": "code",
   "execution_count": 6,
   "metadata": {},
   "outputs": [
    {
     "name": "stdout",
     "output_type": "stream",
     "text": [
      "3\n",
      "244\n",
      "512\n",
      "512\n"
     ]
    }
   ],
   "source": [
    "print(exam.GetDimension())\n",
    "print(exam.GetDepth())\n",
    "print(exam.GetHeight())\n",
    "print(exam.GetWidth())"
   ]
  },
  {
   "cell_type": "code",
   "execution_count": null,
   "metadata": {},
   "outputs": [],
   "source": []
  }
 ],
 "metadata": {
  "kernelspec": {
   "display_name": "objectLungCT",
   "language": "python",
   "name": "python3"
  },
  "language_info": {
   "codemirror_mode": {
    "name": "ipython",
    "version": 3
   },
   "file_extension": ".py",
   "mimetype": "text/x-python",
   "name": "python",
   "nbconvert_exporter": "python",
   "pygments_lexer": "ipython3",
   "version": "3.11.3"
  },
  "orig_nbformat": 4
 },
 "nbformat": 4,
 "nbformat_minor": 2
}
