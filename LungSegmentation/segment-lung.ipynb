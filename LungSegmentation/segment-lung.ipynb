{
 "cells": [
  {
   "cell_type": "code",
   "execution_count": 1,
   "metadata": {},
   "outputs": [],
   "source": [
    "### https://github.com/s-mostafa-a/Luna16/blob/master/notebooks/Preprocessor.ipynb"
   ]
  },
  {
   "cell_type": "code",
   "execution_count": 2,
   "metadata": {},
   "outputs": [],
   "source": [
    "import SimpleITK as sitk\n",
    "import numpy as np\n",
    "import glob\n",
    "from matplotlib import pyplot as plt\n",
    "import scipy\n",
    "from skimage.segmentation import clear_border\n",
    "from skimage.measure import label, regionprops\n",
    "from scipy import ndimage as ndi\n",
    "from skimage.filters import roberts\n",
    "from skimage.morphology import convex_hull_image, disk, binary_closing\n",
    "from tqdm import tqdm\n",
    "\n",
    "import sys\n",
    "sys.path.append('/workspace/masters-object-detection')\n",
    "from utils import load_itk"
   ]
  },
  {
   "cell_type": "code",
   "execution_count": null,
   "metadata": {},
   "outputs": [],
   "source": [
    "INPUT_FOLDER = r'D:/masters_datasets/LUNA16-original/LUNA16_Images/*.mhd'\n",
    "file_list = glob.glob(INPUT_FOLDER)\n",
    "print(len(file_list))\n",
    "file_list.sort()"
   ]
  },
  {
   "attachments": {},
   "cell_type": "markdown",
   "metadata": {
    "jp-MarkdownHeadingCollapsed": true
   },
   "source": [
    "### running into a single exam"
   ]
  },
  {
   "cell_type": "code",
   "execution_count": null,
   "metadata": {},
   "outputs": [],
   "source": [
    "INPUT_FOLDER = r'D:/masters_datasets/LUNA16-original/LUNA16_Images/*.mhd'\n",
    "file_list = glob.glob(INPUT_FOLDER)\n",
    "print(len(file_list))\n",
    "file_list.sort()"
   ]
  },
  {
   "cell_type": "code",
   "execution_count": null,
   "metadata": {},
   "outputs": [],
   "source": [
    "import os\n",
    "\n",
    "os.listdir('/data/')"
   ]
  },
  {
   "cell_type": "code",
   "execution_count": null,
   "metadata": {},
   "outputs": [],
   "source": [
    "img, origin, spacing = load_itk(file_list[0])\n",
    "first_patient_pixels = img\n",
    "plt.hist(first_patient_pixels.flatten(), bins=80, color='c')\n",
    "plt.xlabel(\"Hounsfield Units (HU)\")\n",
    "plt.ylabel(\"Frequency\")\n",
    "plt.show()"
   ]
  },
  {
   "cell_type": "code",
   "execution_count": null,
   "metadata": {},
   "outputs": [],
   "source": [
    "def resample(image, previous_spacing, new_spacing=[1,1,1]):\n",
    "    # Determine current pixel spacing\n",
    "    spacing = np.array(previous_spacing, dtype=np.float32)\n",
    "    resize_factor = spacing / new_spacing\n",
    "    new_real_shape = image.shape * resize_factor\n",
    "    new_shape = np.round(new_real_shape)\n",
    "    real_resize_factor = new_shape / image.shape\n",
    "    new_spacing = spacing / real_resize_factor\n",
    "    \n",
    "    image = scipy.ndimage.interpolation.zoom(image, real_resize_factor, mode='nearest')\n",
    "    \n",
    "    return image, new_spacing"
   ]
  },
  {
   "cell_type": "code",
   "execution_count": null,
   "metadata": {},
   "outputs": [],
   "source": [
    "img2, spacing2 = resample(img, spacing)"
   ]
  },
  {
   "cell_type": "code",
   "execution_count": null,
   "metadata": {},
   "outputs": [],
   "source": [
    "print(img.shape, spacing)\n",
    "print(img2.shape, spacing2)"
   ]
  },
  {
   "cell_type": "code",
   "execution_count": null,
   "metadata": {},
   "outputs": [],
   "source": [
    "int('aa')"
   ]
  },
  {
   "cell_type": "code",
   "execution_count": null,
   "metadata": {},
   "outputs": [],
   "source": [
    "def get_segmented_lungs(im, plot=False):\n",
    "    '''\n",
    "    This funtion segments the lungs from the given 2D slice.\n",
    "    '''\n",
    "    plt_number = 0\n",
    "    # Original image label: 0\n",
    "    if plot:\n",
    "        f, plots = plt.subplots(12, 1, figsize=(5, 40))\n",
    "        plots[plt_number].axis('off')\n",
    "        plots[plt_number].set_title(f'{plt_number}')\n",
    "        plots[plt_number].imshow(im, cmap=plt.cm.bone)\n",
    "        plt_number += 1\n",
    "\n",
    "    # Step 1: Convert into a binary image.\n",
    "    # image label: 1\n",
    "    binary = im < -604\n",
    "    if plot:\n",
    "        plots[plt_number].axis('off')\n",
    "        plots[plt_number].set_title(f'{plt_number}')\n",
    "        plots[plt_number].imshow(binary, cmap=plt.cm.bone)\n",
    "        plt_number += 1\n",
    "    # Step 2: Remove the blobs connected to the border of the image.\n",
    "    # image label: 2\n",
    "    cleared = clear_border(binary)\n",
    "    if plot:\n",
    "        plots[plt_number].axis('off')\n",
    "        plots[plt_number].set_title(f'{plt_number}')\n",
    "        plots[plt_number].imshow(cleared, cmap=plt.cm.bone)\n",
    "        plt_number += 1\n",
    "    # Step 3: Label the image.\n",
    "    # image label: 3\n",
    "    label_image = label(cleared)\n",
    "    if plot:\n",
    "        plots[plt_number].axis('off')\n",
    "        plots[plt_number].set_title(f'{plt_number}')\n",
    "        plots[plt_number].imshow(label_image, cmap=plt.cm.bone)\n",
    "        plt_number += 1\n",
    "\n",
    "    # Step 4: Keep the labels with 2 largest areas and segment two lungs.\n",
    "    # image label: 4\n",
    "    areas = [r.area for r in regionprops(label_image)]\n",
    "    areas.sort()\n",
    "    labels = []\n",
    "    if len(areas) > 2:\n",
    "        for region in regionprops(label_image):\n",
    "            if region.area < areas[-2]:\n",
    "                for coordinates in region.coords:\n",
    "                    label_image[coordinates[0], coordinates[1]] = 0\n",
    "            else:\n",
    "                coordinates = region.coords[0]\n",
    "                labels.append(label_image[coordinates[0], coordinates[1]])\n",
    "    else:\n",
    "        labels = [1, 2]\n",
    "    if plot:\n",
    "        plots[plt_number].axis('off')\n",
    "        plots[plt_number].set_title(f'{plt_number}')\n",
    "        plots[plt_number].imshow(label_image, cmap=plt.cm.bone)\n",
    "        plt_number += 1\n",
    "    # Step 5: Fill in the small holes inside the mask of lungs which we \n",
    "    # seperate right and left lung. r and l are symbolic and they can be \n",
    "    # actually left and right!\n",
    "    # image labels: 5, 6\n",
    "    r = label_image == labels[0]\n",
    "    l = label_image == labels[1]\n",
    "    r_edges = roberts(r)\n",
    "    l_edges = roberts(l)\n",
    "    r = ndi.binary_fill_holes(r_edges)\n",
    "    l = ndi.binary_fill_holes(l_edges)\n",
    "    if plot:\n",
    "        plots[plt_number].axis('off')\n",
    "        plots[plt_number].set_title(f'{plt_number}')\n",
    "        plots[plt_number].imshow(r, cmap=plt.cm.bone)\n",
    "        plt_number += 1\n",
    "\n",
    "        plots[plt_number].axis('off')\n",
    "        plots[plt_number].set_title(f'{plt_number}')\n",
    "        plots[plt_number].imshow(l, cmap=plt.cm.bone)\n",
    "        plt_number += 1\n",
    "\n",
    "    # Step 6: convex hull of each lung\n",
    "    # image labels: 7, 8\n",
    "    r = convex_hull_image(r)\n",
    "    l = convex_hull_image(l)\n",
    "    if plot:\n",
    "        plots[plt_number].axis('off')\n",
    "        plots[plt_number].set_title(f'{plt_number}')\n",
    "        plots[plt_number].imshow(r, cmap=plt.cm.bone)\n",
    "        plt_number += 1\n",
    "\n",
    "        plots[plt_number].axis('off')\n",
    "        plots[plt_number].set_title(f'{plt_number}')\n",
    "        plots[plt_number].imshow(l, cmap=plt.cm.bone)\n",
    "        plt_number += 1\n",
    "    # Step 7: joint two separated right and left lungs.\n",
    "    # image label: 9\n",
    "    sum_of_lr = r + l\n",
    "    binary = sum_of_lr > 0\n",
    "    if plot:\n",
    "        plots[plt_number].axis('off')\n",
    "        plots[plt_number].set_title(f'{plt_number}')\n",
    "        plots[plt_number].imshow(binary, cmap=plt.cm.bone)\n",
    "        plt_number += 1\n",
    "    # Step 8: Closure operation with a disk of radius 10. This operation is\n",
    "    # to keep nodules attached to the lung wall.\n",
    "    # image label: 10\n",
    "    selem = disk(10)\n",
    "    binary = binary_closing(binary, selem)\n",
    "    if plot:\n",
    "        plots[plt_number].axis('off')\n",
    "        plots[plt_number].set_title(f'{plt_number}')\n",
    "        plots[plt_number].imshow(binary, cmap=plt.cm.bone)\n",
    "        plt_number += 1\n",
    "    # Step 9: Superimpose the binary mask on the input image.\n",
    "    # image label: 11\n",
    "    get_high_vals = binary == 0\n",
    "    im[get_high_vals] = 0\n",
    "    if plot:\n",
    "        plots[plt_number].axis('off')\n",
    "        plots[plt_number].set_title(f'{plt_number}')\n",
    "        plots[plt_number].imshow(im, cmap=plt.cm.bone)\n",
    "        plt_number += 1\n",
    "\n",
    "    # return im\n",
    "    return binary * 1"
   ]
  },
  {
   "cell_type": "code",
   "execution_count": null,
   "metadata": {},
   "outputs": [],
   "source": [
    "# tmp_2d_img = get_segmented_lungs(img2[200,:,:], True)"
   ]
  },
  {
   "cell_type": "code",
   "execution_count": null,
   "metadata": {},
   "outputs": [],
   "source": [
    "img3 = np.asarray([get_segmented_lungs(im) for im in img2])"
   ]
  },
  {
   "cell_type": "code",
   "execution_count": null,
   "metadata": {},
   "outputs": [],
   "source": [
    "# plt.imshow(img3[201,:,:], cmap=plt.cm.bone)\n",
    "# plt.show()"
   ]
  },
  {
   "cell_type": "code",
   "execution_count": null,
   "metadata": {},
   "outputs": [],
   "source": [
    "# plt.imshow(first_patient_pixels[int(201*733/366),:,:], cmap=plt.cm.bone)\n",
    "# plt.show()"
   ]
  },
  {
   "cell_type": "code",
   "execution_count": null,
   "metadata": {},
   "outputs": [],
   "source": [
    "def normalize(image):\n",
    "    MIN_BOUND = -1200\n",
    "    MAX_BOUND = 600.\n",
    "    image2 = (image - MIN_BOUND) / (MAX_BOUND - MIN_BOUND)\n",
    "    image2[image2 > 1] = 1.\n",
    "    image2[image2 < 0] = 0.\n",
    "    image2 *= 255.\n",
    "    return image2"
   ]
  },
  {
   "cell_type": "code",
   "execution_count": null,
   "metadata": {},
   "outputs": [],
   "source": [
    "img4 = normalize(img3)"
   ]
  },
  {
   "cell_type": "code",
   "execution_count": null,
   "metadata": {},
   "outputs": [],
   "source": [
    "# plt.imshow(img4[201,:,:], cmap=plt.cm.bone)\n",
    "# plt.show()"
   ]
  },
  {
   "cell_type": "code",
   "execution_count": null,
   "metadata": {},
   "outputs": [],
   "source": [
    "def zero_center(image):\n",
    "    PIXEL_MEAN = 0.25 * 256\n",
    "    image2 = image - PIXEL_MEAN\n",
    "    return image2"
   ]
  },
  {
   "cell_type": "code",
   "execution_count": null,
   "metadata": {},
   "outputs": [],
   "source": [
    "img5 = zero_center(img4)"
   ]
  },
  {
   "cell_type": "code",
   "execution_count": null,
   "metadata": {},
   "outputs": [],
   "source": [
    "# plt.imshow(img5[200,:,:], cmap=plt.cm.bone)\n",
    "# plt.show()"
   ]
  },
  {
   "attachments": {},
   "cell_type": "markdown",
   "metadata": {},
   "source": [
    "### running into multiple exams and saving resulting masks and preview"
   ]
  },
  {
   "cell_type": "code",
   "execution_count": null,
   "metadata": {},
   "outputs": [],
   "source": [
    "from skimage import measure\n",
    "from mpl_toolkits.mplot3d.art3d import Poly3DCollection\n",
    "import os\n",
    "import matplotlib\n",
    "\n",
    "for file in tqdm(file_list):\n",
    "    img, origin, spacing = load_itk(file)\n",
    "    img2, spacing2 = resample(img, spacing)\n",
    "    img3 = np.asarray([get_segmented_lungs(im) for im in img2])\n",
    "\n",
    "    raw_name = file.split('\\\\')[-1].split('.mhd')[0]\n",
    "\n",
    "    ### visualize generated masks\n",
    "\n",
    "    if not os.path.exists('preview/' + raw_name + 'png'):\n",
    "        p = img3.transpose(2, 1, 0)\n",
    "        verts, faces, normals, values = measure.marching_cubes(p, 0)\n",
    "\n",
    "        fig = plt.figure(figsize=(10, 10))\n",
    "        ax = fig.add_subplot(111, projection='3d')\n",
    "\n",
    "        mesh = Poly3DCollection(verts[faces], alpha=0.20)\n",
    "        face_color = [0.45, 0.45, 0.75]\n",
    "        mesh.set_facecolor(face_color)\n",
    "        ax.add_collection3d(mesh)\n",
    "\n",
    "        ax.set_xlim(0, p.shape[0])\n",
    "        ax.set_ylim(0, p.shape[1])\n",
    "        ax.set_zlim(0, p.shape[2])\n",
    "\n",
    "        plt.savefig('preview/' + raw_name + '.png')\n",
    "        plt.close()\n",
    "        matplotlib.use('Agg')\n",
    "\n",
    "    ### saving masks\n",
    "    current_name = raw_name + '.nrrd'\n",
    "    if not os.path.exists(current_name):\n",
    "        ma = sitk.GetImageFromArray(img3)\n",
    "        sitk.WriteImage(\n",
    "            ma,\n",
    "            'output/' + current_name, True\n",
    "        )"
   ]
  },
  {
   "cell_type": "code",
   "execution_count": null,
   "metadata": {},
   "outputs": [],
   "source": [
    "### perform the same resampling into coordinates\n",
    "### run code to verify if all coordinates fit the lungs found "
   ]
  },
  {
   "cell_type": "code",
   "execution_count": null,
   "metadata": {},
   "outputs": [],
   "source": []
  }
 ],
 "metadata": {
  "kernelspec": {
   "display_name": "Python 3 (ipykernel)",
   "language": "python",
   "name": "python3"
  },
  "language_info": {
   "codemirror_mode": {
    "name": "ipython",
    "version": 3
   },
   "file_extension": ".py",
   "mimetype": "text/x-python",
   "name": "python",
   "nbconvert_exporter": "python",
   "pygments_lexer": "ipython3",
   "version": "3.8.10"
  }
 },
 "nbformat": 4,
 "nbformat_minor": 4
}
