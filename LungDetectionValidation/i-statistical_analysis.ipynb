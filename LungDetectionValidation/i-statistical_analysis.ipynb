{
 "cells": [
  {
   "cell_type": "code",
   "execution_count": 1,
   "metadata": {},
   "outputs": [],
   "source": [
    "# ref: https://www.reneshbedre.com/blog/anova.html\n",
    "# need to use ANOVA one way, because there are 3 groups, and only one variable will be tested (sensitivity)"
   ]
  },
  {
   "cell_type": "markdown",
   "metadata": {},
   "source": [
    "Parametric test assumptions:\n",
    "\n",
    "- Population distributions are normal\n",
    "- Samples have equal variances\n",
    "- Independence"
   ]
  },
  {
   "cell_type": "markdown",
   "metadata": {},
   "source": [
    "### normality test"
   ]
  },
  {
   "cell_type": "code",
   "execution_count": 2,
   "metadata": {},
   "outputs": [],
   "source": [
    "import pandas as pd\n",
    "from scipy import stats\n",
    "import numpy as np\n",
    "from ast import literal_eval\n",
    "import statistics"
   ]
  },
  {
   "cell_type": "code",
   "execution_count": 3,
   "metadata": {},
   "outputs": [
    {
     "name": "stdout",
     "output_type": "stream",
     "text": [
      "(1, 5)\n"
     ]
    }
   ],
   "source": [
    "msd_path = '/data/output/validation/each_window/msd/all_total_sensitivity.xlsx'\n",
    "content1 = pd.read_excel(msd_path)\n",
    "print(content1.shape)\n",
    "content1['a1'] = content1['a1'].apply(\n",
    "    lambda x:literal_eval(x.replace('\\n', '').replace(' ', ',').replace(',,,,,,,,', '')))\n",
    "content1['a2'] = content1['a2'].apply(\n",
    "    lambda x:literal_eval(x.replace('\\n', '').replace(' ', ',').replace(',,,,,,,,', '')))\n",
    "content1['a3'] = content1['a3'].apply(\n",
    "    lambda x:literal_eval(x.replace('\\n', '').replace(' ', ',').replace(',,,,,,,,', '')))\n",
    "content1['a4'] = content1['a4'].apply(\n",
    "    lambda x:literal_eval(x.replace('\\n', '').replace(' ', ',').replace(',,,,,,,,', '')))\n",
    "content1['all'] = content1['all'].apply(\n",
    "    lambda x:literal_eval(x.replace('\\n', '').replace(' ', ',').replace(',,,,,,,,', '')))"
   ]
  },
  {
   "cell_type": "code",
   "execution_count": 4,
   "metadata": {},
   "outputs": [
    {
     "name": "stdout",
     "output_type": "stream",
     "text": [
      "(1, 5)\n"
     ]
    }
   ],
   "source": [
    "hc_path = '/data/output/validation/each_window/hc/all_total_sensitivity.xlsx'\n",
    "content2 = pd.read_excel(hc_path)\n",
    "print(content2.shape)\n",
    "content2['a1'] = content2['a1'].apply(\n",
    "    lambda x:literal_eval(x.replace(' ', ',').replace(',,,,,,,,', '').replace(',,', ',')))\n",
    "content2['a2'] = content2['a2'].apply(\n",
    "    lambda x:literal_eval(x.replace(' ', ',').replace(',,,,,,,,', '').replace(',,', ',')))\n",
    "content2['a3'] = content2['a3'].apply(\n",
    "    lambda x:literal_eval(x.replace(' ', ',').replace(',,,,,,,,', '').replace(',,', ',')))\n",
    "content2['a4'] = content2['a4'].apply(\n",
    "    lambda x:literal_eval(x.replace(' ', ',').replace(',,,,,,,,', '').replace(',,', ',')))\n",
    "content2['all'] = content2['all'].apply(\n",
    "    lambda x:literal_eval(x.replace(' ', ',').replace(',,,,,,,,', '').replace(',,', ',')))"
   ]
  },
  {
   "cell_type": "code",
   "execution_count": 5,
   "metadata": {},
   "outputs": [
    {
     "name": "stdout",
     "output_type": "stream",
     "text": [
      "(1, 5)\n"
     ]
    }
   ],
   "source": [
    "luna_path = '/data/output/validation/each_window/luna/all_total_sensitivity.xlsx'\n",
    "content3 = pd.read_excel(luna_path)\n",
    "print(content3.shape)\n",
    "content3['a1'] = content3['a1'].apply(\n",
    "    lambda x:literal_eval(x.replace(' ', ',').replace(',,', ',').replace(',,,,', '')))\n",
    "content3['a2'] = content3['a2'].apply(\n",
    "    lambda x:literal_eval(x.replace(' ', ',').replace(',,', ',').replace(',,,,', '')))\n",
    "content3['a3'] = content3['a3'].apply(\n",
    "    lambda x:literal_eval(x.replace(' ', ',').replace(',,', ',').replace(',,,,', '')))\n",
    "content3['a4'] = content3['a4'].apply(\n",
    "    lambda x:literal_eval(x.replace(' ', ',').replace(',,', ',').replace(',,,,', '')))\n",
    "content3['all'] = content3['all'].apply(\n",
    "    lambda x:literal_eval(x.replace(' ', ',').replace(',,', ',').replace(',,,,', '').replace(',,', ',')))"
   ]
  },
  {
   "cell_type": "markdown",
   "metadata": {},
   "source": [
    "#### shapiro"
   ]
  },
  {
   "cell_type": "code",
   "execution_count": 6,
   "metadata": {},
   "outputs": [
    {
     "name": "stdout",
     "output_type": "stream",
     "text": [
      "0.6346458196640015\n",
      "0.92558354139328\n",
      "0.8653085827827454\n",
      "0.8674497008323669\n",
      "0.8258815407752991\n"
     ]
    }
   ],
   "source": [
    "res1 = stats.shapiro(np.array(content1['a1'][0]))\n",
    "res2 = stats.shapiro(np.array(content1['a2'][0]))\n",
    "res3 = stats.shapiro(np.array(content1['a3'][0]))\n",
    "res4 = stats.shapiro(np.array(content1['a4'][0]))\n",
    "res_all = stats.shapiro(np.array(content1['all'][0]))\n",
    "print(res1.statistic)\n",
    "print(res2.statistic)\n",
    "print(res3.statistic)\n",
    "print(res4.statistic)\n",
    "print(res_all.statistic)"
   ]
  },
  {
   "cell_type": "code",
   "execution_count": 7,
   "metadata": {},
   "outputs": [
    {
     "name": "stdout",
     "output_type": "stream",
     "text": [
      "0.3257763981819153\n",
      "0.6452004909515381\n",
      "0.7442408800125122\n",
      "0.3241959810256958\n",
      "0.6645933389663696\n"
     ]
    }
   ],
   "source": [
    "res1 = stats.shapiro(np.array(content2['a1'][0]))\n",
    "res2 = stats.shapiro(np.array(content2['a2'][0]))\n",
    "res3 = stats.shapiro(np.array(content2['a3'][0]))\n",
    "res4 = stats.shapiro(np.array(content2['a4'][0]))\n",
    "res_all = stats.shapiro(np.array(content2['all'][0]))\n",
    "print(res1.statistic)\n",
    "print(res2.statistic)\n",
    "print(res3.statistic)\n",
    "print(res4.statistic)\n",
    "print(res_all.statistic)"
   ]
  },
  {
   "cell_type": "code",
   "execution_count": 8,
   "metadata": {},
   "outputs": [
    {
     "name": "stdout",
     "output_type": "stream",
     "text": [
      "0.6069111824035645\n",
      "0.4999508261680603\n",
      "0.5413211584091187\n",
      "0.6117716431617737\n",
      "0.5038930177688599\n"
     ]
    }
   ],
   "source": [
    "res1 = stats.shapiro(np.array(content3['a1'][0]))\n",
    "res2 = stats.shapiro(np.array(content3['a2'][0]))\n",
    "res3 = stats.shapiro(np.array(content3['a3'][0]))\n",
    "res4 = stats.shapiro(np.array(content3['a4'][0]))\n",
    "res_all = stats.shapiro(np.array(content3['all'][0]))\n",
    "print(res1.statistic)\n",
    "print(res2.statistic)\n",
    "print(res3.statistic)\n",
    "print(res4.statistic)\n",
    "print(res_all.statistic)"
   ]
  },
  {
   "cell_type": "markdown",
   "metadata": {},
   "source": [
    "### Variance"
   ]
  },
  {
   "cell_type": "code",
   "execution_count": 9,
   "metadata": {},
   "outputs": [
    {
     "name": "stdout",
     "output_type": "stream",
     "text": [
      "0.031454553341680215\n",
      "0.02351266951569735\n",
      "0.007606908021031948\n"
     ]
    }
   ],
   "source": [
    "print(statistics.variance(content1['all'][0]))\n",
    "print(statistics.variance(content2['all'][0]))\n",
    "print(statistics.variance(content3['all'][0]))"
   ]
  },
  {
   "cell_type": "code",
   "execution_count": 10,
   "metadata": {},
   "outputs": [
    {
     "data": {
      "text/plain": [
       "LeveneResult(statistic=43.46775169093176, pvalue=1.8868229535158144e-18)"
      ]
     },
     "execution_count": 10,
     "metadata": {},
     "output_type": "execute_result"
    }
   ],
   "source": [
    "# ref: https://www.statology.org/brown-forsythe-test-in-python/\n",
    "stats.levene(content1['all'][0], content2['all'][0], content3['all'][0], center='median')\n",
    "# pvalue smaller than 0.05, we reject the null hypotheses - the variances among the populations are not equal"
   ]
  },
  {
   "cell_type": "markdown",
   "metadata": {},
   "source": [
    "### Anova"
   ]
  },
  {
   "cell_type": "markdown",
   "metadata": {},
   "source": [
    "#### MSD"
   ]
  },
  {
   "cell_type": "code",
   "execution_count": 11,
   "metadata": {},
   "outputs": [
    {
     "name": "stdout",
     "output_type": "stream",
     "text": [
      "94.7982216739337 9.280436932853362e-48\n"
     ]
    }
   ],
   "source": [
    "fvalue, pvalue = stats.f_oneway(\n",
    "    content1['a1'][0],\n",
    "    content1['a2'][0],\n",
    "    content1['a3'][0],\n",
    "    content1['a4'][0]\n",
    ")\n",
    "print(fvalue, pvalue)"
   ]
  },
  {
   "cell_type": "markdown",
   "metadata": {},
   "source": [
    "#### HC"
   ]
  },
  {
   "cell_type": "code",
   "execution_count": 12,
   "metadata": {},
   "outputs": [
    {
     "name": "stdout",
     "output_type": "stream",
     "text": [
      "6.443679068728473 0.0002717257015175818\n"
     ]
    }
   ],
   "source": [
    "fvalue, pvalue = stats.f_oneway(\n",
    "    content2['a1'][0],\n",
    "    content2['a2'][0],\n",
    "    content2['a3'][0],\n",
    "    content2['a4'][0]\n",
    ")\n",
    "print(fvalue, pvalue)"
   ]
  },
  {
   "cell_type": "markdown",
   "metadata": {},
   "source": [
    "#### LUNA16"
   ]
  },
  {
   "cell_type": "code",
   "execution_count": 13,
   "metadata": {},
   "outputs": [
    {
     "name": "stdout",
     "output_type": "stream",
     "text": [
      "88.43804179424905 1.2780981825456345e-52\n"
     ]
    }
   ],
   "source": [
    "fvalue, pvalue = stats.f_oneway(\n",
    "    content3['a1'][0],\n",
    "    content3['a2'][0],\n",
    "    content3['a3'][0],\n",
    "    content3['a4'][0]\n",
    ")\n",
    "print(fvalue, pvalue)"
   ]
  },
  {
   "cell_type": "code",
   "execution_count": 14,
   "metadata": {},
   "outputs": [
    {
     "name": "stdout",
     "output_type": "stream",
     "text": [
      "109.28079183173033 1.1313651843212918e-41\n"
     ]
    }
   ],
   "source": [
    "fvalue, pvalue = stats.f_oneway(\n",
    "    content1['all'][0],\n",
    "    content2['all'][0],\n",
    "    content3['all'][0]\n",
    ")\n",
    "print(fvalue, pvalue)"
   ]
  },
  {
   "cell_type": "code",
   "execution_count": 15,
   "metadata": {},
   "outputs": [
    {
     "name": "stdout",
     "output_type": "stream",
     "text": [
      "Tukey's HSD Pairwise Group Comparisons (95.0% Confidence Interval)\n",
      "Comparison  Statistic  p-value  Lower CI  Upper CI\n",
      " (0 - 1)     -0.070     0.000    -0.108    -0.032\n",
      " (0 - 2)     -0.176     0.000    -0.207    -0.146\n",
      " (1 - 0)      0.070     0.000     0.032     0.108\n",
      " (1 - 2)     -0.106     0.000    -0.135    -0.077\n",
      " (2 - 0)      0.176     0.000     0.146     0.207\n",
      " (2 - 1)      0.106     0.000     0.077     0.135\n",
      "\n"
     ]
    }
   ],
   "source": [
    "res = stats.tukey_hsd(\n",
    "    content1['all'][0],\n",
    "    content2['all'][0],\n",
    "    content3['all'][0]\n",
    ")\n",
    "print(res)"
   ]
  },
  {
   "cell_type": "code",
   "execution_count": 16,
   "metadata": {},
   "outputs": [
    {
     "data": {
      "text/plain": [
       "KruskalResult(statistic=263.665924070787, pvalue=5.567651650252516e-58)"
      ]
     },
     "execution_count": 16,
     "metadata": {},
     "output_type": "execute_result"
    }
   ],
   "source": [
    "stats.kruskal(\n",
    "    content1['all'][0],\n",
    "    content2['all'][0],\n",
    "    content3['all'][0]\n",
    ")"
   ]
  },
  {
   "cell_type": "code",
   "execution_count": 20,
   "metadata": {},
   "outputs": [
    {
     "data": {
      "text/plain": [
       "436"
      ]
     },
     "execution_count": 20,
     "metadata": {},
     "output_type": "execute_result"
    }
   ],
   "source": [
    "len(content3['all'][0])"
   ]
  },
  {
   "cell_type": "code",
   "execution_count": null,
   "metadata": {},
   "outputs": [],
   "source": []
  }
 ],
 "metadata": {
  "kernelspec": {
   "display_name": "Python 3",
   "language": "python",
   "name": "python3"
  },
  "language_info": {
   "codemirror_mode": {
    "name": "ipython",
    "version": 3
   },
   "file_extension": ".py",
   "mimetype": "text/x-python",
   "name": "python",
   "nbconvert_exporter": "python",
   "pygments_lexer": "ipython3",
   "version": "3.8.10"
  }
 },
 "nbformat": 4,
 "nbformat_minor": 2
}
