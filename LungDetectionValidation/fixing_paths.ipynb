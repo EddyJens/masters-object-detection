{
 "cells": [
  {
   "cell_type": "code",
   "execution_count": 1,
   "id": "eee6b0a7-6909-47c9-a8d2-a0240223c139",
   "metadata": {},
   "outputs": [],
   "source": [
    "import json\n",
    "from tqdm import tqdm"
   ]
  },
  {
   "cell_type": "code",
   "execution_count": 2,
   "id": "585c3e9d-9791-4073-894f-26a8f46dfb09",
   "metadata": {
    "scrolled": true
   },
   "outputs": [
    {
     "name": "stderr",
     "output_type": "stream",
     "text": [
      "100%|██████████| 155/155 [00:00<00:00, 403548.80it/s]\n"
     ]
    }
   ],
   "source": [
    "f = open('/data/output/validation/mixed_test.json')\n",
    "data = json.load(f)\n",
    "\n",
    "hc_path = '/data/HC_Images_resample/'\n",
    "msd_path = '/data/MSD_Images_resample/'\n",
    "luna_path = '/data/LUNA16_Images_resample/'\n",
    "\n",
    "fixed_path = []\n",
    "\n",
    "for content in tqdm(data['test']):\n",
    "\n",
    "    if 'PL' in content['image']:\n",
    "        fixed_path.append({\n",
    "            \"box\": content['box'],\n",
    "            \"image\": hc_path + content['image'],\n",
    "            \"label\": content['label'],\n",
    "            \"score\": content['score']\n",
    "        })\n",
    "    elif 'lung' in content['image']:\n",
    "        fixed_path.append({\n",
    "            \"box\": content['box'],\n",
    "            \"image\": msd_path + content['image'],\n",
    "            \"label\": content['label'],\n",
    "            \"score\": content['score']\n",
    "        })\n",
    "    else:\n",
    "        fixed_path.append({\n",
    "            \"box\": content['box'],\n",
    "            \"image\": luna_path + content['image'],\n",
    "            \"label\": content['label'],\n",
    "            \"score\": content['score']\n",
    "        })\n",
    "\n",
    "value = {\n",
    "    \"test\": fixed_path\n",
    "}\n",
    "with open('/data/output/mixed_test.json', 'w') as write_file:\n",
    "    json.dump(value, write_file, indent=4)"
   ]
  },
  {
   "cell_type": "code",
   "execution_count": 3,
   "id": "a3a8ccd9-aa05-4d1c-bbfa-b31b5acf2bc0",
   "metadata": {
    "jupyter": {
     "source_hidden": true
    }
   },
   "outputs": [
    {
     "name": "stderr",
     "output_type": "stream",
     "text": [
      "100%|██████████| 488/488 [00:00<00:00, 1012776.03it/s]\n",
      "100%|██████████| 122/122 [00:00<00:00, 119585.20it/s]\n"
     ]
    }
   ],
   "source": [
    "# f = open('/data/output/mixed_data/mixed_train_val0.json')\n",
    "# data = json.load(f)\n",
    "\n",
    "# hc_path = '/data/HC_Images_resample/'\n",
    "# msd_path = '/data/MSD_Images_resample/'\n",
    "# luna_path = '/data/LUNA16_Images_resample/'\n",
    "\n",
    "# fixed_path_aux = []\n",
    "# fixed_path = []\n",
    "# train = []\n",
    "# val = []\n",
    "\n",
    "# for orig in ['training', 'validation']:\n",
    "#     for content in tqdm(data[orig]):\n",
    "#         if 'PL' in content['image']:\n",
    "#             fixed_path_aux.append({\n",
    "#                 \"box\": content['box'],\n",
    "#                 \"image\": hc_path + content['image'],\n",
    "#                 \"label\": content['label']\n",
    "#             })\n",
    "#         elif 'lung' in content['image']:\n",
    "#             fixed_path_aux.append({\n",
    "#                 \"box\": content['box'],\n",
    "#                 \"image\": msd_path + content['image'],\n",
    "#                 \"label\": content['label']\n",
    "#             })\n",
    "#         else:\n",
    "#             fixed_path_aux.append({\n",
    "#                 \"box\": content['box'],\n",
    "#                 \"image\": luna_path + content['image'],\n",
    "#                 \"label\": content['label']\n",
    "#             })\n",
    "\n",
    "#     if orig == 'training':\n",
    "#         train = fixed_path_aux\n",
    "#     if orig == 'validation':\n",
    "#         val = fixed_path_aux\n",
    "#     fixed_path_aux = []\n",
    "\n",
    "# fixed_path = {\n",
    "#     \"training\": train,\n",
    "#     \"validation\": val\n",
    "# }\n",
    "\n",
    "# with open('/data/output/mixed_train_val0.json', 'w') as write_file:\n",
    "#     json.dump(fixed_path, write_file, indent=4)"
   ]
  },
  {
   "cell_type": "code",
   "execution_count": null,
   "id": "4db6c50f-1bff-4cf0-bd5e-5bed8d8e272c",
   "metadata": {},
   "outputs": [],
   "source": []
  }
 ],
 "metadata": {
  "kernelspec": {
   "display_name": "Python 3 (ipykernel)",
   "language": "python",
   "name": "python3"
  },
  "language_info": {
   "codemirror_mode": {
    "name": "ipython",
    "version": 3
   },
   "file_extension": ".py",
   "mimetype": "text/x-python",
   "name": "python",
   "nbconvert_exporter": "python",
   "pygments_lexer": "ipython3",
   "version": "3.8.10"
  }
 },
 "nbformat": 4,
 "nbformat_minor": 5
}
