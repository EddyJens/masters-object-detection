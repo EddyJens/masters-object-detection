{
 "cells": [
  {
   "cell_type": "code",
   "execution_count": 1,
   "id": "4e90faef-4c8f-4377-b94c-c23466003091",
   "metadata": {},
   "outputs": [],
   "source": [
    "### source: https://jonathan-hui.medium.com/map-mean-average-precision-for-object-detection-45c121a31173\n",
    "### consider calculating the precision and recall of each exam + between all validation exams \n",
    "### also the precision-recall curve\n",
    "### also consider the recall-IoU curve\n"
   ]
  },
  {
   "cell_type": "code",
   "execution_count": null,
   "id": "792d5d6b-a9df-496b-8ebb-b6ec8ca32646",
   "metadata": {},
   "outputs": [],
   "source": []
  }
 ],
 "metadata": {
  "kernelspec": {
   "display_name": "Python 3 (ipykernel)",
   "language": "python",
   "name": "python3"
  },
  "language_info": {
   "codemirror_mode": {
    "name": "ipython",
    "version": 3
   },
   "file_extension": ".py",
   "mimetype": "text/x-python",
   "name": "python",
   "nbconvert_exporter": "python",
   "pygments_lexer": "ipython3",
   "version": "3.8.10"
  }
 },
 "nbformat": 4,
 "nbformat_minor": 5
}
