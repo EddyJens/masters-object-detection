{
 "cells": [
  {
   "cell_type": "code",
   "execution_count": 1,
   "id": "28f43250-0832-4045-9804-9a4519d1d5e5",
   "metadata": {},
   "outputs": [],
   "source": [
    "import json\n",
    "from tqdm import tqdm"
   ]
  },
  {
   "cell_type": "code",
   "execution_count": 2,
   "id": "b455c81c",
   "metadata": {},
   "outputs": [],
   "source": [
    "files = [\n",
    "    # 'mixed_test-overjoyed-hen-305-standard',\n",
    "    # 'mixed_test-indecisive-eel-172-standard',\n",
    "    # 'mixed_test-crawling-sloth-537-standard',\n",
    "    # 'mixed_test-powerful-goat-766-standard'\n",
    "    'beautiful-fox-729',\n",
    "    'fearless-eel-592',\n",
    "    'thoughtful-cow-484',\n",
    "    'enchanting-hare-280'\n",
    "]"
   ]
  },
  {
   "cell_type": "code",
   "execution_count": 3,
   "id": "fb5a1daf-0218-4848-b7a6-c32ee5551758",
   "metadata": {},
   "outputs": [
    {
     "name": "stdout",
     "output_type": "stream",
     "text": [
      "155 155\n"
     ]
    },
    {
     "name": "stderr",
     "output_type": "stream",
     "text": [
      "155it [00:00, 864517.45it/s]\n"
     ]
    },
    {
     "name": "stdout",
     "output_type": "stream",
     "text": [
      "155 155\n"
     ]
    },
    {
     "name": "stderr",
     "output_type": "stream",
     "text": [
      "155it [00:00, 660688.13it/s]\n"
     ]
    },
    {
     "name": "stdout",
     "output_type": "stream",
     "text": [
      "155 155\n"
     ]
    },
    {
     "name": "stderr",
     "output_type": "stream",
     "text": [
      "155it [00:00, 768459.95it/s]\n"
     ]
    },
    {
     "name": "stdout",
     "output_type": "stream",
     "text": [
      "155 155\n"
     ]
    },
    {
     "name": "stderr",
     "output_type": "stream",
     "text": [
      "155it [00:00, 392109.24it/s]\n"
     ]
    }
   ],
   "source": [
    "for file_name in files:\n",
    "    f = open('/data/output/mixed_data/mixed_test.json') # contains true box\n",
    "    # f = open('/data/output/unique_data/luna_test.json') # contains true box\n",
    "    data1 = json.load(f)\n",
    "    # f = open(f'/data/output/validation/same_window/{file_name}.json') # contains pred box\n",
    "    f = open(f'/data/output/LUNA16_exp/{file_name}.json') # contains pred box\n",
    "    data2 = json.load(f)\n",
    "\n",
    "    merged = []\n",
    "    print(len(data1['test']), len(data2['test']))\n",
    "\n",
    "    for dat1, dat2 in tqdm(zip(data1['test'], data2['test'])):\n",
    "        if dat1['image'] == dat2['image']:\n",
    "            merged.append({\n",
    "                \"true_box\": dat1['box'],\n",
    "                \"pred_box\": dat2['box'],\n",
    "                \"score\": dat2['score'],\n",
    "                \"image\": dat1['image']\n",
    "            })\n",
    "\n",
    "    value = {\n",
    "        \"test\": merged\n",
    "    }\n",
    "\n",
    "    # with open(f'/data/output/validation/same_window/parsed-{file_name}.json', 'w') as write_file:\n",
    "    with open(f'/data/output/LUNA16_exp/parsed-{file_name}.json', 'w') as write_file:\n",
    "        json.dump(value, write_file, indent=4)"
   ]
  },
  {
   "cell_type": "code",
   "execution_count": null,
   "id": "543bca2f-c601-4ac6-a224-9edbcc43a6fc",
   "metadata": {},
   "outputs": [],
   "source": []
  }
 ],
 "metadata": {
  "kernelspec": {
   "display_name": "Python 3 (ipykernel)",
   "language": "python",
   "name": "python3"
  },
  "language_info": {
   "codemirror_mode": {
    "name": "ipython",
    "version": 3
   },
   "file_extension": ".py",
   "mimetype": "text/x-python",
   "name": "python",
   "nbconvert_exporter": "python",
   "pygments_lexer": "ipython3",
   "version": "3.10.12"
  }
 },
 "nbformat": 4,
 "nbformat_minor": 5
}
