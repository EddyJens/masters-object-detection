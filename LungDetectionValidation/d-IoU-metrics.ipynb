{
 "cells": [
  {
   "cell_type": "code",
   "execution_count": 1,
   "id": "4a779af6-8809-49e0-ab01-0681268b810b",
   "metadata": {},
   "outputs": [],
   "source": [
    "import pandas as pd"
   ]
  },
  {
   "cell_type": "code",
   "execution_count": 2,
   "id": "84e2c5de-7992-497f-ae04-dca00a49df99",
   "metadata": {},
   "outputs": [
    {
     "data": {
      "text/html": [
       "<div>\n",
       "<style scoped>\n",
       "    .dataframe tbody tr th:only-of-type {\n",
       "        vertical-align: middle;\n",
       "    }\n",
       "\n",
       "    .dataframe tbody tr th {\n",
       "        vertical-align: top;\n",
       "    }\n",
       "\n",
       "    .dataframe thead th {\n",
       "        text-align: right;\n",
       "    }\n",
       "</style>\n",
       "<table border=\"1\" class=\"dataframe\">\n",
       "  <thead>\n",
       "    <tr style=\"text-align: right;\">\n",
       "      <th></th>\n",
       "      <th>image</th>\n",
       "      <th>IoU</th>\n",
       "    </tr>\n",
       "  </thead>\n",
       "  <tbody>\n",
       "    <tr>\n",
       "      <th>0</th>\n",
       "      <td>/data/LUNA16_Images_resample/1.3.6.1.4.1.14519...</td>\n",
       "      <td>0.000000</td>\n",
       "    </tr>\n",
       "    <tr>\n",
       "      <th>1</th>\n",
       "      <td>/data/LUNA16_Images_resample/1.3.6.1.4.1.14519...</td>\n",
       "      <td>1.000000</td>\n",
       "    </tr>\n",
       "    <tr>\n",
       "      <th>2</th>\n",
       "      <td>/data/LUNA16_Images_resample/1.3.6.1.4.1.14519...</td>\n",
       "      <td>0.909091</td>\n",
       "    </tr>\n",
       "    <tr>\n",
       "      <th>3</th>\n",
       "      <td>/data/HC_Images_resample/PL155113087338785/PL1...</td>\n",
       "      <td>0.779412</td>\n",
       "    </tr>\n",
       "    <tr>\n",
       "      <th>4</th>\n",
       "      <td>/data/LUNA16_Images_resample/1.3.6.1.4.1.14519...</td>\n",
       "      <td>0.837258</td>\n",
       "    </tr>\n",
       "  </tbody>\n",
       "</table>\n",
       "</div>"
      ],
      "text/plain": [
       "                                               image       IoU\n",
       "0  /data/LUNA16_Images_resample/1.3.6.1.4.1.14519...  0.000000\n",
       "1  /data/LUNA16_Images_resample/1.3.6.1.4.1.14519...  1.000000\n",
       "2  /data/LUNA16_Images_resample/1.3.6.1.4.1.14519...  0.909091\n",
       "3  /data/HC_Images_resample/PL155113087338785/PL1...  0.779412\n",
       "4  /data/LUNA16_Images_resample/1.3.6.1.4.1.14519...  0.837258"
      ]
     },
     "execution_count": 2,
     "metadata": {},
     "output_type": "execute_result"
    }
   ],
   "source": [
    "content = pd.read_csv('/data/output/results.csv')\n",
    "content.head()"
   ]
  },
  {
   "cell_type": "code",
   "execution_count": 4,
   "id": "6c6d3537-a754-4577-b599-b2c712c69f0c",
   "metadata": {},
   "outputs": [
    {
     "name": "stdout",
     "output_type": "stream",
     "text": [
      "0.6451612903225806 100 55\n"
     ]
    }
   ],
   "source": [
    "tp = 0\n",
    "fn = 0\n",
    "for roi in content['IoU']:\n",
    "    if roi > 0.5:\n",
    "        tp += 1\n",
    "    else:\n",
    "        fn += 1\n",
    "\n",
    "# precision = tp /(tp + fp)\n",
    "recall = tp/ (tp + fn)\n",
    "print(recall, tp, fn)"
   ]
  },
  {
   "cell_type": "code",
   "execution_count": null,
   "id": "7222f3cf-fe42-4498-b8ae-ec08924870bb",
   "metadata": {},
   "outputs": [],
   "source": []
  }
 ],
 "metadata": {
  "kernelspec": {
   "display_name": "Python 3 (ipykernel)",
   "language": "python",
   "name": "python3"
  },
  "language_info": {
   "codemirror_mode": {
    "name": "ipython",
    "version": 3
   },
   "file_extension": ".py",
   "mimetype": "text/x-python",
   "name": "python",
   "nbconvert_exporter": "python",
   "pygments_lexer": "ipython3",
   "version": "3.8.10"
  }
 },
 "nbformat": 4,
 "nbformat_minor": 5
}
