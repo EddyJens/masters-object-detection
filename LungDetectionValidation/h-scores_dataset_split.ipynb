{
 "cells": [
  {
   "cell_type": "code",
   "execution_count": 1,
   "metadata": {},
   "outputs": [],
   "source": [
    "import json\n",
    "from tqdm import tqdm"
   ]
  },
  {
   "cell_type": "code",
   "execution_count": 2,
   "metadata": {},
   "outputs": [],
   "source": [
    "files = [\n",
    "    'pixel-parsed-mixed_test-overjoyed-hen-305',\n",
    "    'pixel-parsed-mixed_test-indecisive-eel-172',\n",
    "    'pixel-parsed-mixed_test-crawling-sloth-537',\n",
    "    'pixel-parsed-mixed_test-powerful-goat-766',\n",
    "    'pixel-parsed-all'\n",
    "]\n",
    "\n",
    "luna_path = '/data/output/validation/each_window/luna/'\n",
    "hc_path = '/data/output/validation/each_window/hc/'\n",
    "msd_path = '/data/output/validation/each_window/msd/'"
   ]
  },
  {
   "cell_type": "code",
   "execution_count": 3,
   "metadata": {},
   "outputs": [
    {
     "name": "stderr",
     "output_type": "stream",
     "text": [
      "100%|██████████| 246/246 [00:00<00:00, 407181.84it/s]"
     ]
    },
    {
     "name": "stdout",
     "output_type": "stream",
     "text": [
      "luna: 212\n"
     ]
    },
    {
     "name": "stderr",
     "output_type": "stream",
     "text": [
      "\n"
     ]
    },
    {
     "name": "stdout",
     "output_type": "stream",
     "text": [
      "hc: 21\n",
      "msd: 13\n"
     ]
    },
    {
     "name": "stderr",
     "output_type": "stream",
     "text": [
      "100%|██████████| 246/246 [00:00<00:00, 672619.81it/s]"
     ]
    },
    {
     "name": "stdout",
     "output_type": "stream",
     "text": [
      "luna: 212\n"
     ]
    },
    {
     "name": "stderr",
     "output_type": "stream",
     "text": [
      "\n"
     ]
    },
    {
     "name": "stdout",
     "output_type": "stream",
     "text": [
      "hc: 21\n",
      "msd: 13\n"
     ]
    },
    {
     "name": "stderr",
     "output_type": "stream",
     "text": [
      "100%|██████████| 246/246 [00:00<00:00, 599186.29it/s]"
     ]
    },
    {
     "name": "stdout",
     "output_type": "stream",
     "text": [
      "luna: 212\n"
     ]
    },
    {
     "name": "stderr",
     "output_type": "stream",
     "text": [
      "\n"
     ]
    },
    {
     "name": "stdout",
     "output_type": "stream",
     "text": [
      "hc: 21\n",
      "msd: 13\n"
     ]
    },
    {
     "name": "stderr",
     "output_type": "stream",
     "text": [
      "100%|██████████| 246/246 [00:00<00:00, 293792.36it/s]"
     ]
    },
    {
     "name": "stdout",
     "output_type": "stream",
     "text": [
      "luna: 212\n"
     ]
    },
    {
     "name": "stderr",
     "output_type": "stream",
     "text": [
      "\n"
     ]
    },
    {
     "name": "stdout",
     "output_type": "stream",
     "text": [
      "hc: 21\n",
      "msd: 13\n"
     ]
    },
    {
     "name": "stderr",
     "output_type": "stream",
     "text": [
      "100%|██████████| 246/246 [00:00<00:00, 502336.31it/s]\n"
     ]
    },
    {
     "name": "stdout",
     "output_type": "stream",
     "text": [
      "luna: 212\n",
      "hc: 21\n",
      "msd: 13\n"
     ]
    }
   ],
   "source": [
    "for file_name in files:\n",
    "    data_list_file_path = f'/data/output/validation/each_window/{file_name}.json'\n",
    "    f = open(data_list_file_path)\n",
    "    data = json.load(f)\n",
    "\n",
    "    filtered_luna = []\n",
    "    filtered_hc = []\n",
    "    filtered_msd = []\n",
    "    for content in tqdm(data['test']):\n",
    "        if 'LUNA16' in content['image']:\n",
    "            filtered_luna.append({\n",
    "                \"image\": content['image'],\n",
    "                \"true_box\": content['true_box'],\n",
    "                \"pred_box\": content['pred_box'],\n",
    "                \"score\": content['score']\n",
    "            })\n",
    "        if 'HC' in content['image']:\n",
    "            filtered_hc.append({\n",
    "                \"image\": content['image'],\n",
    "                \"true_box\": content['true_box'],\n",
    "                \"pred_box\": content['pred_box'],\n",
    "                \"score\": content['score']\n",
    "            })\n",
    "        if 'MSD' in content['image']:\n",
    "            filtered_msd.append({\n",
    "                \"image\": content['image'],\n",
    "                \"true_box\": content['true_box'],\n",
    "                \"pred_box\": content['pred_box'],\n",
    "                \"score\": content['score']\n",
    "            })\n",
    "\n",
    "    print('luna: ' + str(len(filtered_luna)))\n",
    "    value = {\"test\": filtered_luna}\n",
    "    with open(f'{luna_path}{file_name}.json', 'w') as write_file:\n",
    "        json.dump(value, write_file, indent=4)\n",
    "    print('hc: ' + str(len(filtered_hc)))\n",
    "    value = {\"test\": filtered_hc}\n",
    "    with open(f'{hc_path}{file_name}.json', 'w') as write_file:\n",
    "        json.dump(value, write_file, indent=4)\n",
    "    print('msd: ' + str(len(filtered_msd)))\n",
    "    value = {\"test\": filtered_msd}\n",
    "    with open(f'{msd_path}{file_name}.json', 'w') as write_file:\n",
    "        json.dump(value, write_file, indent=4)\n"
   ]
  },
  {
   "cell_type": "code",
   "execution_count": null,
   "metadata": {},
   "outputs": [],
   "source": []
  }
 ],
 "metadata": {
  "kernelspec": {
   "display_name": "Python 3",
   "language": "python",
   "name": "python3"
  },
  "language_info": {
   "codemirror_mode": {
    "name": "ipython",
    "version": 3
   },
   "file_extension": ".py",
   "mimetype": "text/x-python",
   "name": "python",
   "nbconvert_exporter": "python",
   "pygments_lexer": "ipython3",
   "version": "3.8.10"
  }
 },
 "nbformat": 4,
 "nbformat_minor": 2
}
