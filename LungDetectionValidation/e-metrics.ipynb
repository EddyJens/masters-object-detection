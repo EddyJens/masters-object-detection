{
 "cells": [
  {
   "cell_type": "code",
   "execution_count": 1,
   "metadata": {},
   "outputs": [],
   "source": [
    "import json\n",
    "from tqdm import tqdm\n",
    "from utils import (\n",
    "    calc_iou, any_match,\n",
    "    gen_froc_plot, gen_tabular_data,\n",
    "    gen_precision_recall_plot,\n",
    "    convert_to_tensor\n",
    ")\n",
    "import pandas as pd\n",
    "from sklearn.metrics import (\n",
    "    precision_recall_curve,\n",
    "    average_precision_score\n",
    ")\n",
    "from monai.data.box_utils import non_max_suppression\n",
    "import torch\n",
    "import seaborn as sns\n",
    "import numpy as np"
   ]
  },
  {
   "cell_type": "code",
   "execution_count": 2,
   "metadata": {},
   "outputs": [],
   "source": [
    "files = [\n",
    "    # 'pixel-parsed-mixed_test-overjoyed-hen-305',\n",
    "    # 'pixel-parsed-mixed_test-indecisive-eel-172',\n",
    "    # 'pixel-parsed-mixed_test-powerful-goat-766',\n",
    "    # 'pixel-parsed-mixed_test-crawling-sloth-537',\n",
    "    # 'pixel-parsed-all'\n",
    "    'pixel-parsed-beautiful-fox-729',\n",
    "    'pixel-parsed-fearless-eel-592',\n",
    "    'pixel-parsed-thoughtful-cow-484',\n",
    "    'pixel-parsed-enchanting-hare-280',\n",
    "    'pixel-parsed-all'\n",
    "]"
   ]
  },
  {
   "cell_type": "code",
   "execution_count": 3,
   "metadata": {},
   "outputs": [
    {
     "name": "stderr",
     "output_type": "stream",
     "text": [
      "100%|██████████| 13/13 [00:00<00:00, 47.82it/s]\n",
      "100%|██████████| 13/13 [00:00<00:00, 43.46it/s]\n",
      "100%|██████████| 13/13 [00:00<00:00, 68.97it/s]\n",
      "100%|██████████| 13/13 [00:00<00:00, 54.18it/s]\n",
      "100%|██████████| 13/13 [00:00<00:00, 41.95it/s]\n"
     ]
    }
   ],
   "source": [
    "all_fps_per_image = []\n",
    "all_total_sensitivity = []\n",
    "tabular_data = []\n",
    "all_testy = []\n",
    "all_lr_probs = []\n",
    "\n",
    "composed_fp_probs = []\n",
    "composed_tp_probs = []\n",
    "composed_tp, composed_fp, composed_fn = 0, 0, 0\n",
    "composed_testy = []\n",
    "composed_lr_probs = []\n",
    "\n",
    "for file_name in files:\n",
    "\n",
    "    # output_path = '/data/output/validation/each_window/' # all datasets\n",
    "    # output_path = '/data/output/validation/each_window/luna/' # only luna16\n",
    "    # output_path = '/data/output/validation/each_window/hc/' # only hc\n",
    "    # output_path = '/data/output/validation/each_window/msd/' # only msd\n",
    "\n",
    "    # output_path = '/data/output/LUNA16_exp/' # all datasets\n",
    "    # output_path = '/data/output/LUNA16_exp/luna/' # only luna16\n",
    "    # output_path = '/data/output/LUNA16_exp/hc/' # only hc\n",
    "    output_path = '/data/output/LUNA16_exp/msd/' # only hc\n",
    "\n",
    "    data_list_file_path = f'{output_path}{file_name}.json'\n",
    "\n",
    "    f = open(data_list_file_path)\n",
    "    data = json.load(f)\n",
    "\n",
    "    iou_thresh = 0.5 # same as Lucas\n",
    "    # num_images = 155\n",
    "    # num_targets = 313\n",
    "    # num_images = 121 # 212 nodules LUNA16\n",
    "    # num_targets = 273\n",
    "    # num_images = 21 # HCFMRP\n",
    "    # num_targets = 27\n",
    "    # num_images = 13 # MSD\n",
    "    # num_targets = 13\n",
    "\n",
    "    # num_images = 155\n",
    "    # num_targets = 385\n",
    "    # num_images = 121 # LUNA16\n",
    "    # num_targets = 364\n",
    "    # num_images = 21 # HCFMRP\n",
    "    # num_targets = 21\n",
    "    num_images = 13 # MSD\n",
    "    num_targets = 13\n",
    "\n",
    "    fp_probs = []\n",
    "    tp_probs = []\n",
    "    tp, fp, fn = 0, 0, 0\n",
    "\n",
    "    testy = []\n",
    "    lr_probs = []\n",
    "\n",
    "    for content in tqdm(data['test']):\n",
    "\n",
    "        # convert pred_box to monai standard arrangement mode\n",
    "        converted = convert_to_tensor(content['pred_box'])\n",
    "\n",
    "        keep = non_max_suppression(\n",
    "            converted, torch.tensor(content['score']), nms_thresh=0.1, max_proposals=100)\n",
    "\n",
    "        # boxes_after_nms = content['pred_box'][keep]\n",
    "        boxes_after_nms = [content['pred_box'][index] for index in keep]\n",
    "        scores_after_nms = torch.tensor(content['score'])[keep]\n",
    "\n",
    "        for pred_box, score in zip(boxes_after_nms, scores_after_nms):\n",
    "            # if score > 0.5:\n",
    "            iou = 0\n",
    "            if any_match(content['true_box'][0], pred_box):\n",
    "                iou = calc_iou(content['true_box'][0], pred_box)\n",
    "            if iou >= iou_thresh:\n",
    "                tp += 1\n",
    "                tp_probs.append(score)\n",
    "                composed_tp += 1\n",
    "                composed_tp_probs.append(score)\n",
    "\n",
    "                testy.append(1)\n",
    "                lr_probs.append(score)\n",
    "                composed_testy.append(1)\n",
    "                composed_lr_probs.append(score)\n",
    "            if iou < iou_thresh and iou > 0:\n",
    "                fp += 1\n",
    "                fp_probs.append(score)\n",
    "                composed_fp += 1\n",
    "                composed_fp_probs.append(score)\n",
    "\n",
    "                testy.append(0)\n",
    "                lr_probs.append(score)\n",
    "                composed_testy.append(0)\n",
    "                composed_lr_probs.append(score)\n",
    "            if iou == 0:\n",
    "                fn += 1\n",
    "                composed_fn += 1\n",
    "\n",
    "                testy.append(0)\n",
    "                lr_probs.append(score)\n",
    "                composed_testy.append(0)\n",
    "                composed_lr_probs.append(score)\n",
    "\n",
    "    fps_per_image, total_sensitivity, precision, recall, p1, p2, p3, p4, p5, p6 ,p7, cpm = gen_tabular_data(\n",
    "        tp, fp, fn, fp_probs, tp_probs, num_images, num_targets\n",
    "    )\n",
    "\n",
    "    all_fps_per_image.append(fps_per_image)\n",
    "    all_total_sensitivity.append(total_sensitivity)\n",
    "    all_testy.append(testy)\n",
    "    all_lr_probs.append(lr_probs)\n",
    "\n",
    "    tabular_data.append({\n",
    "        # \"precision\": precision,\n",
    "        # \"recall\": recall,\n",
    "        # \"tp\": tp,\n",
    "        # \"fn\": fn,\n",
    "        # \"fp\": fp,\n",
    "        \"1/8\": p1,\n",
    "        \"1/4\": p2,\n",
    "        \"1/2\": p3,\n",
    "        \"1\": p4,\n",
    "        \"2\": p5,\n",
    "        \"4\": p6,\n",
    "        \"8\": p7,\n",
    "        \"CPM\": cpm,\n",
    "        # \"AP\": str(average_precision_score(testy, lr_probs))\n",
    "    })\n",
    "\n",
    "first_table = pd.DataFrame(tabular_data)"
   ]
  },
  {
   "cell_type": "code",
   "execution_count": 4,
   "metadata": {},
   "outputs": [
    {
     "data": {
      "image/png": "[encoded data removed]",
      "text/plain": [
       "<Figure size 640x480 with 1 Axes>"
      ]
     },
     "metadata": {},
     "output_type": "display_data"
    }
   ],
   "source": [
    "gen_froc_plot(all_fps_per_image, all_total_sensitivity)"
   ]
  },
  {
   "cell_type": "code",
   "execution_count": 5,
   "metadata": {},
   "outputs": [
    {
     "data": {
      "text/html": [
       "<div>\n",
       "<style scoped>\n",
       "    .dataframe tbody tr th:only-of-type {\n",
       "        vertical-align: middle;\n",
       "    }\n",
       "\n",
       "    .dataframe tbody tr th {\n",
       "        vertical-align: top;\n",
       "    }\n",
       "\n",
       "    .dataframe thead th {\n",
       "        text-align: right;\n",
       "    }\n",
       "</style>\n",
       "<table border=\"1\" class=\"dataframe\">\n",
       "  <thead>\n",
       "    <tr style=\"text-align: right;\">\n",
       "      <th></th>\n",
       "      <th>1/8</th>\n",
       "      <th>1/4</th>\n",
       "      <th>1/2</th>\n",
       "      <th>1</th>\n",
       "      <th>2</th>\n",
       "      <th>4</th>\n",
       "      <th>8</th>\n",
       "      <th>CPM</th>\n",
       "    </tr>\n",
       "  </thead>\n",
       "  <tbody>\n",
       "    <tr>\n",
       "      <th>0</th>\n",
       "      <td>0.0</td>\n",
       "      <td>0.0</td>\n",
       "      <td>0.0</td>\n",
       "      <td>0.0</td>\n",
       "      <td>0.0</td>\n",
       "      <td>0.000000</td>\n",
       "      <td>0.000000</td>\n",
       "      <td>0.000000</td>\n",
       "    </tr>\n",
       "    <tr>\n",
       "      <th>1</th>\n",
       "      <td>0.0</td>\n",
       "      <td>0.0</td>\n",
       "      <td>0.0</td>\n",
       "      <td>0.0</td>\n",
       "      <td>0.0</td>\n",
       "      <td>0.076923</td>\n",
       "      <td>0.153846</td>\n",
       "      <td>0.032967</td>\n",
       "    </tr>\n",
       "    <tr>\n",
       "      <th>2</th>\n",
       "      <td>0.0</td>\n",
       "      <td>0.0</td>\n",
       "      <td>0.0</td>\n",
       "      <td>0.0</td>\n",
       "      <td>0.0</td>\n",
       "      <td>0.000000</td>\n",
       "      <td>0.000000</td>\n",
       "      <td>0.000000</td>\n",
       "    </tr>\n",
       "    <tr>\n",
       "      <th>3</th>\n",
       "      <td>0.0</td>\n",
       "      <td>0.0</td>\n",
       "      <td>0.0</td>\n",
       "      <td>0.0</td>\n",
       "      <td>0.0</td>\n",
       "      <td>0.000000</td>\n",
       "      <td>0.076923</td>\n",
       "      <td>0.010989</td>\n",
       "    </tr>\n",
       "    <tr>\n",
       "      <th>4</th>\n",
       "      <td>0.0</td>\n",
       "      <td>0.0</td>\n",
       "      <td>0.0</td>\n",
       "      <td>0.0</td>\n",
       "      <td>0.0</td>\n",
       "      <td>0.000000</td>\n",
       "      <td>0.076923</td>\n",
       "      <td>0.010989</td>\n",
       "    </tr>\n",
       "  </tbody>\n",
       "</table>\n",
       "</div>"
      ],
      "text/plain": [
       "   1/8  1/4  1/2    1    2         4         8       CPM\n",
       "0  0.0  0.0  0.0  0.0  0.0  0.000000  0.000000  0.000000\n",
       "1  0.0  0.0  0.0  0.0  0.0  0.076923  0.153846  0.032967\n",
       "2  0.0  0.0  0.0  0.0  0.0  0.000000  0.000000  0.000000\n",
       "3  0.0  0.0  0.0  0.0  0.0  0.000000  0.076923  0.010989\n",
       "4  0.0  0.0  0.0  0.0  0.0  0.000000  0.076923  0.010989"
      ]
     },
     "execution_count": 5,
     "metadata": {},
     "output_type": "execute_result"
    }
   ],
   "source": [
    "first_table"
   ]
  },
  {
   "cell_type": "code",
   "execution_count": 6,
   "metadata": {},
   "outputs": [
    {
     "data": {
      "text/plain": [
       "<Axes: >"
      ]
     },
     "execution_count": 6,
     "metadata": {},
     "output_type": "execute_result"
    },
    {
     "data": {
      "image/png": "[encoded data removed]",
      "text/plain": [
       "<Figure size 640x480 with 1 Axes>"
      ]
     },
     "metadata": {},
     "output_type": "display_data"
    }
   ],
   "source": [
    "sns.boxplot(data=all_total_sensitivity)"
   ]
  },
  {
   "cell_type": "code",
   "execution_count": 7,
   "metadata": {},
   "outputs": [
    {
     "data": {
      "text/html": [
       "<div>\n",
       "<style scoped>\n",
       "    .dataframe tbody tr th:only-of-type {\n",
       "        vertical-align: middle;\n",
       "    }\n",
       "\n",
       "    .dataframe tbody tr th {\n",
       "        vertical-align: top;\n",
       "    }\n",
       "\n",
       "    .dataframe thead th {\n",
       "        text-align: right;\n",
       "    }\n",
       "</style>\n",
       "<table border=\"1\" class=\"dataframe\">\n",
       "  <thead>\n",
       "    <tr style=\"text-align: right;\">\n",
       "      <th></th>\n",
       "      <th>a1</th>\n",
       "      <th>a2</th>\n",
       "      <th>a3</th>\n",
       "      <th>a4</th>\n",
       "      <th>all</th>\n",
       "    </tr>\n",
       "  </thead>\n",
       "  <tbody>\n",
       "    <tr>\n",
       "      <th>0</th>\n",
       "      <td>[0.0, 0.0, 0.0, 0.0, 0.0, 0.0, 0.0, 0.0, 0.0, ...</td>\n",
       "      <td>[0.15384615384615385, 0.15384615384615385, 0.1...</td>\n",
       "      <td>[0.0, 0.0, 0.0, 0.0, 0.0, 0.0, 0.0, 0.0, 0.0, ...</td>\n",
       "      <td>[0.07692307692307693, 0.07692307692307693, 0.0...</td>\n",
       "      <td>[0.07692307692307693, 0.07692307692307693, 0.0...</td>\n",
       "    </tr>\n",
       "  </tbody>\n",
       "</table>\n",
       "</div>"
      ],
      "text/plain": [
       "                                                  a1  \\\n",
       "0  [0.0, 0.0, 0.0, 0.0, 0.0, 0.0, 0.0, 0.0, 0.0, ...   \n",
       "\n",
       "                                                  a2  \\\n",
       "0  [0.15384615384615385, 0.15384615384615385, 0.1...   \n",
       "\n",
       "                                                  a3  \\\n",
       "0  [0.0, 0.0, 0.0, 0.0, 0.0, 0.0, 0.0, 0.0, 0.0, ...   \n",
       "\n",
       "                                                  a4  \\\n",
       "0  [0.07692307692307693, 0.07692307692307693, 0.0...   \n",
       "\n",
       "                                                 all  \n",
       "0  [0.07692307692307693, 0.07692307692307693, 0.0...  "
      ]
     },
     "execution_count": 7,
     "metadata": {},
     "output_type": "execute_result"
    }
   ],
   "source": [
    "df = pd.DataFrame([all_total_sensitivity], columns=['a1', 'a2', 'a3', 'a4', 'all'])\n",
    "df.to_excel(output_path + 'all_total_sensitivity.xlsx', index=False)\n",
    "df.head()"
   ]
  },
  {
   "cell_type": "code",
   "execution_count": 8,
   "metadata": {},
   "outputs": [],
   "source": [
    "# gen_precision_recall_plot(precision_recall_curve, all_testy, all_lr_probs)"
   ]
  },
  {
   "cell_type": "code",
   "execution_count": null,
   "metadata": {},
   "outputs": [],
   "source": []
  }
 ],
 "metadata": {
  "kernelspec": {
   "display_name": "Python 3 (ipykernel)",
   "language": "python",
   "name": "python3"
  },
  "language_info": {
   "codemirror_mode": {
    "name": "ipython",
    "version": 3
   },
   "file_extension": ".py",
   "mimetype": "text/x-python",
   "name": "python",
   "nbconvert_exporter": "python",
   "pygments_lexer": "ipython3",
   "version": "3.10.12"
  }
 },
 "nbformat": 4,
 "nbformat_minor": 4
}
