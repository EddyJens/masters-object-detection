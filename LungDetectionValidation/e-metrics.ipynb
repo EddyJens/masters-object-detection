{
 "cells": [
  {
   "cell_type": "code",
   "execution_count": 1,
   "metadata": {},
   "outputs": [],
   "source": [
    "import json\n",
    "from tqdm import tqdm\n",
    "from utils import (\n",
    "    calc_iou, any_match,\n",
    "    gen_froc_plot, gen_tabular_data,\n",
    "    gen_precision_recall_plot,\n",
    "    convert_to_tensor\n",
    ")\n",
    "import pandas as pd\n",
    "from sklearn.metrics import (\n",
    "    precision_recall_curve,\n",
    "    average_precision_score\n",
    ")\n",
    "from monai.data.box_utils import non_max_suppression\n",
    "import torch"
   ]
  },
  {
   "cell_type": "code",
   "execution_count": 2,
   "metadata": {},
   "outputs": [],
   "source": [
    "files = [\n",
    "    'pixel-parsed-mixed_test-overjoyed-hen-305',\n",
    "    'pixel-parsed-mixed_test-indecisive-eel-172',\n",
    "    'pixel-parsed-mixed_test-crawling-sloth-537',\n",
    "    'pixel-parsed-mixed_test-powerful-goat-766',\n",
    "    'pixel-parsed-all'\n",
    "]"
   ]
  },
  {
   "cell_type": "code",
   "execution_count": 3,
   "metadata": {},
   "outputs": [
    {
     "name": "stderr",
     "output_type": "stream",
     "text": [
      "  0%|          | 0/246 [00:00<?, ?it/s]\n"
     ]
    },
    {
     "ename": "NameError",
     "evalue": "name 'convert_to_tensor' is not defined",
     "output_type": "error",
     "traceback": [
      "\u001b[0;31m---------------------------------------------------------------------------\u001b[0m",
      "\u001b[0;31mNameError\u001b[0m                                 Traceback (most recent call last)",
      "Cell \u001b[0;32mIn[3], line 32\u001b[0m\n\u001b[1;32m     27\u001b[0m lr_probs \u001b[38;5;241m=\u001b[39m []\n\u001b[1;32m     29\u001b[0m \u001b[38;5;28;01mfor\u001b[39;00m content \u001b[38;5;129;01min\u001b[39;00m tqdm(data[\u001b[38;5;124m'\u001b[39m\u001b[38;5;124mtest\u001b[39m\u001b[38;5;124m'\u001b[39m]):\n\u001b[1;32m     30\u001b[0m \n\u001b[1;32m     31\u001b[0m     \u001b[38;5;66;03m# convert pred_box to monai standard arrangement mode\u001b[39;00m\n\u001b[0;32m---> 32\u001b[0m     converted \u001b[38;5;241m=\u001b[39m \u001b[43mconvert_to_tensor\u001b[49m(content[\u001b[38;5;124m'\u001b[39m\u001b[38;5;124mpred_box\u001b[39m\u001b[38;5;124m'\u001b[39m])\n\u001b[1;32m     34\u001b[0m     keep \u001b[38;5;241m=\u001b[39m non_max_suppression(converted, torch\u001b[38;5;241m.\u001b[39mtensor(content[\u001b[38;5;124m'\u001b[39m\u001b[38;5;124mscore\u001b[39m\u001b[38;5;124m'\u001b[39m]), nms_thresh\u001b[38;5;241m=\u001b[39m\u001b[38;5;241m0.1\u001b[39m, max_proposals\u001b[38;5;241m=\u001b[39m\u001b[38;5;241m100\u001b[39m)\n\u001b[1;32m     36\u001b[0m     \u001b[38;5;66;03m# boxes_after_nms = content['pred_box'][keep]\u001b[39;00m\n",
      "\u001b[0;31mNameError\u001b[0m: name 'convert_to_tensor' is not defined"
     ]
    }
   ],
   "source": [
    "all_fps_per_image = []\n",
    "all_total_sensitivity = []\n",
    "tabular_data = []\n",
    "all_testy = []\n",
    "all_lr_probs = []\n",
    "\n",
    "composed_fp_probs = []\n",
    "composed_tp_probs = []\n",
    "composed_tp, composed_fp, composed_fn = 0, 0, 0\n",
    "composed_testy = []\n",
    "composed_lr_probs = []\n",
    "\n",
    "for file_name in files:\n",
    "    data_list_file_path = f'/data/output/validation/each_window/{file_name}.json'\n",
    "    f = open(data_list_file_path)\n",
    "    data = json.load(f)\n",
    "\n",
    "    iou_thresh = 0.5 # same as Lucas\n",
    "    num_images = 155\n",
    "    num_targets = 313\n",
    "\n",
    "    fp_probs = []\n",
    "    tp_probs = []\n",
    "    tp, fp, fn = 0, 0, 0\n",
    "\n",
    "    testy = []\n",
    "    lr_probs = []\n",
    "\n",
    "    for content in tqdm(data['test']):\n",
    "\n",
    "        # convert pred_box to monai standard arrangement mode\n",
    "        converted = convert_to_tensor(content['pred_box'])\n",
    "\n",
    "        keep = non_max_suppression(converted, torch.tensor(content['score']), nms_thresh=0.1, max_proposals=100)\n",
    "\n",
    "        # boxes_after_nms = content['pred_box'][keep]\n",
    "        boxes_after_nms = [content['pred_box'][index] for index in keep]\n",
    "        scores_after_nms = torch.tensor(content['score'])[keep]\n",
    "\n",
    "        for pred_box, score in zip(boxes_after_nms, scores_after_nms):\n",
    "            # if score > 0.5:\n",
    "            iou = 0\n",
    "            if any_match(content['true_box'][0], pred_box):\n",
    "                iou = calc_iou(content['true_box'][0], pred_box)\n",
    "            if iou >= iou_thresh:\n",
    "                tp += 1\n",
    "                tp_probs.append(score)\n",
    "                composed_tp += 1\n",
    "                composed_tp_probs.append(score)\n",
    "\n",
    "                testy.append(1)\n",
    "                lr_probs.append(score)\n",
    "                composed_testy.append(1)\n",
    "                composed_lr_probs.append(score)\n",
    "            if iou < iou_thresh and iou > 0:\n",
    "                fp += 1\n",
    "                fp_probs.append(score)\n",
    "                composed_fp += 1\n",
    "                composed_fp_probs.append(score)\n",
    "\n",
    "                testy.append(0)\n",
    "                lr_probs.append(score)\n",
    "                composed_testy.append(0)\n",
    "                composed_lr_probs.append(score)\n",
    "            if iou == 0:\n",
    "                fn += 1\n",
    "                composed_fn += 1\n",
    "\n",
    "                testy.append(0)\n",
    "                lr_probs.append(score)\n",
    "                composed_testy.append(0)\n",
    "                composed_lr_probs.append(score)\n",
    "\n",
    "    fps_per_image, total_sensitivity, precision, recall, p1, p2, p3, p4, p5, p6 ,p7, cpm = gen_tabular_data(\n",
    "        tp, fp, fn, fp_probs, tp_probs, num_images, num_targets\n",
    "    )\n",
    "\n",
    "    all_fps_per_image.append(fps_per_image)\n",
    "    all_total_sensitivity.append(total_sensitivity)\n",
    "    all_testy.append(testy)\n",
    "    all_lr_probs.append(lr_probs)\n",
    "\n",
    "    tabular_data.append({\n",
    "        \"precision\": precision,\n",
    "        \"recall\": recall,\n",
    "        \"tp\": tp,\n",
    "        \"fn\": fn,\n",
    "        \"fp\": fp,\n",
    "        \"1/8\": p1,\n",
    "        \"2/8\": p2,\n",
    "        \"4/8\": p3,\n",
    "        \"1\": p4,\n",
    "        \"2\": p5,\n",
    "        \"4\": p6,\n",
    "        \"8\": p7,\n",
    "        \"CPM\": cpm,\n",
    "        \"AP\": str(average_precision_score(testy, lr_probs))\n",
    "    })\n",
    "\n",
    "first_table = pd.DataFrame(tabular_data)"
   ]
  },
  {
   "cell_type": "code",
   "execution_count": null,
   "metadata": {},
   "outputs": [],
   "source": [
    "gen_froc_plot(all_fps_per_image, all_total_sensitivity)"
   ]
  },
  {
   "cell_type": "code",
   "execution_count": null,
   "metadata": {},
   "outputs": [],
   "source": [
    "first_table"
   ]
  },
  {
   "cell_type": "code",
   "execution_count": null,
   "metadata": {},
   "outputs": [],
   "source": [
    "gen_precision_recall_plot(precision_recall_curve, all_testy, all_lr_probs)"
   ]
  },
  {
   "cell_type": "code",
   "execution_count": null,
   "metadata": {},
   "outputs": [],
   "source": []
  }
 ],
 "metadata": {
  "kernelspec": {
   "display_name": "Python 3 (ipykernel)",
   "language": "python",
   "name": "python3"
  },
  "language_info": {
   "codemirror_mode": {
    "name": "ipython",
    "version": 3
   },
   "file_extension": ".py",
   "mimetype": "text/x-python",
   "name": "python",
   "nbconvert_exporter": "python",
   "pygments_lexer": "ipython3",
   "version": "3.8.10"
  }
 },
 "nbformat": 4,
 "nbformat_minor": 4
}
