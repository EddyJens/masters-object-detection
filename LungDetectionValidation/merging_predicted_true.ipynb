{
 "cells": [
  {
   "cell_type": "code",
   "execution_count": 1,
   "id": "28f43250-0832-4045-9804-9a4519d1d5e5",
   "metadata": {},
   "outputs": [],
   "source": [
    "import json\n",
    "from tqdm import tqdm"
   ]
  },
  {
   "cell_type": "code",
   "execution_count": 2,
   "id": "fb5a1daf-0218-4848-b7a6-c32ee5551758",
   "metadata": {},
   "outputs": [
    {
     "name": "stdout",
     "output_type": "stream",
     "text": [
      "155 155\n"
     ]
    },
    {
     "name": "stderr",
     "output_type": "stream",
     "text": [
      "155it [00:00, 750712.61it/s]\n"
     ]
    }
   ],
   "source": [
    "f = open('/data/output/mixed_data/mixed_test.json')\n",
    "data1 = json.load(f)\n",
    "f = open('/data/output/validation/mixed_test.json')\n",
    "data2 = json.load(f)\n",
    "\n",
    "merged = []\n",
    "print(len(data1['test']), len(data2['test']))\n",
    "\n",
    "for dat1, dat2 in tqdm(zip(data1['test'], data2['test'])):\n",
    "    if dat1['image'] == dat2['image']:\n",
    "        merged.append({\n",
    "            \"true_box\": dat1['box'],\n",
    "            \"pred_box\": dat2['box'],\n",
    "            \"score\": dat2['score'],\n",
    "            \"image\": dat1['image']\n",
    "        })\n",
    "\n",
    "value = {\n",
    "    \"test\": merged\n",
    "}\n",
    "\n",
    "with open('/data/output/validation/test.json', 'w') as write_file:\n",
    "    json.dump(value, write_file, indent=4)"
   ]
  },
  {
   "cell_type": "code",
   "execution_count": null,
   "id": "543bca2f-c601-4ac6-a224-9edbcc43a6fc",
   "metadata": {},
   "outputs": [],
   "source": []
  }
 ],
 "metadata": {
  "kernelspec": {
   "display_name": "Python 3 (ipykernel)",
   "language": "python",
   "name": "python3"
  },
  "language_info": {
   "codemirror_mode": {
    "name": "ipython",
    "version": 3
   },
   "file_extension": ".py",
   "mimetype": "text/x-python",
   "name": "python",
   "nbconvert_exporter": "python",
   "pygments_lexer": "ipython3",
   "version": "3.8.10"
  }
 },
 "nbformat": 4,
 "nbformat_minor": 5
}
