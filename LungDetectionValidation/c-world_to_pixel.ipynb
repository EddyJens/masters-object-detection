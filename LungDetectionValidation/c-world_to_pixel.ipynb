{
 "cells": [
  {
   "cell_type": "markdown",
   "id": "9853e603",
   "metadata": {},
   "source": [
    "#### Converting from world to pixel + creating a map file for each nodule (counting by nodules and not by exam)"
   ]
  },
  {
   "cell_type": "code",
   "execution_count": 1,
   "id": "1f58b7f0-31a9-45b3-aa95-265bb9812fb7",
   "metadata": {},
   "outputs": [],
   "source": [
    "import numpy as np\n",
    "import json\n",
    "from utils import (\n",
    "    load_itk, world_to_pixel\n",
    ")\n",
    "from tqdm import tqdm"
   ]
  },
  {
   "cell_type": "code",
   "execution_count": 2,
   "id": "fa82a7d1-391a-4b6f-82fe-4f25e1278332",
   "metadata": {},
   "outputs": [],
   "source": [
    "files = [\n",
    "    'parsed-mixed_test-overjoyed-hen-305-standard',\n",
    "    'parsed-mixed_test-indecisive-eel-172-standard',\n",
    "    'parsed-mixed_test-crawling-sloth-537-standard',\n",
    "    'parsed-mixed_test-powerful-goat-766-standard'\n",
    "]"
   ]
  },
  {
   "cell_type": "code",
   "execution_count": 3,
   "id": "a870173a-a7aa-41fc-a1b3-09137d6e35e9",
   "metadata": {
    "scrolled": true
   },
   "outputs": [
    {
     "name": "stderr",
     "output_type": "stream",
     "text": [
      "100%|██████████| 155/155 [05:45<00:00,  2.23s/it]\n",
      "100%|██████████| 155/155 [06:02<00:00,  2.34s/it]\n",
      "100%|██████████| 155/155 [05:48<00:00,  2.25s/it]\n",
      "100%|██████████| 155/155 [05:30<00:00,  2.13s/it]\n"
     ]
    }
   ],
   "source": [
    "for file_name in files:\n",
    "    ### loading file\n",
    "    data_list_file_path = f'/data/output/validation/same_window/{file_name}.json'\n",
    "    f = open(data_list_file_path)\n",
    "    data = json.load(f)\n",
    "\n",
    "    ### perform convertion\n",
    "    converted = []\n",
    "    for content in tqdm(data['test']):\n",
    "\n",
    "        img, origin, spacing = load_itk(content['image'])\n",
    "        origin = np.array(list(reversed(origin)))\n",
    "        spacing = np.array(list(reversed(spacing)))\n",
    "\n",
    "        for true_box in content['true_box']:\n",
    "\n",
    "            targets = []\n",
    "\n",
    "            world_coord_cent = np.array((true_box[0], true_box[1], true_box[2]))\n",
    "            world_coord_diam = np.array((true_box[3], true_box[4], true_box[5]))\n",
    "\n",
    "            voxel_min, voxel_max = world_to_pixel(\n",
    "                origin, spacing, world_coord_cent, world_coord_diam\n",
    "            )\n",
    "\n",
    "            targets.append({\n",
    "                \"voxel_min\": voxel_min.astype(int).tolist(),\n",
    "                \"voxel_max\": voxel_max.astype(int).tolist()\n",
    "            })\n",
    "\n",
    "            boxes = []\n",
    "            scores = []\n",
    "\n",
    "            for pred_box, score in zip(content['pred_box'], content['score']):\n",
    "\n",
    "                # if score > 0.5:\n",
    "                world_coord_cent = np.array((pred_box[0], pred_box[1], pred_box[2]))\n",
    "                world_coord_diam = np.array((pred_box[3], pred_box[4], pred_box[5]))\n",
    "\n",
    "                voxel_min, voxel_max = world_to_pixel(\n",
    "                    origin, spacing, world_coord_cent, world_coord_diam\n",
    "                )\n",
    "\n",
    "                boxes.append({\n",
    "                    \"voxel_min\": voxel_min.astype(int).tolist(),\n",
    "                    \"voxel_max\": voxel_max.astype(int).tolist()\n",
    "                })\n",
    "\n",
    "                scores.append(score)\n",
    "        \n",
    "            converted.append({\n",
    "                \"image\": content['image'],\n",
    "                \"true_box\": targets,\n",
    "                \"pred_box\": boxes,\n",
    "                \"score\": scores\n",
    "            })\n",
    "\n",
    "    ### saving converted data\n",
    "    value = {\n",
    "        \"test\": converted\n",
    "    }\n",
    "    with open(f'/data/output/validation/same_window/pixel-{file_name}.json', 'w') as write_file:\n",
    "        json.dump(value, write_file, indent=4)"
   ]
  },
  {
   "cell_type": "code",
   "execution_count": null,
   "id": "0a5306d5",
   "metadata": {},
   "outputs": [],
   "source": []
  }
 ],
 "metadata": {
  "kernelspec": {
   "display_name": "Python 3 (ipykernel)",
   "language": "python",
   "name": "python3"
  },
  "language_info": {
   "codemirror_mode": {
    "name": "ipython",
    "version": 3
   },
   "file_extension": ".py",
   "mimetype": "text/x-python",
   "name": "python",
   "nbconvert_exporter": "python",
   "pygments_lexer": "ipython3",
   "version": "3.8.10"
  }
 },
 "nbformat": 4,
 "nbformat_minor": 5
}
