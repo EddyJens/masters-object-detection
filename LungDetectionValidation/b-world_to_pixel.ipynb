{
 "cells": [
  {
   "cell_type": "code",
   "execution_count": 1,
   "id": "1f58b7f0-31a9-45b3-aa95-265bb9812fb7",
   "metadata": {},
   "outputs": [],
   "source": [
    "import numpy as np\n",
    "import json\n",
    "from utils import (\n",
    "    load_itk, world_to_pixel, any_match,\n",
    "    calc_iou, vanilla_nms_pytorch\n",
    ")\n",
    "from tqdm import tqdm\n",
    "import pandas as pd\n",
    "import torch\n",
    "from monai.data.box_utils import non_max_suppression\n",
    "from statistics import mean "
   ]
  },
  {
   "cell_type": "code",
   "execution_count": 2,
   "id": "fa82a7d1-391a-4b6f-82fe-4f25e1278332",
   "metadata": {},
   "outputs": [
    {
     "name": "stdout",
     "output_type": "stream",
     "text": [
      "dict_keys(['true_box', 'pred_box', 'score', 'image'])\n"
     ]
    }
   ],
   "source": [
    "data_list_file_path = '/data/output/validation/test_parsed.json'\n",
    "f = open(data_list_file_path)\n",
    "data = json.load(f)\n",
    "\n",
    "print(data['test'][0].keys())"
   ]
  },
  {
   "cell_type": "code",
   "execution_count": 3,
   "id": "a870173a-a7aa-41fc-a1b3-09137d6e35e9",
   "metadata": {
    "scrolled": true
   },
   "outputs": [
    {
     "name": "stderr",
     "output_type": "stream",
     "text": [
      "100%|██████████| 10/10 [00:24<00:00,  2.41s/it]\n"
     ]
    }
   ],
   "source": [
    "metrics = []\n",
    "\n",
    "for content in tqdm(data['test'][0:10]):\n",
    "\n",
    "    img, origin, spacing = load_itk(content['image'])\n",
    "    origin = np.array(list(reversed(origin)))\n",
    "    spacing = np.array(list(reversed(spacing)))\n",
    "\n",
    "    targets = []\n",
    "    boxes = []\n",
    "    scores = []\n",
    "\n",
    "    y_coords = []\n",
    "    x_coords = []\n",
    "    \n",
    "    for true_box in content['true_box']:\n",
    "        world_coord_cent = np.array((true_box[0], true_box[1], true_box[2]))\n",
    "        world_coord_diam = np.array((true_box[3], true_box[4], true_box[5]))\n",
    "\n",
    "        voxel_min, voxel_max = world_to_pixel(\n",
    "            origin, spacing, world_coord_cent, world_coord_diam\n",
    "        )\n",
    "\n",
    "        targets.append({\n",
    "            \"voxel_min\": voxel_min.astype(int),\n",
    "            \"voxel_max\": voxel_max.astype(int)\n",
    "        })\n",
    "\n",
    "    for pred_box, score in zip(content['pred_box'], content['score']):\n",
    "\n",
    "        world_coord_cent = np.array((pred_box[0], pred_box[1], pred_box[2]))\n",
    "        world_coord_diam = np.array((pred_box[3], pred_box[4], pred_box[5]))\n",
    "\n",
    "        voxel_min, voxel_max = world_to_pixel(\n",
    "            origin, spacing, world_coord_cent, world_coord_diam\n",
    "        )\n",
    "\n",
    "        boxes.append([\n",
    "            voxel_min[0].astype(int), \n",
    "            voxel_min[1].astype(int), \n",
    "            voxel_min[2].astype(int),\n",
    "            voxel_max[0].astype(int), \n",
    "            voxel_max[1].astype(int), \n",
    "            voxel_max[2].astype(int)\n",
    "        ])\n",
    "\n",
    "        scores.append(score)\n",
    "\n",
    "    boxes = torch.Tensor(boxes)\n",
    "    scores = torch.Tensor(scores)\n",
    "\n",
    "    ### NMS usage\n",
    "    keep = non_max_suppression(boxes, scores, 0.1)\n",
    "    filtered_boxes = boxes[keep]\n",
    "\n",
    "    ### without NMS\n",
    "    # filtered_boxes = []\n",
    "    # for box in boxes:\n",
    "    #     filtered_boxes.append(box)\n",
    "\n",
    "    iou = []\n",
    "    for target in targets:\n",
    "        for index in range(0, len(targets)):\n",
    "            converted = {\n",
    "                'voxel_min': np.array(\n",
    "                    (filtered_boxes[index][0],\n",
    "                    filtered_boxes[index][1],\n",
    "                    filtered_boxes[index][2])\n",
    "                ).astype(int),\n",
    "                'voxel_max': np.array(\n",
    "                    (filtered_boxes[index][3],\n",
    "                    filtered_boxes[index][4],\n",
    "                    filtered_boxes[index][5])\n",
    "                ).astype(int)\n",
    "            }\n",
    "            if any_match(converted, target):\n",
    "                iou.append(calc_iou(target, converted))\n",
    "    \n",
    "    metrics.append({\n",
    "        \"image\": content['image'],\n",
    "        \"IoU\": 0 if len(iou) == 0 else iou[0] if len(iou) == 1 else mean(iou)\n",
    "    })"
   ]
  },
  {
   "cell_type": "code",
   "execution_count": 4,
   "id": "990a3e5c-f603-4f52-83c7-e751ea9405d2",
   "metadata": {},
   "outputs": [
    {
     "data": {
      "text/html": [
       "<div>\n",
       "<style scoped>\n",
       "    .dataframe tbody tr th:only-of-type {\n",
       "        vertical-align: middle;\n",
       "    }\n",
       "\n",
       "    .dataframe tbody tr th {\n",
       "        vertical-align: top;\n",
       "    }\n",
       "\n",
       "    .dataframe thead th {\n",
       "        text-align: right;\n",
       "    }\n",
       "</style>\n",
       "<table border=\"1\" class=\"dataframe\">\n",
       "  <thead>\n",
       "    <tr style=\"text-align: right;\">\n",
       "      <th></th>\n",
       "      <th>image</th>\n",
       "      <th>IoU</th>\n",
       "    </tr>\n",
       "  </thead>\n",
       "  <tbody>\n",
       "    <tr>\n",
       "      <th>0</th>\n",
       "      <td>/data/LUNA16_Images_resample/1.3.6.1.4.1.14519...</td>\n",
       "      <td>0.000000</td>\n",
       "    </tr>\n",
       "    <tr>\n",
       "      <th>1</th>\n",
       "      <td>/data/LUNA16_Images_resample/1.3.6.1.4.1.14519...</td>\n",
       "      <td>1.000000</td>\n",
       "    </tr>\n",
       "    <tr>\n",
       "      <th>2</th>\n",
       "      <td>/data/LUNA16_Images_resample/1.3.6.1.4.1.14519...</td>\n",
       "      <td>0.909091</td>\n",
       "    </tr>\n",
       "    <tr>\n",
       "      <th>3</th>\n",
       "      <td>/data/HC_Images_resample/PL155113087338785/PL1...</td>\n",
       "      <td>0.779412</td>\n",
       "    </tr>\n",
       "    <tr>\n",
       "      <th>4</th>\n",
       "      <td>/data/LUNA16_Images_resample/1.3.6.1.4.1.14519...</td>\n",
       "      <td>0.837258</td>\n",
       "    </tr>\n",
       "  </tbody>\n",
       "</table>\n",
       "</div>"
      ],
      "text/plain": [
       "                                               image       IoU\n",
       "0  /data/LUNA16_Images_resample/1.3.6.1.4.1.14519...  0.000000\n",
       "1  /data/LUNA16_Images_resample/1.3.6.1.4.1.14519...  1.000000\n",
       "2  /data/LUNA16_Images_resample/1.3.6.1.4.1.14519...  0.909091\n",
       "3  /data/HC_Images_resample/PL155113087338785/PL1...  0.779412\n",
       "4  /data/LUNA16_Images_resample/1.3.6.1.4.1.14519...  0.837258"
      ]
     },
     "execution_count": 4,
     "metadata": {},
     "output_type": "execute_result"
    }
   ],
   "source": [
    "metrics = pd.DataFrame.from_dict(metrics)\n",
    "metrics.head()"
   ]
  },
  {
   "cell_type": "code",
   "execution_count": 12,
   "id": "c092f28c-a9b0-4272-a17a-3a9661e008ec",
   "metadata": {},
   "outputs": [],
   "source": [
    "metrics.to_csv('results.csv', index=False)"
   ]
  },
  {
   "cell_type": "code",
   "execution_count": 14,
   "id": "7d3189c5-0357-4e91-bfe2-ecc19013ffd6",
   "metadata": {},
   "outputs": [
    {
     "data": {
      "text/html": [
       "<div>\n",
       "<style scoped>\n",
       "    .dataframe tbody tr th:only-of-type {\n",
       "        vertical-align: middle;\n",
       "    }\n",
       "\n",
       "    .dataframe tbody tr th {\n",
       "        vertical-align: top;\n",
       "    }\n",
       "\n",
       "    .dataframe thead th {\n",
       "        text-align: right;\n",
       "    }\n",
       "</style>\n",
       "<table border=\"1\" class=\"dataframe\">\n",
       "  <thead>\n",
       "    <tr style=\"text-align: right;\">\n",
       "      <th></th>\n",
       "      <th>image</th>\n",
       "      <th>IoU</th>\n",
       "    </tr>\n",
       "  </thead>\n",
       "  <tbody>\n",
       "    <tr>\n",
       "      <th>0</th>\n",
       "      <td>/data/LUNA16_Images_resample/1.3.6.1.4.1.14519...</td>\n",
       "      <td>0.000000</td>\n",
       "    </tr>\n",
       "    <tr>\n",
       "      <th>1</th>\n",
       "      <td>/data/LUNA16_Images_resample/1.3.6.1.4.1.14519...</td>\n",
       "      <td>1.000000</td>\n",
       "    </tr>\n",
       "    <tr>\n",
       "      <th>2</th>\n",
       "      <td>/data/LUNA16_Images_resample/1.3.6.1.4.1.14519...</td>\n",
       "      <td>0.909091</td>\n",
       "    </tr>\n",
       "    <tr>\n",
       "      <th>3</th>\n",
       "      <td>/data/HC_Images_resample/PL155113087338785/PL1...</td>\n",
       "      <td>0.779412</td>\n",
       "    </tr>\n",
       "    <tr>\n",
       "      <th>4</th>\n",
       "      <td>/data/LUNA16_Images_resample/1.3.6.1.4.1.14519...</td>\n",
       "      <td>0.837258</td>\n",
       "    </tr>\n",
       "  </tbody>\n",
       "</table>\n",
       "</div>"
      ],
      "text/plain": [
       "                                               image       IoU\n",
       "0  /data/LUNA16_Images_resample/1.3.6.1.4.1.14519...  0.000000\n",
       "1  /data/LUNA16_Images_resample/1.3.6.1.4.1.14519...  1.000000\n",
       "2  /data/LUNA16_Images_resample/1.3.6.1.4.1.14519...  0.909091\n",
       "3  /data/HC_Images_resample/PL155113087338785/PL1...  0.779412\n",
       "4  /data/LUNA16_Images_resample/1.3.6.1.4.1.14519...  0.837258"
      ]
     },
     "execution_count": 14,
     "metadata": {},
     "output_type": "execute_result"
    }
   ],
   "source": []
  },
  {
   "cell_type": "code",
   "execution_count": 15,
   "id": "e6d0a27b-c94e-4a63-a88f-828c2d37e06c",
   "metadata": {},
   "outputs": [
    {
     "data": {
      "text/plain": [
       "count    155.000000\n",
       "mean       0.503983\n",
       "std        0.362429\n",
       "min        0.000000\n",
       "25%        0.000000\n",
       "50%        0.671031\n",
       "75%        0.792990\n",
       "max        1.000000\n",
       "Name: IoU, dtype: float64"
      ]
     },
     "execution_count": 15,
     "metadata": {},
     "output_type": "execute_result"
    }
   ],
   "source": []
  },
  {
   "cell_type": "code",
   "execution_count": 16,
   "id": "4ab9daea-a346-49d0-9ba5-2518cd043d70",
   "metadata": {},
   "outputs": [
    {
     "data": {
      "text/plain": [
       "array([[<Axes: title={'center': 'IoU'}>]], dtype=object)"
      ]
     },
     "execution_count": 16,
     "metadata": {},
     "output_type": "execute_result"
    },
    {
     "data": {
      "image/png": "[encoded data removed]",
      "text/plain": [
       "<Figure size 640x480 with 1 Axes>"
      ]
     },
     "metadata": {},
     "output_type": "display_data"
    }
   ],
   "source": []
  },
  {
   "cell_type": "code",
   "execution_count": null,
   "id": "b6b5fa80-63fa-4bf9-b13b-01a31a7a867b",
   "metadata": {},
   "outputs": [],
   "source": []
  }
 ],
 "metadata": {
  "kernelspec": {
   "display_name": "Python 3 (ipykernel)",
   "language": "python",
   "name": "python3"
  },
  "language_info": {
   "codemirror_mode": {
    "name": "ipython",
    "version": 3
   },
   "file_extension": ".py",
   "mimetype": "text/x-python",
   "name": "python",
   "nbconvert_exporter": "python",
   "pygments_lexer": "ipython3",
   "version": "3.8.10"
  }
 },
 "nbformat": 4,
 "nbformat_minor": 5
}
