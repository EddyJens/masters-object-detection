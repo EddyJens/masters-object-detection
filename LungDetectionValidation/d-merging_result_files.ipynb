{
 "cells": [
  {
   "cell_type": "code",
   "execution_count": 1,
   "metadata": {},
   "outputs": [],
   "source": [
    "import json"
   ]
  },
  {
   "cell_type": "code",
   "execution_count": 2,
   "metadata": {},
   "outputs": [],
   "source": [
    "files = [\n",
    "    'pixel-parsed-mixed_test-overjoyed-hen-305',\n",
    "    'pixel-parsed-mixed_test-indecisive-eel-172',\n",
    "    'pixel-parsed-mixed_test-crawling-sloth-537',\n",
    "    'pixel-parsed-mixed_test-powerful-goat-766'\n",
    "]"
   ]
  },
  {
   "cell_type": "code",
   "execution_count": 3,
   "metadata": {},
   "outputs": [],
   "source": [
    "merged = []\n",
    "\n",
    "file_name0, file_name1, file_name2, file_name3 = files[0], files[1], files[2], files[3]\n",
    "\n",
    "data_list_file_path = f'/data/output/validation/each_window/{file_name0}.json'\n",
    "f = open(data_list_file_path)\n",
    "data0 = json.load(f)\n",
    "data_list_file_path = f'/data/output/validation/each_window/{file_name1}.json'\n",
    "f = open(data_list_file_path)\n",
    "data1 = json.load(f)\n",
    "data_list_file_path = f'/data/output/validation/each_window/{file_name2}.json'\n",
    "f = open(data_list_file_path)\n",
    "data2 = json.load(f)\n",
    "data_list_file_path = f'/data/output/validation/each_window/{file_name3}.json'\n",
    "f = open(data_list_file_path)\n",
    "data3 = json.load(f)\n",
    "\n",
    "for content0, content1, content2, content3 in zip(\n",
    "    data0['test'], data1['test'], data2['test'], data3['test']\n",
    "):\n",
    "    \n",
    "    content0[\"pred_box\"].extend(content1[\"pred_box\"])\n",
    "    content0[\"pred_box\"].extend(content2[\"pred_box\"])\n",
    "    content0[\"pred_box\"].extend(content3[\"pred_box\"])\n",
    "\n",
    "    content0[\"score\"].extend(content1[\"score\"])\n",
    "    content0[\"score\"].extend(content2[\"score\"])\n",
    "    content0[\"score\"].extend(content3[\"score\"])\n",
    "\n",
    "    merged.append({\n",
    "        \"image\": content0[\"image\"],\n",
    "        \"true_box\": content0[\"true_box\"],\n",
    "        \"pred_box\": content0[\"pred_box\"],\n",
    "        \"score\": content0[\"score\"]\n",
    "    })\n",
    "\n",
    "value = {\n",
    "    \"test\": merged\n",
    "}\n",
    "\n",
    "with open(f'/data/output/validation/each_window/pixel-parsed-all.json', 'w') as write_file:\n",
    "        json.dump(value, write_file, indent=4)"
   ]
  },
  {
   "cell_type": "code",
   "execution_count": null,
   "metadata": {},
   "outputs": [],
   "source": []
  }
 ],
 "metadata": {
  "kernelspec": {
   "display_name": "Python 3",
   "language": "python",
   "name": "python3"
  },
  "language_info": {
   "codemirror_mode": {
    "name": "ipython",
    "version": 3
   },
   "file_extension": ".py",
   "mimetype": "text/x-python",
   "name": "python",
   "nbconvert_exporter": "python",
   "pygments_lexer": "ipython3",
   "version": "3.8.10"
  }
 },
 "nbformat": 4,
 "nbformat_minor": 2
}
