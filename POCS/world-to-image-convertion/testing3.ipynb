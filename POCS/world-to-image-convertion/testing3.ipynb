{
 "cells": [
  {
   "cell_type": "code",
   "execution_count": 17,
   "id": "30bad8dc-4050-402f-904d-13bfed2b82e0",
   "metadata": {},
   "outputs": [],
   "source": [
    "from loading_dataset import load_data\n",
    "import SimpleITK as sitk\n",
    "import numpy as np"
   ]
  },
  {
   "cell_type": "code",
   "execution_count": 2,
   "id": "d0a9844f-0c20-4a69-a758-a92189186697",
   "metadata": {},
   "outputs": [],
   "source": [
    "gt_box_mode = 'cccwhd'\n",
    "# gt_box_mode = 'xyzxyz'\n",
    "batch_size = 1\n",
    "patch_size = [96,96,40]\n",
    "amp=True\n",
    "data_list_file_path = '/data/output/LUNA16-micro.json'\n",
    "data_base_dir = '/data/LUNA16_Images_resample/'"
   ]
  },
  {
   "cell_type": "code",
   "execution_count": 3,
   "id": "4e01cf16-b723-4ae2-b096-5118f38ac6b1",
   "metadata": {},
   "outputs": [
    {
     "name": "stderr",
     "output_type": "stream",
     "text": [
      "monai.transforms.io.dictionary LoadImaged.__init__:image_only: Current default value of argument `image_only=False` has been deprecated since version 1.1. It will be changed to `image_only=True` in version 1.3.\n"
     ]
    }
   ],
   "source": [
    "train_loader, val_loader, len_train_ds = load_data(\n",
    "    gt_box_mode, patch_size, batch_size, amp, data_list_file_path, data_base_dir\n",
    ")"
   ]
  },
  {
   "cell_type": "code",
   "execution_count": 8,
   "id": "5e8e0505-666b-4f3f-9042-1a0e2aeb9316",
   "metadata": {},
   "outputs": [
    {
     "name": "stdout",
     "output_type": "stream",
     "text": [
      "metatensor([[136.0000, 191.6250,  70.5625, 161.8750, 217.5000,  85.1250],\n",
      "        [255.0000, 240.7500, 172.3750, 269.7500, 255.5000, 180.6250],\n",
      "        [202.8750, 355.7500, 177.0000, 214.7500, 367.5000, 183.6250],\n",
      "        [175.0000, 153.1250, 169.7500, 220.8750, 199.0000, 195.5000],\n",
      "        [128.6250, 310.7500, 135.8750, 135.6250, 317.7500, 139.8750]],\n",
      "       dtype=torch.float16)\n",
      "/data/LUNA16_Images_resample/1.3.6.1.4.1.14519.5.2.1.6279.6001.287966244644280690737019247886/1.3.6.1.4.1.14519.5.2.1.6279.6001.287966244644280690737019247886.nii.gz\n"
     ]
    }
   ],
   "source": [
    "for val_data in val_loader:\n",
    "    print(val_data[0][\"box\"])\n",
    "    print(val_data[0][\"image_meta_dict\"][\"filename_or_obj\"])"
   ]
  },
  {
   "cell_type": "markdown",
   "id": "35254f6f-be84-4093-b223-277b53608b9d",
   "metadata": {},
   "source": [
    "[102.2377292, 65.32842988, -240.6955559, 18.210145, 18.210145, 18.210145], <br>\n",
    "[22.53616818, 34.72145001, -117.4375995, 10.33971307,\n",
    "                         10.33971307,\n",
    "                         10.33971307\n",
    "                    ], <br>\n",
    "                    [\n",
    "                         60.18947724,\n",
    "                         -45.04675978,\n",
    "                         -112.6427797,\n",
    "                         8.349225392,\n",
    "                         8.349225392,\n",
    "                         8.349225392\n",
    "                    ], <br>\n",
    "                    [\n",
    "                         67.82725575,\n",
    "                         85.37992457,\n",
    "                         -109.7467238,\n",
    "                         32.27003025,\n",
    "                         32.27003025,\n",
    "                         32.27003025\n",
    "                    ], <br>\n",
    "                    [\n",
    "                         114.1058249,\n",
    "                         -11.85681073,\n",
    "                         -165.6215278,\n",
    "                         4.915612527,\n",
    "                         4.915612527,\n",
    "                         4.915612527\n",
    "                    ]\n",
    "               ], <br>\n",
    "               \"image\": \"1.3.6.1.4.1.14519.5.2.1.6279.6001.287966244644280690737019247886/1.3.6.1.4.1.14519.5.2.1.6279.6001.287966244644280690737019247886.nii.gz\"}"
   ]
  },
  {
   "cell_type": "code",
   "execution_count": null,
   "id": "1248e29e-7769-42ce-b72e-e23e94f46b9f",
   "metadata": {},
   "outputs": [],
   "source": [
    "cccwhd\n",
    "\n",
    "xyzxyz"
   ]
  },
  {
   "cell_type": "code",
   "execution_count": 57,
   "id": "49c2882f-27ef-4eff-b62b-8c0e5170f2a6",
   "metadata": {},
   "outputs": [
    {
     "name": "stdout",
     "output_type": "stream",
     "text": [
      "25.875 25.875 14.5625\n",
      "148.9375 204.5625 77.84375\n"
     ]
    }
   ],
   "source": [
    "print(\n",
    "    np.absolute(136.0000 - 161.8750),\n",
    "    np.absolute(191.6250 - 217.5000), \n",
    "    np.absolute(70.5625 - 85.1250))\n",
    "print(\n",
    "    136.0000 + np.absolute(136.0000 - 161.8750)/2,\n",
    "    191.6250 + np.absolute(191.6250 - 217.5000)/2,\n",
    "    70.5625 + np.absolute(70.5625 - 85.1250)/2\n",
    ")"
   ]
  },
  {
   "cell_type": "code",
   "execution_count": 20,
   "id": "9d91b3ac-36ee-409b-ac26-72576886d52e",
   "metadata": {},
   "outputs": [],
   "source": [
    "def load_itk(filename):\n",
    "    itkimage = sitk.ReadImage(filename)\n",
    "    image_array = sitk.GetArrayFromImage(itkimage)\n",
    "    origin = np.array(list(itkimage.GetOrigin()))\n",
    "    spacing = np.array(list(itkimage.GetSpacing()))\n",
    "\n",
    "    return origin, spacing"
   ]
  },
  {
   "cell_type": "code",
   "execution_count": 21,
   "id": "2764fbdb-7f1d-476f-ac71-44f55e3539ba",
   "metadata": {},
   "outputs": [
    {
     "name": "stdout",
     "output_type": "stream",
     "text": [
      "[ 206.97944641  209.17944336 -338.        ] [0.703125 0.703125 1.25    ]\n"
     ]
    }
   ],
   "source": [
    "origin, spacing = load_itk(\n",
    "    '/data/LUNA16_Images_resample/1.3.6.1.4.1.14519.5.2.1.6279.6001.287966244644280690737019247886/1.3.6.1.4.1.14519.5.2.1.6279.6001.287966244644280690737019247886.nii.gz'\n",
    ")\n",
    "print(origin, spacing)"
   ]
  },
  {
   "cell_type": "code",
   "execution_count": 38,
   "id": "6fe06092-7ff4-494b-8272-cf391f68d734",
   "metadata": {},
   "outputs": [
    {
     "data": {
      "text/plain": [
       "array([148.96599781, 204.58810806,  77.84355528])"
      ]
     },
     "execution_count": 38,
     "metadata": {},
     "output_type": "execute_result"
    }
   ],
   "source": [
    "world_coordinates = np.array([102.2377292, 65.32842988, -240.6955559])\n",
    "voxel_coordinates = np.absolute(world_coordinates - origin) / spacing\n",
    "voxel_coordinates"
   ]
  },
  {
   "cell_type": "code",
   "execution_count": 55,
   "id": "58e90b72-393e-4466-964d-c046e575816b",
   "metadata": {},
   "outputs": [
    {
     "data": {
      "text/plain": [
       "array([25.89887289, 25.89887289, 14.568116  ])"
      ]
     },
     "execution_count": 55,
     "metadata": {},
     "output_type": "execute_result"
    }
   ],
   "source": [
    "world_coordinates = np.array([18.210145, 18.210145, 18.210145])\n",
    "# voxel_coordinates = np.absolute(world_coordinates - origin) / spacing\n",
    "voxel_coordinates = world_coordinates/ spacing\n",
    "voxel_coordinates"
   ]
  },
  {
   "cell_type": "code",
   "execution_count": 53,
   "id": "e9976408-9c27-4af2-8c27-2470c2c0cca4",
   "metadata": {},
   "outputs": [
    {
     "data": {
      "text/plain": [
       "array([ 102.25776672,   65.34643555, -435.3046875 ])"
      ]
     },
     "execution_count": 53,
     "metadata": {},
     "output_type": "execute_result"
    }
   ],
   "source": [
    "voxel_coordinates = np.array([148.9375, 204.5625, 77.84375])\n",
    "world_coordinates = ((voxel_coordinates * spacing) - origin) * -1\n",
    "world_coordinates"
   ]
  },
  {
   "cell_type": "code",
   "execution_count": 61,
   "id": "e2bb3e35-2166-4ca9-86e6-a83fd94b323c",
   "metadata": {},
   "outputs": [
    {
     "data": {
      "text/plain": [
       "array([18.19335938, 18.19335938, 18.203125  ])"
      ]
     },
     "execution_count": 61,
     "metadata": {},
     "output_type": "execute_result"
    }
   ],
   "source": [
    "voxel_coordinates = np.array([25.875, 25.875, 14.5625])\n",
    "# world_coordinates = ((voxel_coordinates * spacing) - origin) * -1\n",
    "world_coordinates = voxel_coordinates * spacing\n",
    "world_coordinates"
   ]
  },
  {
   "cell_type": "code",
   "execution_count": null,
   "id": "40db05a2-7c24-4601-ba7a-a9f3f93f652f",
   "metadata": {},
   "outputs": [],
   "source": []
  }
 ],
 "metadata": {
  "kernelspec": {
   "display_name": "Python 3 (ipykernel)",
   "language": "python",
   "name": "python3"
  },
  "language_info": {
   "codemirror_mode": {
    "name": "ipython",
    "version": 3
   },
   "file_extension": ".py",
   "mimetype": "text/x-python",
   "name": "python",
   "nbconvert_exporter": "python",
   "pygments_lexer": "ipython3",
   "version": "3.8.10"
  }
 },
 "nbformat": 4,
 "nbformat_minor": 5
}
