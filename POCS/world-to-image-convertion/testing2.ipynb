{
 "cells": [
  {
   "cell_type": "code",
   "execution_count": 2,
   "id": "8bfb112d-716a-4e79-a473-365bdc799045",
   "metadata": {},
   "outputs": [],
   "source": [
    "from monai.data.box_utils import convert_box_mode\n",
    "import pandas as pd\n",
    "import numpy as np\n",
    "import ast"
   ]
  },
  {
   "cell_type": "code",
   "execution_count": 2,
   "id": "a4ac969d-95fc-40b4-99a5-15d74e1197f7",
   "metadata": {},
   "outputs": [],
   "source": [
    "def from_np_array(array_string):\n",
    "    array_string = ','.join(\n",
    "        array_string.replace('[  ', '[').replace('[ ', '[').split()\n",
    "    )\n",
    "    return np.array(ast.literal_eval(array_string))"
   ]
  },
  {
   "cell_type": "code",
   "execution_count": 3,
   "id": "603a17f6-7254-4021-b6ec-23be70960921",
   "metadata": {},
   "outputs": [
    {
     "name": "stdout",
     "output_type": "stream",
     "text": [
      "(101, 10)\n"
     ]
    },
    {
     "data": {
      "text/html": [
       "<div>\n",
       "<style scoped>\n",
       "    .dataframe tbody tr th:only-of-type {\n",
       "        vertical-align: middle;\n",
       "    }\n",
       "\n",
       "    .dataframe tbody tr th {\n",
       "        vertical-align: top;\n",
       "    }\n",
       "\n",
       "    .dataframe thead th {\n",
       "        text-align: right;\n",
       "    }\n",
       "</style>\n",
       "<table border=\"1\" class=\"dataframe\">\n",
       "  <thead>\n",
       "    <tr style=\"text-align: right;\">\n",
       "      <th></th>\n",
       "      <th>name</th>\n",
       "      <th>spacing</th>\n",
       "      <th>origin</th>\n",
       "      <th>exam_refined</th>\n",
       "      <th>x_min</th>\n",
       "      <th>y_min</th>\n",
       "      <th>z_min</th>\n",
       "      <th>x_max</th>\n",
       "      <th>y_max</th>\n",
       "      <th>z_max</th>\n",
       "    </tr>\n",
       "  </thead>\n",
       "  <tbody>\n",
       "    <tr>\n",
       "      <th>0</th>\n",
       "      <td>PL032303325116347</td>\n",
       "      <td>[1.25, 0.703125, 0.703125]</td>\n",
       "      <td>[-239.75, -237.5, -185.699997]</td>\n",
       "      <td>False</td>\n",
       "      <td>311</td>\n",
       "      <td>312</td>\n",
       "      <td>62</td>\n",
       "      <td>337</td>\n",
       "      <td>341</td>\n",
       "      <td>76</td>\n",
       "    </tr>\n",
       "    <tr>\n",
       "      <th>1</th>\n",
       "      <td>PL061850842690412</td>\n",
       "      <td>[1.0, 0.976562, 0.976562]</td>\n",
       "      <td>[-241.5, -109.0, -244.0]</td>\n",
       "      <td>False</td>\n",
       "      <td>161</td>\n",
       "      <td>302</td>\n",
       "      <td>278</td>\n",
       "      <td>186</td>\n",
       "      <td>328</td>\n",
       "      <td>301</td>\n",
       "    </tr>\n",
       "    <tr>\n",
       "      <th>2</th>\n",
       "      <td>PL064775189851313</td>\n",
       "      <td>[0.75, 0.921875, 0.921875]</td>\n",
       "      <td>[-13.5, -99.0, -237.0]</td>\n",
       "      <td>False</td>\n",
       "      <td>328</td>\n",
       "      <td>313</td>\n",
       "      <td>324</td>\n",
       "      <td>355</td>\n",
       "      <td>337</td>\n",
       "      <td>346</td>\n",
       "    </tr>\n",
       "    <tr>\n",
       "      <th>3</th>\n",
       "      <td>PL070153620449075</td>\n",
       "      <td>[1.0, 0.976562, 0.976562]</td>\n",
       "      <td>[16.5, -130.0, -253.0]</td>\n",
       "      <td>False</td>\n",
       "      <td>140</td>\n",
       "      <td>230</td>\n",
       "      <td>276</td>\n",
       "      <td>195</td>\n",
       "      <td>275</td>\n",
       "      <td>310</td>\n",
       "    </tr>\n",
       "    <tr>\n",
       "      <th>4</th>\n",
       "      <td>PL075999918976403</td>\n",
       "      <td>[1.0000001, 0.902344, 0.902344]</td>\n",
       "      <td>[356.999969, -153.0, -243.0]</td>\n",
       "      <td>False</td>\n",
       "      <td>175</td>\n",
       "      <td>298</td>\n",
       "      <td>222</td>\n",
       "      <td>235</td>\n",
       "      <td>352</td>\n",
       "      <td>272</td>\n",
       "    </tr>\n",
       "  </tbody>\n",
       "</table>\n",
       "</div>"
      ],
      "text/plain": [
       "                name                          spacing  \\\n",
       "0  PL032303325116347       [1.25, 0.703125, 0.703125]   \n",
       "1  PL061850842690412        [1.0, 0.976562, 0.976562]   \n",
       "2  PL064775189851313       [0.75, 0.921875, 0.921875]   \n",
       "3  PL070153620449075        [1.0, 0.976562, 0.976562]   \n",
       "4  PL075999918976403  [1.0000001, 0.902344, 0.902344]   \n",
       "\n",
       "                           origin  exam_refined  x_min  y_min  z_min  x_max  \\\n",
       "0  [-239.75, -237.5, -185.699997]         False    311    312     62    337   \n",
       "1        [-241.5, -109.0, -244.0]         False    161    302    278    186   \n",
       "2          [-13.5, -99.0, -237.0]         False    328    313    324    355   \n",
       "3          [16.5, -130.0, -253.0]         False    140    230    276    195   \n",
       "4    [356.999969, -153.0, -243.0]         False    175    298    222    235   \n",
       "\n",
       "   y_max  z_max  \n",
       "0    341     76  \n",
       "1    328    301  \n",
       "2    337    346  \n",
       "3    275    310  \n",
       "4    352    272  "
      ]
     },
     "execution_count": 3,
     "metadata": {},
     "output_type": "execute_result"
    }
   ],
   "source": [
    "content = pd.read_csv(\n",
    "    '/data/output/hc_clean_nodules.csv',\n",
    "    converters={\n",
    "        'spacing': from_np_array,\n",
    "        'origin': from_np_array\n",
    "    }\n",
    ")\n",
    "print(content.shape)\n",
    "content.head()"
   ]
  },
  {
   "cell_type": "code",
   "execution_count": 7,
   "id": "e9f9a1ac-9c56-4073-9f11-d074edcf3dc8",
   "metadata": {},
   "outputs": [
    {
     "name": "stdout",
     "output_type": "stream",
     "text": [
      "PL032303325116347 [[324 326  69  26  29  14]]\n",
      "PL061850842690412 [[173 315 289  25  26  23]]\n",
      "PL064775189851313 [[341 325 335  27  24  22]]\n",
      "PL070153620449075 [[167 252 293  55  45  34]]\n",
      "PL075999918976403 [[205 325 247  60  54  50]]\n",
      "PL090002409998035 [[165 306 288  27  30  23]]\n",
      "PL092011846020010 [[306 272 275  29  31  22]]\n",
      "PL105774832311414 [[155 345 182  38  38  43]]\n",
      "PL107909012459665 [[175 195 211  16  17  16]]\n",
      "PL126225386175081 [[180 268 318  47  40  36]]\n"
     ]
    }
   ],
   "source": [
    "for hc_bb in content[0:10].itertuples(index=False):\n",
    "    _vec = [hc_bb[4], hc_bb[5], hc_bb[6], hc_bb[7], hc_bb[8], hc_bb[9]]\n",
    "    vec = convert_box_mode(\n",
    "        np.expand_dims(np.array(_vec), axis=0),\n",
    "        src_mode=\"xyzxyz\",\n",
    "        dst_mode=\"cccwhd\"\n",
    "        # dst_mode=\"xyzxyz\"\n",
    "    )\n",
    "    print(hc_bb[0], vec)"
   ]
  },
  {
   "cell_type": "markdown",
   "id": "0d197fcb-2746-49c8-8da0-081790764c7c",
   "metadata": {},
   "source": [
    "### testing on a LUNA16 sample"
   ]
  },
  {
   "cell_type": "code",
   "execution_count": 3,
   "id": "a1f2dbad-fc86-4ad6-9385-903b6d910f5f",
   "metadata": {},
   "outputs": [
    {
     "name": "stdout",
     "output_type": "stream",
     "text": [
      "[[148.9375  204.5625   77.84375  25.875    25.875    14.5625 ]]\n"
     ]
    }
   ],
   "source": [
    "_vec = [136.0000, 191.6250,  70.5625, 161.8750, 217.5000, 85.1250]\n",
    "vec = convert_box_mode(\n",
    "    np.expand_dims(np.array(_vec), axis=0),\n",
    "    src_mode=\"xyzxyz\",\n",
    "    # src_mode=\"cccwhd\",\n",
    "    dst_mode=\"cccwhd\"\n",
    "    # dst_mode=\"xyzxyz\"\n",
    ")\n",
    "print(vec)"
   ]
  },
  {
   "cell_type": "code",
   "execution_count": 11,
   "id": "0b555309-dfea-4a53-928e-6523e0efdfde",
   "metadata": {},
   "outputs": [
    {
     "name": "stdout",
     "output_type": "stream",
     "text": [
      "[[ 93.13265622  56.2233569  231.59048292 111.34280218  74.43350286\n",
      "  249.80062888]]\n"
     ]
    }
   ],
   "source": [
    "_vec = [102.2377292, 65.32842988, 240.6955559, 18.210145, 18.210145, 18.210145]\n",
    "vec = convert_box_mode(\n",
    "    np.expand_dims(np.array(_vec), axis=0),\n",
    "    src_mode=\"cccwhd\",\n",
    "    # src_mode=\"xyzxyz\",\n",
    "    # dst_mode=\"cccwhd\"\n",
    "    dst_mode=\"xyzxyz\"\n",
    ")\n",
    "print(vec)"
   ]
  },
  {
   "cell_type": "markdown",
   "id": "cd7f1a4c-b9db-4763-967c-c0d59e9fd136",
   "metadata": {},
   "source": [
    "there is something weird with this transformation, the convertions do not fit the original files!"
   ]
  },
  {
   "cell_type": "code",
   "execution_count": 13,
   "id": "1217e761-5776-4d99-9335-0916751b3727",
   "metadata": {},
   "outputs": [
    {
     "name": "stdout",
     "output_type": "stream",
     "text": [
      "-18.210145960000006\n",
      "-18.210145960000006\n",
      "-18.210145960000006\n"
     ]
    }
   ],
   "source": [
    "print(93.13265622 - 111.34280218)\n",
    "print(56.2233569 - 74.43350286)\n",
    "print(231.59048292 -  249.80062888)"
   ]
  },
  {
   "cell_type": "code",
   "execution_count": null,
   "id": "6463f3a2-4ae9-4e8e-9b72-302a03e16b73",
   "metadata": {},
   "outputs": [],
   "source": []
  }
 ],
 "metadata": {
  "kernelspec": {
   "display_name": "Python 3 (ipykernel)",
   "language": "python",
   "name": "python3"
  },
  "language_info": {
   "codemirror_mode": {
    "name": "ipython",
    "version": 3
   },
   "file_extension": ".py",
   "mimetype": "text/x-python",
   "name": "python",
   "nbconvert_exporter": "python",
   "pygments_lexer": "ipython3",
   "version": "3.8.10"
  }
 },
 "nbformat": 4,
 "nbformat_minor": 5
}
