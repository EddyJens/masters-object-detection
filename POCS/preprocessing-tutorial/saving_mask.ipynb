{
 "cells": [
  {
   "cell_type": "code",
   "execution_count": 1,
   "metadata": {},
   "outputs": [],
   "source": [
    "import SimpleITK as sitk\n",
    "import glob\n",
    "from tqdm import tqdm\n",
    "import os\n",
    "from utils import load_scan, segmented_entire_image"
   ]
  },
  {
   "cell_type": "code",
   "execution_count": 2,
   "metadata": {},
   "outputs": [
    {
     "name": "stdout",
     "output_type": "stream",
     "text": [
      "888\n"
     ]
    },
    {
     "data": {
      "text/plain": [
       "'1.3.6.1.4.1.14519.5.2.1.6279.6001.100225287222365663678666836860'"
      ]
     },
     "execution_count": 2,
     "metadata": {},
     "output_type": "execute_result"
    }
   ],
   "source": [
    "INPUT_FOLDER = r'D:/masters_datasets/LUNA16-original/LUNA16_Images/*.mhd'\n",
    "exams = glob.glob(INPUT_FOLDER)\n",
    "print(len(exams))\n",
    "exams.sort()\n",
    "\n",
    "exams[0].split('\\\\')[-1].split('.mhd')[0]"
   ]
  },
  {
   "cell_type": "code",
   "execution_count": 3,
   "metadata": {},
   "outputs": [
    {
     "name": "stderr",
     "output_type": "stream",
     "text": [
      "131it [05:04,  2.32s/it]00:00<?, ?it/s]\n",
      "256it [08:19,  1.95s/it][05:06<48:17,  8.28s/it]\n",
      "241it [08:38,  2.15s/it][13:29<2:35:10, 26.68s/it]\n",
      "445it [15:36,  2.10s/it][22:11<4:59:31, 51.64s/it]\n",
      "468it [16:38,  2.13s/it][37:54<10:45:07, 111.55s/it]\n",
      "248it [10:02,  2.43s/it][54:40<18:14:59, 189.88s/it]\n",
      "127it [04:27,  2.11s/it][1:04:47<22:38:33, 236.27s/it]\n",
      "123it [04:26,  2.17s/it][1:09:16<23:00:49, 240.84s/it]\n",
      "166it [06:05,  2.20s/it][1:13:45<23:23:11, 245.46s/it]\n",
      "141it [05:18,  2.26s/it][1:19:57<25:35:13, 269.34s/it]\n",
      "261it [08:35,  1.97s/it][1:25:21<26:37:28, 281.08s/it]\n",
      "153it [05:15,  2.06s/it][1:34:05<31:53:12, 337.62s/it]\n",
      "567it [21:21,  2.26s/it][1:39:23<31:20:23, 332.81s/it]\n",
      "152it [07:48,  3.08s/it][2:00:55<54:57:11, 585.30s/it]\n",
      "191it [10:44,  3.37s/it][2:08:49<51:56:31, 554.87s/it]\n",
      "241it [14:23,  3.58s/it][2:19:39<54:17:00, 581.61s/it]\n",
      "127it [05:47,  2.73s/it][2:34:13<61:53:52, 665.17s/it]\n",
      "270it [11:09,  2.48s/it][2:40:09<53:23:26, 575.47s/it]\n",
      "413it [15:20,  2.23s/it][2:51:24<55:55:44, 604.64s/it]\n",
      " 14%|█▍        | 55/387 [3:06:52<64:33:49, 700.09s/it]"
     ]
    }
   ],
   "source": [
    "### run again to test dilation 10! last one was 20\n",
    "for i in tqdm(range(500, 887)):\n",
    "    # if exams[i].split('\\\\')[-1].split('.mhd')[0] == '1.3.6.1.4.1.14519.5.2.1.6279.6001.250397690690072950000431855143':\n",
    "    if not os.path.exists('water-mask/' + exams[i].split('\\\\')[-1].split('.mhd')[0] + '-mask.nrrd'):\n",
    "        current_exam = load_scan(exams[i])\n",
    "        segmented_lungs = segmented_entire_image(current_exam)\n",
    "        ma = sitk.GetImageFromArray(segmented_lungs)\n",
    "        sitk.WriteImage(ma, 'water-mask/' + exams[i].split('\\\\')[-1].split('.mhd')[0] + '-mask.nrrd', True)\n",
    "    else:\n",
    "        continue\n"
   ]
  },
  {
   "cell_type": "code",
   "execution_count": null,
   "metadata": {},
   "outputs": [],
   "source": [
    "# data = load_scan('generated/exam.nrrd')\n",
    "\n",
    "# print(np.unique(data, return_counts=True))\n",
    "# print(type(data))\n",
    "# print(data.shape)\n",
    "# print(np.max(data))   \n",
    "# print(np.min(data))"
   ]
  },
  {
   "cell_type": "code",
   "execution_count": null,
   "metadata": {},
   "outputs": [],
   "source": [
    "# data = load_scan('generated/mask.nrrd')\n",
    "\n",
    "# print(np.unique(data, return_counts=True))\n",
    "# print(type(data))\n",
    "# print(data.shape)\n",
    "# print(np.max(data))\n",
    "# print(np.min(data))"
   ]
  },
  {
   "cell_type": "code",
   "execution_count": null,
   "metadata": {},
   "outputs": [],
   "source": [
    "# count = 0\n",
    "# for slice in data:\n",
    "#     count += 1\n",
    "\n",
    "# print(count)"
   ]
  },
  {
   "cell_type": "code",
   "execution_count": null,
   "metadata": {},
   "outputs": [],
   "source": []
  }
 ],
 "metadata": {
  "kernelspec": {
   "display_name": "objectLungCT",
   "language": "python",
   "name": "python3"
  },
  "language_info": {
   "codemirror_mode": {
    "name": "ipython",
    "version": 3
   },
   "file_extension": ".py",
   "mimetype": "text/x-python",
   "name": "python",
   "nbconvert_exporter": "python",
   "pygments_lexer": "ipython3",
   "version": "3.11.3"
  },
  "orig_nbformat": 4
 },
 "nbformat": 4,
 "nbformat_minor": 2
}
