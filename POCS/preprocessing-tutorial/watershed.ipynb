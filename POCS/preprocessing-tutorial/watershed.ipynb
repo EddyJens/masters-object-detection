{
 "cells": [
  {
   "cell_type": "code",
   "execution_count": null,
   "metadata": {},
   "outputs": [],
   "source": [
    "# reference: https://www.kaggle.com/code/ankasor/improved-lung-segmentation-using-watershed/notebook"
   ]
  },
  {
   "cell_type": "code",
   "execution_count": null,
   "metadata": {},
   "outputs": [],
   "source": [
    "%matplotlib inline\n",
    "\n",
    "import numpy as np\n",
    "import scipy.ndimage as ndimage\n",
    "import matplotlib.pyplot as plt\n",
    "import glob\n",
    "\n",
    "from skimage import measure, segmentation\n",
    "from tqdm import tqdm\n",
    "\n",
    "from utils import (\n",
    "    plot_3d, load_scan,\n",
    "    optimized_separate_lungs\n",
    ")\n",
    "\n",
    "# Some constants \n",
    "INPUT_FOLDER = r'D:/masters_datasets/LUNA16-original/LUNA16_Images/*.mhd'\n",
    "exams = glob.glob(INPUT_FOLDER)\n",
    "print(len(exams))\n",
    "exams.sort()"
   ]
  },
  {
   "attachments": {},
   "cell_type": "markdown",
   "metadata": {},
   "source": [
    "### Loading the files"
   ]
  },
  {
   "cell_type": "code",
   "execution_count": null,
   "metadata": {},
   "outputs": [],
   "source": [
    "first_exam_pixels = load_scan(exams[7])\n",
    "print(first_exam_pixels.shape)\n",
    "print (\"Original Slice\")\n",
    "slice = 100\n",
    "plt.imshow(first_exam_pixels[slice], cmap=plt.cm.gray)\n",
    "plt.show()"
   ]
  },
  {
   "cell_type": "code",
   "execution_count": null,
   "metadata": {},
   "outputs": [],
   "source": [
    "print(first_exam_pixels.shape)"
   ]
  },
  {
   "cell_type": "markdown",
   "metadata": {},
   "source": [
    "### Generate markers"
   ]
  },
  {
   "cell_type": "code",
   "execution_count": null,
   "metadata": {},
   "outputs": [],
   "source": [
    "def generate_markers(image):\n",
    "    #Creation of the internal Marker\n",
    "    marker_internal = image < -400\n",
    "    marker_internal = segmentation.clear_border(marker_internal)\n",
    "    marker_internal_labels = measure.label(marker_internal)\n",
    "    areas = [r.area for r in measure.regionprops(marker_internal_labels)]\n",
    "    areas.sort()\n",
    "    if len(areas) > 2:\n",
    "        for region in measure.regionprops(marker_internal_labels):\n",
    "            if region.area < areas[-2]:\n",
    "                for coordinates in region.coords:                \n",
    "                       marker_internal_labels[coordinates[0], coordinates[1]] = 0\n",
    "    marker_internal = marker_internal_labels > 0\n",
    "    #Creation of the external Marker\n",
    "    external_a = ndimage.binary_dilation(marker_internal, iterations=10)\n",
    "    external_b = ndimage.binary_dilation(marker_internal, iterations=55)\n",
    "    marker_external = external_b ^ external_a\n",
    "    #Creation of the Watershed Marker matrix\n",
    "    marker_watershed = np.zeros((512, 512), dtype=int)\n",
    "    marker_watershed += marker_internal * 255\n",
    "    marker_watershed += marker_external * 128\n",
    "    \n",
    "    return marker_internal, marker_external, marker_watershed\n",
    "\n",
    "#Show some example markers from the middle        \n",
    "# test_patient_internal, test_patient_external, test_patient_watershed = generate_markers(first_exam_pixels[slice])\n",
    "# print (\"Internal Marker\")\n",
    "# plt.imshow(test_patient_internal, cmap='gray')\n",
    "# plt.show()\n",
    "# print (\"External Marker\")\n",
    "# plt.imshow(test_patient_external, cmap='gray')\n",
    "# plt.show()\n",
    "# print (\"Watershed Marker\")\n",
    "# plt.imshow(test_patient_watershed, cmap='gray')\n",
    "# plt.show()"
   ]
  },
  {
   "attachments": {},
   "cell_type": "markdown",
   "metadata": {},
   "source": [
    "### Separate lungs"
   ]
  },
  {
   "cell_type": "code",
   "execution_count": null,
   "metadata": {},
   "outputs": [],
   "source": [
    "def seperate_lungs(image):\n",
    "    #Creation of the markers as shown above:\n",
    "    marker_internal, marker_external, marker_watershed = generate_markers(image)\n",
    "    \n",
    "    #Creation of the Sobel-Gradient\n",
    "    sobel_filtered_dx = ndimage.sobel(image, 1)\n",
    "    sobel_filtered_dy = ndimage.sobel(image, 0)\n",
    "    sobel_gradient = np.hypot(sobel_filtered_dx, sobel_filtered_dy)\n",
    "    sobel_gradient *= 255.0 / np.max(sobel_gradient)\n",
    "    \n",
    "    #Watershed algorithm\n",
    "    watershed = segmentation.watershed(sobel_gradient, marker_watershed)\n",
    "    \n",
    "    #Reducing the image created by the Watershed algorithm to its outline\n",
    "    outline = ndimage.morphological_gradient(watershed, size=(3,3))\n",
    "    outline = outline.astype(bool)\n",
    "    \n",
    "    #Performing Black-Tophat Morphology for reinclusion\n",
    "    #Creation of the disk-kernel and increasing its size a bit\n",
    "    blackhat_struct = [[0, 0, 1, 1, 1, 0, 0],\n",
    "                       [0, 1, 1, 1, 1, 1, 0],\n",
    "                       [1, 1, 1, 1, 1, 1, 1],\n",
    "                       [1, 1, 1, 1, 1, 1, 1],\n",
    "                       [1, 1, 1, 1, 1, 1, 1],\n",
    "                       [0, 1, 1, 1, 1, 1, 0],\n",
    "                       [0, 0, 1, 1, 1, 0, 0]]\n",
    "    blackhat_struct = ndimage.iterate_structure(blackhat_struct, 8)\n",
    "    #Perform the Black-Hat\n",
    "    outline += ndimage.black_tophat(outline, structure=blackhat_struct)\n",
    "    \n",
    "    #Use the internal marker and the Outline that was just created to generate the lungfilter\n",
    "    lungfilter = np.bitwise_or(marker_internal, outline)\n",
    "    #Close holes in the lungfilter\n",
    "    #fill_holes is not used here, since in some slices the heart would be reincluded by accident\n",
    "    lungfilter = ndimage.morphology.binary_closing(lungfilter, structure=np.ones((5,5)), iterations=3)\n",
    "    \n",
    "    #Apply the lungfilter (note the filtered areas being assigned -2000 HU)\n",
    "    segmented = np.where(lungfilter == 1, image, -2000*np.ones((512, 512)))\n",
    "    \n",
    "    return segmented, lungfilter, outline, watershed, sobel_gradient, marker_internal, marker_external, marker_watershed\n",
    "\n",
    "#Some Testcode:\n",
    "# (test_segmented, test_lungfilter, test_outline, \n",
    "#  test_watershed, test_sobel_gradient, test_marker_internal, \n",
    "#  test_marker_external, test_marker_watershed) = seperate_lungs(\n",
    "#      first_exam_pixels[slice]\n",
    "# )\n",
    "\n",
    "# print (\"Sobel Gradient\")\n",
    "# plt.imshow(test_sobel_gradient, cmap='gray')\n",
    "# plt.show()\n",
    "# print (\"Watershed Image\")\n",
    "# plt.imshow(test_watershed, cmap='gray')\n",
    "# plt.show()\n",
    "# print (\"Outline after reinclusion\")\n",
    "# plt.imshow(test_outline, cmap='gray')\n",
    "# plt.show()\n",
    "# print (\"Lungfilter after closing\")\n",
    "# plt.imshow(test_lungfilter, cmap='gray')\n",
    "# plt.show()\n",
    "# print (\"Segmented Lung\")\n",
    "# plt.imshow(test_segmented, cmap='gray')\n",
    "# plt.show()"
   ]
  },
  {
   "attachments": {},
   "cell_type": "markdown",
   "metadata": {},
   "source": [
    "### multiple layers"
   ]
  },
  {
   "cell_type": "code",
   "execution_count": null,
   "metadata": {},
   "outputs": [],
   "source": [
    "def segmented_entire_image(image):\n",
    "    for i, axial_slice in tqdm(enumerate(image)):\n",
    "        image[i] = optimized_separate_lungs(axial_slice)\n",
    "\n",
    "    return image"
   ]
  },
  {
   "cell_type": "code",
   "execution_count": null,
   "metadata": {},
   "outputs": [],
   "source": [
    "# segmented_lungs = segmented_entire_image(first_exam_pixels)\n",
    "# print(segmented_lungs.shape)"
   ]
  },
  {
   "cell_type": "code",
   "execution_count": null,
   "metadata": {},
   "outputs": [],
   "source": [
    "# plot_3d(segmented_lungs, 0)"
   ]
  },
  {
   "attachments": {},
   "cell_type": "markdown",
   "metadata": {},
   "source": [
    "### Batch visualization"
   ]
  },
  {
   "cell_type": "code",
   "execution_count": null,
   "metadata": {},
   "outputs": [],
   "source": [
    "for i in tqdm(range(582, 887)):\n",
    "    current_exam = load_scan(exams[i])\n",
    "    # im = sitk.GetImageFromArray(current_exam)\n",
    "    # sitk.WriteImage(im, 'generated/exam.nrrd', True)\n",
    "\n",
    "    segmented_lungs = segmented_entire_image(current_exam)\n",
    "    # ma = sitk.GetImageFromArray(segmented_lungs)\n",
    "    # sitk.WriteImage(ma, 'generated/mask.nrrd', True)\n",
    "    output = np.unique(segmented_lungs, return_counts=True)\n",
    "    name = str(i) + '-' + str(round(output[1][1]/output[1][0], 5))\n",
    "    plot_3d(segmented_lungs, 0, name='visu-watershed/'+name)"
   ]
  }
 ],
 "metadata": {
  "kernelspec": {
   "display_name": "objectLungCT",
   "language": "python",
   "name": "python3"
  },
  "language_info": {
   "codemirror_mode": {
    "name": "ipython",
    "version": 3
   },
   "file_extension": ".py",
   "mimetype": "text/x-python",
   "name": "python",
   "nbconvert_exporter": "python",
   "pygments_lexer": "ipython3",
   "version": "3.11.3"
  },
  "orig_nbformat": 4
 },
 "nbformat": 4,
 "nbformat_minor": 2
}
