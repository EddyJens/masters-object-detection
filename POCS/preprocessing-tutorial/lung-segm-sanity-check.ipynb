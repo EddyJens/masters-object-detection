{
 "cells": [
  {
   "cell_type": "code",
   "execution_count": null,
   "metadata": {},
   "outputs": [],
   "source": [
    "import glob\n",
    "import json\n",
    "import os\n",
    "import numpy as np\n",
    "import matplotlib.pyplot as plt\n",
    "from utils import load_scan\n",
    "\n",
    "from skimage import measure\n",
    "from mpl_toolkits.mplot3d.art3d import Poly3DCollection"
   ]
  },
  {
   "cell_type": "code",
   "execution_count": null,
   "metadata": {},
   "outputs": [],
   "source": [
    "MASK_FOLDER = r'C:/Users/ejrza/Downloads/mestrado/projeto/code/masters-object/POCS/preprocessing-tutorial/water-mask/*-mask.nrrd'\n",
    "exams = glob.glob(MASK_FOLDER)\n",
    "print(len(exams))\n",
    "exams.sort()"
   ]
  },
  {
   "cell_type": "code",
   "execution_count": null,
   "metadata": {},
   "outputs": [],
   "source": [
    "ANN_PATH = r'D:/masters_datasets/LUNA16-ann/mhd_original/dataset*'\n",
    "anns = glob.glob(ANN_PATH)\n",
    "print(len(anns))\n",
    "anns.sort()"
   ]
  },
  {
   "cell_type": "code",
   "execution_count": null,
   "metadata": {},
   "outputs": [],
   "source": [
    "processed = []\n",
    "not_processed = []\n",
    "\n",
    "for ann in anns[0:1]: # entire dataset with cross val 10 fold (11)\n",
    "    f = open(ann)\n",
    "    category = json.load(f)\n",
    "    for cat in category: # training, validation\n",
    "        for im in category[cat]: # every item - box, image, label (all label are 0)\n",
    "            # verify if the file was already pre-processed\n",
    "            current_file = im['image'].split('.mhd')[0] + '-mask.nrrd'\n",
    "            if os.path.exists('water-mask/' + current_file):\n",
    "                processed.append(current_file)\n",
    "\n",
    "                ### perform nodule validation\n",
    "                scan = load_scan('water-mask/' + current_file)\n",
    "\n",
    "                ### draw the nodule mask\n",
    "                axes = [scan.shape[1], scan.shape[2], scan.shape[0]]\n",
    "                nodule_mask = np.zeros(axes)\n",
    "\n",
    "                if len(im['box']) <= 1:\n",
    "                    continue\n",
    "\n",
    "                print(scan.shape)\n",
    "                print(im['box'])\n",
    "                print(current_file)\n",
    "\n",
    "                for nodule in im['box']:\n",
    "                    x0 = int(nodule[0])\n",
    "                    x1 = int(nodule[0] + nodule[3])\n",
    "                    y0 = 512 - int(nodule[1])\n",
    "                    y1 = 512 - int(nodule[1] + nodule[4])\n",
    "                    z0 = int(nodule[2]) * -1\n",
    "                    z1 = int((nodule[2] * -1) + nodule[5])\n",
    "\n",
    "                    print(x0, x1, y0, y1, z0, z1)\n",
    "                    for i in range(x0, x1):\n",
    "                        for j in range(y1, y0):\n",
    "                            for k in range(z0, z1):\n",
    "                                nodule_mask[i][j][k] = 1\n",
    "                    print(nodule)\n",
    "\n",
    "                p = scan.transpose(2, 1, 0)\n",
    "                verts, faces, normals, values = measure.marching_cubes(p, 0)\n",
    "\n",
    "                fig = plt.figure(figsize=(10, 10))\n",
    "                ax = fig.add_subplot(111, projection='3d')\n",
    "\n",
    "                mesh = Poly3DCollection(verts[faces], alpha=0.20)\n",
    "                face_color = [0.45, 0.45, 0.75]\n",
    "                mesh.set_facecolor(face_color)\n",
    "                ax.add_collection3d(mesh)\n",
    "\n",
    "                ax.set_xlim(0, p.shape[0])\n",
    "                ax.set_ylim(0, p.shape[1])\n",
    "                ax.set_zlim(0, p.shape[2])\n",
    "\n",
    "                ax.voxels(nodule_mask, facecolors=[1, 0, 0, 0.8])\n",
    "\n",
    "                # ax.view_init(20, 90)\n",
    "\n",
    "                break\n",
    "\n",
    "            else:\n",
    "                not_processed.append(current_file)\n",
    "        break\n",
    "    break\n",
    "\n",
    "    \n",
    "print(len(processed))\n",
    "print(len(not_processed))"
   ]
  },
  {
   "cell_type": "code",
   "execution_count": null,
   "metadata": {},
   "outputs": [],
   "source": []
  }
 ],
 "metadata": {
  "kernelspec": {
   "display_name": "objectLungCT",
   "language": "python",
   "name": "python3"
  },
  "language_info": {
   "codemirror_mode": {
    "name": "ipython",
    "version": 3
   },
   "file_extension": ".py",
   "mimetype": "text/x-python",
   "name": "python",
   "nbconvert_exporter": "python",
   "pygments_lexer": "ipython3",
   "version": "3.11.3"
  },
  "orig_nbformat": 4
 },
 "nbformat": 4,
 "nbformat_minor": 2
}
