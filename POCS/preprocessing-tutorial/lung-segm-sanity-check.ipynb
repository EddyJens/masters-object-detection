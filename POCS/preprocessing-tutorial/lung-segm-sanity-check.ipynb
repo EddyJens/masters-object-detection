{
 "cells": [
  {
   "cell_type": "code",
   "execution_count": null,
   "metadata": {},
   "outputs": [],
   "source": [
    "### plot coordinates in 3d slicer: 1.3.6.1.4.1.14519.5.2.1.6279.6001.183843376225716802567192412456\n",
    "### perform coordinates conversion to voxels: https://notebook.community/flaviostutz/datascience-snippets/kaggle-lung-cancer-approach2/.ipynb_checkpoints/LungCancerDetection-checkpoint"
   ]
  },
  {
   "cell_type": "code",
   "execution_count": null,
   "metadata": {},
   "outputs": [],
   "source": [
    "import glob\n",
    "import json\n",
    "import os\n",
    "import numpy as np\n",
    "import matplotlib.pyplot as plt\n",
    "from utils import load_scan, normalize_planes\n",
    "from PIL import Image\n",
    "from skimage import measure\n",
    "from mpl_toolkits.mplot3d.art3d import Poly3DCollection\n",
    "from tqdm import tqdm"
   ]
  },
  {
   "cell_type": "code",
   "execution_count": null,
   "metadata": {},
   "outputs": [],
   "source": [
    "MASK_FOLDER = r'C:/Users/ejrza/Downloads/mestrado/projeto/code/masters-object/POCS/preprocessing-tutorial/water-mask/*-mask.nrrd'\n",
    "exams = glob.glob(MASK_FOLDER)\n",
    "print(len(exams))\n",
    "exams.sort()"
   ]
  },
  {
   "cell_type": "code",
   "execution_count": null,
   "metadata": {},
   "outputs": [],
   "source": [
    "ANN_PATH = r'D:/masters_datasets/LUNA16-ann/mhd_original/dataset*'\n",
    "anns = glob.glob(ANN_PATH)\n",
    "print(len(anns))\n",
    "anns.sort()"
   ]
  },
  {
   "cell_type": "code",
   "execution_count": null,
   "metadata": {},
   "outputs": [],
   "source": [
    "processed = []\n",
    "not_processed = []\n",
    "fit = []\n",
    "not_fit = []\n",
    "pixels_out = 0\n",
    "total_pixels = 0\n",
    "summary = []\n",
    "\n",
    "for ann in anns[0:1]: # entire dataset with cross val 10 fold (11)\n",
    "    f = open(ann)\n",
    "    category = json.load(f)\n",
    "    for cat in category: # training, validation\n",
    "        for im in tqdm(category[cat]): # every item - box, image, label (all label are 0)\n",
    "            # verify if the file was already pre-processed\n",
    "            current_file = im['image'].split('.mhd')[0] + '-mask.nrrd'\n",
    "            if os.path.exists('water-mask/' + current_file):\n",
    "                processed.append(current_file)\n",
    "\n",
    "                ### perform nodule validation\n",
    "                lung_mask, _, _ = load_scan('water-mask/' + current_file, meta=True)\n",
    "                original, origin, spacing = load_scan(\n",
    "                    'D:/masters_datasets/LUNA16-original/LUNA16_Images/'+im['image'].split('.mhd')[0]+'.mhd',\n",
    "                    meta=True\n",
    "                )\n",
    "\n",
    "                ### draw the nodule mask\n",
    "                axes = [lung_mask.shape[2], lung_mask.shape[1], lung_mask.shape[0]]\n",
    "                nodule_mask = np.zeros(axes)\n",
    "\n",
    "                p = lung_mask.transpose(2, 1, 0)\n",
    "\n",
    "                print(np.unique(p, return_counts=True))\n",
    "\n",
    "                print(im['image'])\n",
    "                print(im['box'])\n",
    "\n",
    "                for nodule in im['box']:\n",
    "                    x = np.absolute(nodule[0] - origin[0])/spacing[0]\n",
    "                    x0 = x - nodule[3]/2\n",
    "                    x1 = x + nodule[3]/2\n",
    "                    y = np.absolute(nodule[1] - origin[1])/spacing[1]\n",
    "                    y0 = y - nodule[4]/2\n",
    "                    y1 = y + nodule[4]/2\n",
    "                    z = np.absolute(nodule[2] - origin[2])/spacing[2]\n",
    "                    z0 = z - nodule[5]/2\n",
    "                    z1 = z + nodule[5]/2\n",
    "\n",
    "                    ### saving slices to analize\n",
    "                    for z in range(int(z0), int(z1)):\n",
    "                        image = normalize_planes(original[z])                        \n",
    "                        image = Image.fromarray(image*255).convert('L')\n",
    "                        image = image.crop((x0, y0, x1, y1))\n",
    "                        image.save('output/'+ str(z) + 'slice.png')\n",
    "\n",
    "                    for i in range(int(x0), int(x1)):\n",
    "                        for j in range(int(y0), int(y1)):\n",
    "                            for k in range(int(z0), int(z1)):\n",
    "\n",
    "                                ### verify if all coordinates fit the lung mask\n",
    "                                # print(lung_mask[k][j][i])\n",
    "                                \n",
    "                                # if lung_mask[k][j][i] != 1:\n",
    "                                if p[i][j][k] != 1:\n",
    "                                    pixels_out += 1\n",
    "                                nodule_mask[i][j][k] = 1\n",
    "                                total_pixels += 1\n",
    "\n",
    "                    break\n",
    "\n",
    "                summary.append({\n",
    "                    \"exam\": im['image'],\n",
    "                    \"pixels_out\": pixels_out,\n",
    "                    \"total_pixels\": total_pixels\n",
    "                })\n",
    "                pixels_out = 0\n",
    "                total_pixels = 0\n",
    "\n",
    "                # p = lung_mask.transpose(2, 1, 0)\n",
    "                verts, faces, normals, values = measure.marching_cubes(p, 0)\n",
    "\n",
    "                fig = plt.figure(figsize=(10, 10))\n",
    "                ax = fig.add_subplot(111, projection='3d')\n",
    "\n",
    "                mesh = Poly3DCollection(verts[faces], alpha=0.20)\n",
    "                face_color = [0.45, 0.45, 0.75]\n",
    "                mesh.set_facecolor(face_color)\n",
    "                ax.add_collection3d(mesh)\n",
    "\n",
    "                ax.set_xlim(0, p.shape[0])\n",
    "                ax.set_ylim(0, p.shape[1])\n",
    "                ax.set_zlim(0, p.shape[2])\n",
    "\n",
    "                ### nodule\n",
    "                verts, faces, normals, values = measure.marching_cubes(nodule_mask, 0)\n",
    "                mesh = Poly3DCollection(verts[faces], alpha=0.80)\n",
    "                face_color = [1, 0, 0]\n",
    "                mesh.set_facecolor(face_color)\n",
    "                ax.add_collection3d(mesh)\n",
    "\n",
    "                # ax.voxels(nodule_mask, facecolors=[1, 0, 0, 0.8])\n",
    "\n",
    "                # ax.view_init(20, 90)\n",
    "\n",
    "                break\n",
    "            else:\n",
    "                not_processed.append(current_file)\n",
    "        break\n",
    "    break\n",
    "    \n",
    "print(len(processed))\n",
    "print(len(not_processed))"
   ]
  },
  {
   "cell_type": "code",
   "execution_count": null,
   "metadata": {},
   "outputs": [],
   "source": [
    "print(summary)"
   ]
  },
  {
   "cell_type": "code",
   "execution_count": null,
   "metadata": {},
   "outputs": [],
   "source": [
    "int('aa')"
   ]
  },
  {
   "cell_type": "code",
   "execution_count": null,
   "metadata": {},
   "outputs": [],
   "source": [
    "import pandas as pd\n",
    "\n",
    "result = pd.DataFrame(summary)\n",
    "result.head()"
   ]
  },
  {
   "cell_type": "code",
   "execution_count": null,
   "metadata": {},
   "outputs": [],
   "source": [
    "result['prop'] = result['pixels_out'] * 100/result['total_pixels']\n",
    "result.head()"
   ]
  },
  {
   "cell_type": "code",
   "execution_count": null,
   "metadata": {},
   "outputs": [],
   "source": [
    "hist = result['prop'].hist(bins=30)"
   ]
  },
  {
   "cell_type": "code",
   "execution_count": null,
   "metadata": {},
   "outputs": [],
   "source": [
    "print(result.shape)\n",
    "output = result.groupby(['prop'])['prop'].count()\n",
    "sortedDF = output.sort_values(ascending=False)\n",
    "sortedDF.head()"
   ]
  },
  {
   "cell_type": "code",
   "execution_count": null,
   "metadata": {},
   "outputs": [],
   "source": [
    "result.shape"
   ]
  },
  {
   "cell_type": "code",
   "execution_count": null,
   "metadata": {},
   "outputs": [],
   "source": [
    "result.to_csv('output/pixels_out.csv', index=False)"
   ]
  }
 ],
 "metadata": {
  "kernelspec": {
   "display_name": "objectLungCT",
   "language": "python",
   "name": "python3"
  },
  "language_info": {
   "codemirror_mode": {
    "name": "ipython",
    "version": 3
   },
   "file_extension": ".py",
   "mimetype": "text/x-python",
   "name": "python",
   "nbconvert_exporter": "python",
   "pygments_lexer": "ipython3",
   "version": "3.11.3"
  },
  "orig_nbformat": 4
 },
 "nbformat": 4,
 "nbformat_minor": 2
}
