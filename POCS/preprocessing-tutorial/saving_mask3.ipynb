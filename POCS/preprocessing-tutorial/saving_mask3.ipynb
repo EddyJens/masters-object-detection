{
 "cells": [
  {
   "cell_type": "code",
   "execution_count": null,
   "metadata": {},
   "outputs": [],
   "source": [
    "import SimpleITK as sitk\n",
    "import glob\n",
    "from tqdm import tqdm\n",
    "import os\n",
    "from utils import load_scan, segmented_entire_image"
   ]
  },
  {
   "cell_type": "code",
   "execution_count": null,
   "metadata": {},
   "outputs": [],
   "source": [
    "INPUT_FOLDER = r'D:/masters_datasets/LUNA16-original/LUNA16_Images/*.mhd'\n",
    "exams = glob.glob(INPUT_FOLDER)\n",
    "print(len(exams))\n",
    "exams.sort()\n",
    "\n",
    "exams[0].split('\\\\')[-1].split('.mhd')[0]"
   ]
  },
  {
   "cell_type": "code",
   "execution_count": null,
   "metadata": {},
   "outputs": [],
   "source": [
    "for i in tqdm(range(700, 887)):\n",
    "    if not os.path.exists('water-mask/' + exams[i].split('\\\\')[-1].split('.mhd')[0] + '-mask.nrrd'):\n",
    "        current_exam = load_scan(exams[i])\n",
    "        segmented_lungs = segmented_entire_image(current_exam)\n",
    "        ma = sitk.GetImageFromArray(segmented_lungs)\n",
    "        sitk.WriteImage(ma, 'water-mask/' + exams[i].split('\\\\')[-1].split('.mhd')[0] + '-mask.nrrd', True)\n",
    "    else:\n",
    "        continue"
   ]
  },
  {
   "cell_type": "code",
   "execution_count": null,
   "metadata": {},
   "outputs": [],
   "source": [
    "# data = load_scan('generated/exam.nrrd')\n",
    "\n",
    "# print(np.unique(data, return_counts=True))\n",
    "# print(type(data))\n",
    "# print(data.shape)\n",
    "# print(np.max(data))   \n",
    "# print(np.min(data))"
   ]
  },
  {
   "cell_type": "code",
   "execution_count": null,
   "metadata": {},
   "outputs": [],
   "source": [
    "# data = load_scan('generated/mask.nrrd')\n",
    "\n",
    "# print(np.unique(data, return_counts=True))\n",
    "# print(type(data))\n",
    "# print(data.shape)\n",
    "# print(np.max(data))\n",
    "# print(np.min(data))"
   ]
  },
  {
   "cell_type": "code",
   "execution_count": null,
   "metadata": {},
   "outputs": [],
   "source": [
    "# count = 0\n",
    "# for slice in data:\n",
    "#     count += 1\n",
    "\n",
    "# print(count)"
   ]
  },
  {
   "cell_type": "code",
   "execution_count": null,
   "metadata": {},
   "outputs": [],
   "source": []
  }
 ],
 "metadata": {
  "kernelspec": {
   "display_name": "objectLungCT",
   "language": "python",
   "name": "python3"
  },
  "language_info": {
   "codemirror_mode": {
    "name": "ipython",
    "version": 3
   },
   "file_extension": ".py",
   "mimetype": "text/x-python",
   "name": "python",
   "nbconvert_exporter": "python",
   "pygments_lexer": "ipython3",
   "version": "3.11.3"
  },
  "orig_nbformat": 4
 },
 "nbformat": 4,
 "nbformat_minor": 2
}
