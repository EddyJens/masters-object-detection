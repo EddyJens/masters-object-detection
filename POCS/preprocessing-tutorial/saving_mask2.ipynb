{
 "cells": [
  {
   "cell_type": "code",
   "execution_count": 1,
   "metadata": {},
   "outputs": [],
   "source": [
    "import SimpleITK as sitk\n",
    "import glob\n",
    "from tqdm import tqdm\n",
    "import os\n",
    "from utils import load_scan, segmented_entire_image"
   ]
  },
  {
   "cell_type": "code",
   "execution_count": 2,
   "metadata": {},
   "outputs": [
    {
     "name": "stdout",
     "output_type": "stream",
     "text": [
      "888\n"
     ]
    },
    {
     "data": {
      "text/plain": [
       "'1.3.6.1.4.1.14519.5.2.1.6279.6001.100225287222365663678666836860'"
      ]
     },
     "execution_count": 2,
     "metadata": {},
     "output_type": "execute_result"
    }
   ],
   "source": [
    "INPUT_FOLDER = r'D:/masters_datasets/LUNA16-original/LUNA16_Images/*.mhd'\n",
    "exams = glob.glob(INPUT_FOLDER)\n",
    "print(len(exams))\n",
    "exams.sort()\n",
    "\n",
    "exams[0].split('\\\\')[-1].split('.mhd')[0]"
   ]
  },
  {
   "cell_type": "code",
   "execution_count": 3,
   "metadata": {},
   "outputs": [
    {
     "name": "stderr",
     "output_type": "stream",
     "text": [
      "280it [10:03,  2.16s/it]00:00<?, ?it/s]\n",
      "260it [08:49,  2.04s/it][10:08<30:49,  8.56s/it]\n",
      "255it [09:10,  2.16s/it][19:01<1:07:46, 18.91s/it]\n",
      "133it [04:27,  2.01s/it][28:15<1:59:47, 33.59s/it]\n",
      "145it [05:14,  2.17s/it][32:45<2:30:51, 42.49s/it]\n",
      "519it [18:32,  2.14s/it][38:05<3:20:07, 56.64s/it]\n",
      "261it [09:49,  2.26s/it][56:48<7:34:18, 129.19s/it]\n",
      "127it [04:34,  2.16s/it][1:06:43<9:56:27, 170.42s/it]\n",
      "513it [18:32,  2.17s/it][1:11:19<10:35:06, 182.33s/it]\n",
      "133it [04:12,  1.89s/it][1:30:02<18:02:38, 312.30s/it]\n",
      "265it [09:11,  2.08s/it][1:34:19<17:26:04, 303.21s/it]\n",
      "127it [04:31,  2.14s/it][1:43:38<20:08:21, 351.95s/it]\n",
      "489it [21:49,  2.68s/it][1:48:14<19:07:00, 335.71s/it]\n",
      "131it [07:28,  3.42s/it][2:10:12<32:03:16, 565.67s/it]\n",
      "130it [07:39,  3.53s/it][2:17:45<30:18:27, 537.48s/it]\n",
      "109it [06:21,  3.50s/it][2:25:34<29:08:54, 519.48s/it]\n",
      "300it [12:57,  2.59s/it][2:32:04<27:01:43, 484.10s/it]\n",
      "133it [04:48,  2.17s/it][2:45:12<31:37:59, 569.40s/it]\n",
      "171it [06:00,  2.11s/it][2:50:03<27:04:07, 489.69s/it]\n",
      "238it [09:11,  2.32s/it][2:56:13<25:01:31, 455.01s/it]\n",
      "308it [11:09,  2.17s/it][3:05:31<26:32:52, 485.14s/it]\n",
      " 32%|███▏      | 91/287 [3:16:49<29:30:10, 541.89s/it]"
     ]
    }
   ],
   "source": [
    "for i in tqdm(range(600, 887)):\n",
    "    if not os.path.exists('water-mask/' + exams[i].split('\\\\')[-1].split('.mhd')[0] + '-mask.nrrd'):\n",
    "        current_exam = load_scan(exams[i])\n",
    "        segmented_lungs = segmented_entire_image(current_exam)\n",
    "        ma = sitk.GetImageFromArray(segmented_lungs)\n",
    "        sitk.WriteImage(ma, 'water-mask/' + exams[i].split('\\\\')[-1].split('.mhd')[0] + '-mask.nrrd', True)\n",
    "    else:\n",
    "        continue"
   ]
  },
  {
   "cell_type": "code",
   "execution_count": null,
   "metadata": {},
   "outputs": [],
   "source": [
    "# data = load_scan('generated/exam.nrrd')\n",
    "\n",
    "# print(np.unique(data, return_counts=True))\n",
    "# print(type(data))\n",
    "# print(data.shape)\n",
    "# print(np.max(data))   \n",
    "# print(np.min(data))"
   ]
  },
  {
   "cell_type": "code",
   "execution_count": null,
   "metadata": {},
   "outputs": [],
   "source": [
    "# data = load_scan('generated/mask.nrrd')\n",
    "\n",
    "# print(np.unique(data, return_counts=True))\n",
    "# print(type(data))\n",
    "# print(data.shape)\n",
    "# print(np.max(data))\n",
    "# print(np.min(data))"
   ]
  },
  {
   "cell_type": "code",
   "execution_count": null,
   "metadata": {},
   "outputs": [],
   "source": [
    "# count = 0\n",
    "# for slice in data:\n",
    "#     count += 1\n",
    "\n",
    "# print(count)"
   ]
  },
  {
   "cell_type": "code",
   "execution_count": null,
   "metadata": {},
   "outputs": [],
   "source": []
  }
 ],
 "metadata": {
  "kernelspec": {
   "display_name": "objectLungCT",
   "language": "python",
   "name": "python3"
  },
  "language_info": {
   "codemirror_mode": {
    "name": "ipython",
    "version": 3
   },
   "file_extension": ".py",
   "mimetype": "text/x-python",
   "name": "python",
   "nbconvert_exporter": "python",
   "pygments_lexer": "ipython3",
   "version": "3.11.3"
  },
  "orig_nbformat": 4
 },
 "nbformat": 4,
 "nbformat_minor": 2
}
