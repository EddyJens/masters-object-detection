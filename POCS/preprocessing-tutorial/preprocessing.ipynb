{
 "cells": [
  {
   "cell_type": "code",
   "execution_count": null,
   "metadata": {},
   "outputs": [],
   "source": [
    "### reference: https://www.kaggle.com/code/gzuidhof/full-preprocessing-tutorial#3D-plotting-the-scan"
   ]
  },
  {
   "cell_type": "code",
   "execution_count": null,
   "metadata": {},
   "outputs": [],
   "source": [
    "%matplotlib inline\n",
    "\n",
    "import numpy as np\n",
    "import SimpleITK as sitk\n",
    "import glob\n",
    "from tqdm import tqdm\n",
    "\n",
    "import matplotlib.pyplot as plt\n",
    "\n",
    "from skimage import measure\n",
    "\n",
    "from utils import load_scan, plot_3d\n",
    "\n",
    "INPUT_FOLDER = r'D:/masters_datasets/LUNA16-original/LUNA16_Images/*.mhd'\n",
    "exams = glob.glob(INPUT_FOLDER)\n",
    "print(len(exams))\n",
    "exams.sort()"
   ]
  },
  {
   "cell_type": "code",
   "execution_count": null,
   "metadata": {},
   "outputs": [],
   "source": [
    "for i, exam in enumerate(exams):\n",
    "    if '1.3.6.1.4.1.14519.5.2.1.6279.6001.183843376225716802567192412456' in exam:\n",
    "        print(exam, i)"
   ]
  },
  {
   "cell_type": "code",
   "execution_count": null,
   "metadata": {},
   "outputs": [],
   "source": [
    "itkimage = sitk.ReadImage(exams[241])\n",
    "ct_scan = sitk.GetArrayFromImage(itkimage)\n",
    "print(ct_scan.shape)\n",
    "origin = np.array(list(reversed(itkimage.GetOrigin())))\n",
    "spacing = np.array(list(reversed(itkimage.GetSpacing())))\n",
    "print(origin, spacing)"
   ]
  },
  {
   "cell_type": "code",
   "execution_count": null,
   "metadata": {},
   "outputs": [],
   "source": [
    "x = 77.43647945\n",
    "origin = -387.75\n",
    "resolution = 2.5\n",
    "\n",
    "voxel = np.absolute(x - origin)/resolution\n",
    "print(voxel)\n",
    "\n",
    "y = 22.21703609\n",
    "origin = -220\n",
    "resolution = 0.859375\n",
    "\n",
    "voxel = np.absolute(y - origin)/resolution\n",
    "print(voxel)\n",
    "\n",
    "z = -194.8565238\n",
    "origin = -229.699997\n",
    "resolution = 0.859375\n",
    "\n",
    "voxel = np.absolute(z - origin)/resolution\n",
    "print(voxel)"
   ]
  },
  {
   "cell_type": "code",
   "execution_count": null,
   "metadata": {},
   "outputs": [],
   "source": [
    "int('aa')"
   ]
  },
  {
   "attachments": {},
   "cell_type": "markdown",
   "metadata": {},
   "source": [
    "#### Loading the files"
   ]
  },
  {
   "cell_type": "code",
   "execution_count": null,
   "metadata": {},
   "outputs": [],
   "source": [
    "first_exam_pixels = load_scan(exams[10])\n",
    "plt.hist(first_exam_pixels.flatten(), bins=80, color='c')\n",
    "plt.xlabel(\"Hounsfield Units (HU)\")\n",
    "plt.ylabel(\"Frequency\")\n",
    "plt.show()\n",
    "\n",
    "plt.imshow(first_exam_pixels[80], cmap=plt.cm.gray)\n",
    "plt.show()\n",
    "\n"
   ]
  },
  {
   "attachments": {},
   "cell_type": "markdown",
   "metadata": {},
   "source": [
    "#### 3D plotting the scan"
   ]
  },
  {
   "cell_type": "code",
   "execution_count": null,
   "metadata": {},
   "outputs": [],
   "source": [
    "# plot_3d(first_exam_pixels, 400) ### show bones"
   ]
  },
  {
   "attachments": {},
   "cell_type": "markdown",
   "metadata": {},
   "source": [
    "#### Lung segmentation"
   ]
  },
  {
   "cell_type": "code",
   "execution_count": null,
   "metadata": {},
   "outputs": [],
   "source": [
    "def largest_label_volume(im, bg=-1):\n",
    "  vals, counts = np.unique(im, return_counts=True)\n",
    "\n",
    "  counts = counts[vals != bg]\n",
    "  vals = vals[vals != bg]\n",
    "\n",
    "  if len(counts) > 0:\n",
    "    return vals[np.argmax(counts)]\n",
    "  else:\n",
    "    return None\n",
    "  \n",
    "def segment_lung_mask(image, fill_lung_structures=True):\n",
    "    \n",
    "  # not actually binary, but 1 and 2. \n",
    "  # 0 is treated as background, which we do not want\n",
    "  binary_image = np.array(image > -320, dtype=np.int8)+1\n",
    "  labels = measure.label(binary_image)\n",
    "  \n",
    "  # Pick the pixel in the very corner to determine which label is air.\n",
    "  #   Improvement: Pick multiple background labels from around the patient\n",
    "  #   More resistant to \"trays\" on which the patient lays cutting the air \n",
    "  #   around the person in half\n",
    "  background_label = labels[0,0,0]\n",
    "  \n",
    "  #Fill the air around the person\n",
    "  binary_image[background_label == labels] = 2\n",
    "  \n",
    "  \n",
    "  # Method of filling the lung structures (that is superior to something like \n",
    "  # morphological closing)\n",
    "  if fill_lung_structures:\n",
    "    # For every slice we determine the largest solid structure\n",
    "    for i, axial_slice in enumerate(binary_image):\n",
    "      axial_slice = axial_slice - 1\n",
    "      labeling = measure.label(axial_slice)\n",
    "      l_max = largest_label_volume(labeling, bg=0)\n",
    "      \n",
    "      if l_max is not None: #This slice contains some lung\n",
    "        binary_image[i][labeling != l_max] = 1\n",
    "\n",
    "  \n",
    "  binary_image -= 1 #Make the image actual binary\n",
    "  binary_image = 1-binary_image # Invert it, lungs are now 1\n",
    "  \n",
    "  # Remove other air pockets insided body\n",
    "  labels = measure.label(binary_image, background=0)\n",
    "  l_max = largest_label_volume(labels, bg=0)\n",
    "  if l_max is not None: # There are air pockets\n",
    "    binary_image[labels != l_max] = 0\n",
    "\n",
    "  return binary_image"
   ]
  },
  {
   "attachments": {},
   "cell_type": "markdown",
   "metadata": {},
   "source": [
    "### unique plot"
   ]
  },
  {
   "cell_type": "code",
   "execution_count": null,
   "metadata": {},
   "outputs": [],
   "source": [
    "segmented_lungs = segment_lung_mask(first_exam_pixels, False)\n",
    "segmented_lungs_fill = segment_lung_mask(first_exam_pixels, True)"
   ]
  },
  {
   "cell_type": "code",
   "execution_count": null,
   "metadata": {},
   "outputs": [],
   "source": [
    "# plot_3d(segmented_lungs, 0)"
   ]
  },
  {
   "cell_type": "code",
   "execution_count": null,
   "metadata": {},
   "outputs": [],
   "source": [
    "print(np.unique(segmented_lungs_fill, return_counts=True))\n",
    "print(type(segmented_lungs_fill))\n",
    "print(segmented_lungs_fill.shape)\n",
    "print(np.max(segmented_lungs_fill))\n",
    "print(np.min(segmented_lungs_fill))"
   ]
  },
  {
   "cell_type": "code",
   "execution_count": null,
   "metadata": {},
   "outputs": [],
   "source": [
    "# plot_3d(segmented_lungs_fill, 0)"
   ]
  },
  {
   "cell_type": "code",
   "execution_count": null,
   "metadata": {},
   "outputs": [],
   "source": [
    "# plot_3d(segmented_lungs_fill - segmented_lungs, 0)"
   ]
  },
  {
   "attachments": {},
   "cell_type": "markdown",
   "metadata": {},
   "source": [
    "### Batch visualization"
   ]
  },
  {
   "cell_type": "code",
   "execution_count": null,
   "metadata": {},
   "outputs": [],
   "source": [
    "for i in tqdm(range(0, 887)):\n",
    "    current_exam = load_scan(exams[i])\n",
    "    segmented_lungs_fill = segment_lung_mask(current_exam, True)\n",
    "    output = np.unique(segmented_lungs_fill, return_counts=True)\n",
    "    name = str(i) + '-' + str(round(output[1][1]/output[1][0], 5))\n",
    "    plot_3d(segmented_lungs_fill, threshold=0, name='visualization/'+name)"
   ]
  },
  {
   "cell_type": "code",
   "execution_count": null,
   "metadata": {},
   "outputs": [],
   "source": []
  }
 ],
 "metadata": {
  "kernelspec": {
   "display_name": "objectLungCT",
   "language": "python",
   "name": "python3"
  },
  "language_info": {
   "codemirror_mode": {
    "name": "ipython",
    "version": 3
   },
   "file_extension": ".py",
   "mimetype": "text/x-python",
   "name": "python",
   "nbconvert_exporter": "python",
   "pygments_lexer": "ipython3",
   "version": "3.11.3"
  },
  "orig_nbformat": 4
 },
 "nbformat": 4,
 "nbformat_minor": 2
}
