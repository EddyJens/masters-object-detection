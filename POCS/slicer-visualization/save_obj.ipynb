{
 "cells": [
  {
   "cell_type": "code",
   "execution_count": 6,
   "metadata": {},
   "outputs": [],
   "source": [
    "import json\n",
    "import monai\n",
    "import os\n",
    "import numpy as np\n",
    "from monai.data.box_utils import convert_box_mode"
   ]
  },
  {
   "cell_type": "markdown",
   "metadata": {},
   "source": [
    "### boxes in world coordinate"
   ]
  },
  {
   "cell_type": "code",
   "execution_count": 7,
   "metadata": {},
   "outputs": [],
   "source": [
    "# input_dataset_json = 'data_sample.json'\n",
    "# output_dir = 'out_world_coord'\n",
    "# input_box_mode = 'cccwhd'\n",
    "# image_coordinate = False"
   ]
  },
  {
   "cell_type": "markdown",
   "metadata": {},
   "source": [
    "### boxes in voxel coordinate"
   ]
  },
  {
   "cell_type": "code",
   "execution_count": 8,
   "metadata": {},
   "outputs": [],
   "source": [
    "image_coordinate = True\n",
    "image_data_root = 'original_sample'\n",
    "input_box_mode = 'xyzxyz'\n",
    "input_dataset_json = 'data_sample_xyzxyz_image-coordinate.json'\n",
    "output_dir = 'out_voxel_coord'"
   ]
  },
  {
   "cell_type": "code",
   "execution_count": 9,
   "metadata": {},
   "outputs": [],
   "source": [
    "def save_obj(vertices, faces, filename):\n",
    "    with open(filename, \"w\") as f:\n",
    "        for v in vertices:\n",
    "            f.write(\"v {} {} {}\\n\".format(*np.array(v)))\n",
    "\n",
    "        for t in faces:\n",
    "            f.write(\"f {} {} {} {}\\n\".format(*(np.array(t) + 1)))\n",
    "\n",
    "    return"
   ]
  },
  {
   "cell_type": "code",
   "execution_count": 10,
   "metadata": {},
   "outputs": [
    {
     "name": "stdout",
     "output_type": "stream",
     "text": [
      "-- 1th case name: 1.3.6.1.4.1.14519.5.2.1.6279.6001.108197895896446896160048741492.mhd\n",
      "-- 2th case name: 1.3.6.1.4.1.14519.5.2.1.6279.6001.109002525524522225658609808059.mhd\n"
     ]
    }
   ],
   "source": [
    "with open(input_dataset_json) as f:\n",
    "    input_dataset = json.load(f)\n",
    "\n",
    "if image_coordinate:\n",
    "    image_loader = monai.transforms.LoadImage(reader=None, image_only=False)\n",
    "\n",
    "for key in input_dataset.keys():\n",
    "        section = input_dataset[key]\n",
    "\n",
    "        for _k in range(len(section)):\n",
    "            box_data = section[_k][\"box\"]\n",
    "            box_filename = section[_k][\"image\"]\n",
    "            box_filename = box_filename.split(os.sep)[-1]\n",
    "            print(\"-- {0:d}th case name:\".format(_k + 1), box_filename)\n",
    "\n",
    "            if image_coordinate:\n",
    "                image_name = os.path.join(image_data_root, section[_k][\"image\"])\n",
    "                image_data = image_loader(image_name)\n",
    "                affine = image_data[1][\"original_affine\"]\n",
    "\n",
    "                # convert to RAS coordinate system (required by 3D Slicer)\n",
    "                for _i in range(3):\n",
    "                    if affine[_i, _i] < 0:\n",
    "                        affine[_i, _i] *= -1.0\n",
    "                        affine[_i, 3] *= -1.0\n",
    "\n",
    "            vertices = []\n",
    "            faces = []\n",
    "            _i = 0\n",
    "            for _vec in box_data:\n",
    "                vec = convert_box_mode(\n",
    "                    np.expand_dims(np.array(_vec), axis=0),\n",
    "                    src_mode=input_box_mode,\n",
    "                    dst_mode=\"xyzxyz\",\n",
    "                )\n",
    "                vec = vec.squeeze()\n",
    "                xmin, ymin, zmin = vec[0], vec[1], vec[2]\n",
    "                xmax, ymax, zmax = vec[3], vec[4], vec[5]\n",
    "\n",
    "                if image_coordinate:\n",
    "                    _out = affine @ np.transpose(np.array([xmin, ymin, zmin, 1]))\n",
    "                    xmin, ymin, zmin = _out[0], _out[1], _out[2]\n",
    "\n",
    "                    _out = affine @ np.transpose(np.array([xmax, ymax, zmax, 1]))\n",
    "                    xmax, ymax, zmax = _out[0], _out[1], _out[2]\n",
    "\n",
    "                vertices += [\n",
    "                    (xmax, ymax, zmin),\n",
    "                    (xmax, ymin, zmin),\n",
    "                    (xmin, ymin, zmin),\n",
    "                    (xmin, ymax, zmin),\n",
    "                    (xmax, ymax, zmax),\n",
    "                    (xmax, ymin, zmax),\n",
    "                    (xmin, ymin, zmax),\n",
    "                    (xmin, ymax, zmax),\n",
    "                ]\n",
    "\n",
    "                faces += [\n",
    "                    (0 + 8 * _i, 1 + 8 * _i, 2 + 8 * _i, 3 + 8 * _i),\n",
    "                    (4 + 8 * _i, 7 + 8 * _i, 6 + 8 * _i, 5 + 8 * _i),\n",
    "                    (0 + 8 * _i, 4 + 8 * _i, 5 + 8 * _i, 1 + 8 * _i),\n",
    "                    (1 + 8 * _i, 5 + 8 * _i, 6 + 8 * _i, 2 + 8 * _i),\n",
    "                    (2 + 8 * _i, 6 + 8 * _i, 7 + 8 * _i, 3 + 8 * _i),\n",
    "                    (4 + 8 * _i, 0 + 8 * _i, 3 + 8 * _i, 7 + 8 * _i),\n",
    "                ]\n",
    "\n",
    "                _i += 1\n",
    "\n",
    "            save_obj(vertices, faces, os.path.join(output_dir, box_filename + \".obj\"))"
   ]
  }
 ],
 "metadata": {
  "kernelspec": {
   "display_name": "Python 3 (ipykernel)",
   "language": "python",
   "name": "python3"
  },
  "language_info": {
   "codemirror_mode": {
    "name": "ipython",
    "version": 3
   },
   "file_extension": ".py",
   "mimetype": "text/x-python",
   "name": "python",
   "nbconvert_exporter": "python",
   "pygments_lexer": "ipython3",
   "version": "3.8.10"
  }
 },
 "nbformat": 4,
 "nbformat_minor": 4
}
