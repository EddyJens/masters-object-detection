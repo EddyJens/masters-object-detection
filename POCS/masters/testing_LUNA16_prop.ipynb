{
 "cells": [
  {
   "cell_type": "markdown",
   "id": "db6f5c09-9e13-4cd4-b462-3d5e4a20132d",
   "metadata": {},
   "source": [
    "Due to poor results with HC dataset, this test is to verify if the quantity is the issue (or not)"
   ]
  },
  {
   "cell_type": "markdown",
   "id": "8a8052c4-ba5f-417d-bfbe-e37c305f9638",
   "metadata": {},
   "source": [
    "HC has 64 for training, and 16 for validation"
   ]
  },
  {
   "cell_type": "code",
   "execution_count": 1,
   "id": "15784eba-9f39-4476-afc8-5ad82a10cccc",
   "metadata": {},
   "outputs": [],
   "source": [
    "import json"
   ]
  },
  {
   "cell_type": "markdown",
   "id": "5012eb4d-5b0a-48b2-9f69-a575f1e486a4",
   "metadata": {},
   "source": [
    "### generating reduced LUNA 16 dataset"
   ]
  },
  {
   "cell_type": "code",
   "execution_count": 2,
   "id": "db8e7ae6-2180-4fa7-b9e8-3b76a3fb400a",
   "metadata": {},
   "outputs": [],
   "source": [
    "f = open('/data/output/LUNA16_datasplit/dataset_fold0.json')\n",
    "content = json.load(f)"
   ]
  },
  {
   "cell_type": "code",
   "execution_count": 3,
   "id": "f15a35b8-6cc7-457f-93b0-910dd8797a31",
   "metadata": {},
   "outputs": [
    {
     "name": "stdout",
     "output_type": "stream",
     "text": [
      "64\n",
      "16\n"
     ]
    }
   ],
   "source": [
    "train_sample = []\n",
    "for exam in content['training'][0:64]:\n",
    "    train_sample.append(exam)\n",
    "\n",
    "val_sample = []\n",
    "for exam in content['validation'][0:16]:\n",
    "    val_sample.append(exam)\n",
    "\n",
    "print(len(train_sample))\n",
    "print(len(val_sample))"
   ]
  },
  {
   "cell_type": "markdown",
   "id": "eb29e51c-d970-4168-9b7e-aabbe96be13f",
   "metadata": {},
   "source": [
    "### saving sample generated"
   ]
  },
  {
   "cell_type": "code",
   "execution_count": 4,
   "id": "98e38364-7ea1-4f6c-ab97-701f114271a7",
   "metadata": {},
   "outputs": [],
   "source": [
    "value = {\n",
    "    \"training\": train_sample,\n",
    "    \"validation\": val_sample\n",
    "}\n",
    "save_file = open('/data/output/LUNA16-mini.json', 'w')\n",
    "json.dump(value, save_file, indent = 5)\n",
    "save_file.close()"
   ]
  },
  {
   "cell_type": "markdown",
   "id": "dc840e77-58f6-4695-bbe4-81ecd93acace",
   "metadata": {},
   "source": [
    "### verifying sample generated"
   ]
  },
  {
   "cell_type": "code",
   "execution_count": 6,
   "id": "36e3ba48-5206-44ee-bb48-9fb21379f179",
   "metadata": {},
   "outputs": [],
   "source": [
    "f = open('/data/output/LUNA16-mini.json')\n",
    "content = json.load(f)"
   ]
  },
  {
   "cell_type": "code",
   "execution_count": 8,
   "id": "d3f3b5f5-4265-47ad-b14d-7c7c5c0e771f",
   "metadata": {},
   "outputs": [
    {
     "name": "stdout",
     "output_type": "stream",
     "text": [
      "64\n",
      "16\n"
     ]
    }
   ],
   "source": [
    "print(len(content['training']))\n",
    "print(len(content['validation']))"
   ]
  },
  {
   "cell_type": "code",
   "execution_count": null,
   "id": "7822d6fd-6dce-4204-8401-cc35f6913b3c",
   "metadata": {},
   "outputs": [],
   "source": []
  }
 ],
 "metadata": {
  "kernelspec": {
   "display_name": "Python 3 (ipykernel)",
   "language": "python",
   "name": "python3"
  },
  "language_info": {
   "codemirror_mode": {
    "name": "ipython",
    "version": 3
   },
   "file_extension": ".py",
   "mimetype": "text/x-python",
   "name": "python",
   "nbconvert_exporter": "python",
   "pygments_lexer": "ipython3",
   "version": "3.8.10"
  }
 },
 "nbformat": 4,
 "nbformat_minor": 5
}
