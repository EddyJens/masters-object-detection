{
 "cells": [
  {
   "cell_type": "code",
   "execution_count": 14,
   "id": "831775ff-0c30-4c08-b5e5-4c122001cf92",
   "metadata": {},
   "outputs": [],
   "source": [
    "import pandas as pd\n",
    "import numpy as np\n",
    "import ast"
   ]
  },
  {
   "cell_type": "code",
   "execution_count": 15,
   "id": "4bb67a5f-3f0e-47cd-ab76-6c9024171b20",
   "metadata": {},
   "outputs": [],
   "source": [
    "def from_np_array(array_string):\n",
    "    array_string = ','.join(\n",
    "        array_string.replace('[  ', '[').replace('[ ', '[').split()\n",
    "    )\n",
    "    return np.array(ast.literal_eval(array_string))"
   ]
  },
  {
   "cell_type": "code",
   "execution_count": 16,
   "id": "da56f062-f2ed-48e1-bb5c-2fc3ad2e5fdc",
   "metadata": {},
   "outputs": [
    {
     "name": "stdout",
     "output_type": "stream",
     "text": [
      "(101, 10)\n"
     ]
    },
    {
     "data": {
      "text/html": [
       "<div>\n",
       "<style scoped>\n",
       "    .dataframe tbody tr th:only-of-type {\n",
       "        vertical-align: middle;\n",
       "    }\n",
       "\n",
       "    .dataframe tbody tr th {\n",
       "        vertical-align: top;\n",
       "    }\n",
       "\n",
       "    .dataframe thead th {\n",
       "        text-align: right;\n",
       "    }\n",
       "</style>\n",
       "<table border=\"1\" class=\"dataframe\">\n",
       "  <thead>\n",
       "    <tr style=\"text-align: right;\">\n",
       "      <th></th>\n",
       "      <th>name</th>\n",
       "      <th>spacing</th>\n",
       "      <th>origin</th>\n",
       "      <th>exam_refined</th>\n",
       "      <th>x_min</th>\n",
       "      <th>y_min</th>\n",
       "      <th>z_min</th>\n",
       "      <th>x_max</th>\n",
       "      <th>y_max</th>\n",
       "      <th>z_max</th>\n",
       "    </tr>\n",
       "  </thead>\n",
       "  <tbody>\n",
       "    <tr>\n",
       "      <th>0</th>\n",
       "      <td>PL032303325116347</td>\n",
       "      <td>[1.25, 0.703125, 0.703125]</td>\n",
       "      <td>[-239.75, -237.5, -185.699997]</td>\n",
       "      <td>False</td>\n",
       "      <td>311</td>\n",
       "      <td>312</td>\n",
       "      <td>62</td>\n",
       "      <td>337</td>\n",
       "      <td>341</td>\n",
       "      <td>76</td>\n",
       "    </tr>\n",
       "    <tr>\n",
       "      <th>1</th>\n",
       "      <td>PL061850842690412</td>\n",
       "      <td>[1.0, 0.976562, 0.976562]</td>\n",
       "      <td>[-241.5, -109.0, -244.0]</td>\n",
       "      <td>False</td>\n",
       "      <td>161</td>\n",
       "      <td>302</td>\n",
       "      <td>278</td>\n",
       "      <td>186</td>\n",
       "      <td>328</td>\n",
       "      <td>301</td>\n",
       "    </tr>\n",
       "    <tr>\n",
       "      <th>2</th>\n",
       "      <td>PL064775189851313</td>\n",
       "      <td>[0.75, 0.921875, 0.921875]</td>\n",
       "      <td>[-13.5, -99.0, -237.0]</td>\n",
       "      <td>False</td>\n",
       "      <td>328</td>\n",
       "      <td>313</td>\n",
       "      <td>324</td>\n",
       "      <td>355</td>\n",
       "      <td>337</td>\n",
       "      <td>346</td>\n",
       "    </tr>\n",
       "    <tr>\n",
       "      <th>3</th>\n",
       "      <td>PL070153620449075</td>\n",
       "      <td>[1.0, 0.976562, 0.976562]</td>\n",
       "      <td>[16.5, -130.0, -253.0]</td>\n",
       "      <td>False</td>\n",
       "      <td>140</td>\n",
       "      <td>230</td>\n",
       "      <td>276</td>\n",
       "      <td>195</td>\n",
       "      <td>275</td>\n",
       "      <td>310</td>\n",
       "    </tr>\n",
       "    <tr>\n",
       "      <th>4</th>\n",
       "      <td>PL075999918976403</td>\n",
       "      <td>[1.0000001, 0.902344, 0.902344]</td>\n",
       "      <td>[356.999969, -153.0, -243.0]</td>\n",
       "      <td>False</td>\n",
       "      <td>175</td>\n",
       "      <td>298</td>\n",
       "      <td>222</td>\n",
       "      <td>235</td>\n",
       "      <td>352</td>\n",
       "      <td>272</td>\n",
       "    </tr>\n",
       "  </tbody>\n",
       "</table>\n",
       "</div>"
      ],
      "text/plain": [
       "                name                          spacing  \\\n",
       "0  PL032303325116347       [1.25, 0.703125, 0.703125]   \n",
       "1  PL061850842690412        [1.0, 0.976562, 0.976562]   \n",
       "2  PL064775189851313       [0.75, 0.921875, 0.921875]   \n",
       "3  PL070153620449075        [1.0, 0.976562, 0.976562]   \n",
       "4  PL075999918976403  [1.0000001, 0.902344, 0.902344]   \n",
       "\n",
       "                           origin  exam_refined  x_min  y_min  z_min  x_max  \\\n",
       "0  [-239.75, -237.5, -185.699997]         False    311    312     62    337   \n",
       "1        [-241.5, -109.0, -244.0]         False    161    302    278    186   \n",
       "2          [-13.5, -99.0, -237.0]         False    328    313    324    355   \n",
       "3          [16.5, -130.0, -253.0]         False    140    230    276    195   \n",
       "4    [356.999969, -153.0, -243.0]         False    175    298    222    235   \n",
       "\n",
       "   y_max  z_max  \n",
       "0    341     76  \n",
       "1    328    301  \n",
       "2    337    346  \n",
       "3    275    310  \n",
       "4    352    272  "
      ]
     },
     "execution_count": 16,
     "metadata": {},
     "output_type": "execute_result"
    }
   ],
   "source": [
    "content = pd.read_csv(\n",
    "    '/data/output/hc_clean_nodules.csv',\n",
    "    converters={\n",
    "        'spacing': from_np_array,\n",
    "        'origin': from_np_array\n",
    "    }\n",
    ")\n",
    "print(content.shape)\n",
    "content.head()"
   ]
  },
  {
   "cell_type": "code",
   "execution_count": 17,
   "id": "714f54d5-9bbf-42dc-aa34-22ae74522a60",
   "metadata": {},
   "outputs": [],
   "source": [
    "def voxel_2_world(voxel_coordinates, origin, spacing):\n",
    "    stretched_voxel_coordinates = voxel_coordinates * spacing\n",
    "    world_coordinates = stretched_voxel_coordinates + origin\n",
    "    return world_coordinates"
   ]
  },
  {
   "cell_type": "code",
   "execution_count": 18,
   "id": "6dfc150c-a5cf-49f9-9a01-e10147439bf6",
   "metadata": {},
   "outputs": [
    {
     "name": "stdout",
     "output_type": "stream",
     "text": [
      "PL032303325116347 [ 138.300003   89.       -170.75    ] [-26. -29. -14.]\n",
      "PL061850842690412 [-70.5 206.   48. ] [-25. -26. -23.]\n",
      "PL064775189851313 [104.5 226.  321.5] [-27. -24. -22.]\n",
      "PL070153620449075 [-85.5 122.5 309.5] [-55. -45. -34.]\n",
      "PL075999918976403 [-38.       172.       603.999969] [-60. -54. -50.]\n",
      "PL090002409998035 [-30.  250.5 557.5] [-27. -30. -23.]\n",
      "PL092011846020010 [ 91.  187.   18.5] [-29. -31. -22.]\n",
      "PL105774832311414 [-92.  211.  205.5] [-38. -38. -43.]\n",
      "PL107909012459665 [-12.5      164.       542.499969] [-16. -17. -16.]\n",
      "PL126225386175081 [-24.  203.5 316. ] [-47. -40. -36.]\n"
     ]
    }
   ],
   "source": [
    "for hc_bb in content[0:10].itertuples(index=False):\n",
    "    # _vec_center = [\n",
    "    #     (hc_bb[4] + hc_bb[7])/2, \n",
    "    #     (hc_bb[5] + hc_bb[8])/2, \n",
    "    #     (hc_bb[6] + hc_bb[9])/2]\n",
    "    # _vec_diam = [\n",
    "    #     np.abs(hc_bb[7] - hc_bb[4]),\n",
    "    #     np.abs(hc_bb[8] - hc_bb[5]),\n",
    "    #     np.abs(hc_bb[9] - hc_bb[6])]\n",
    "\n",
    "    # origin = np.array(list(reversed(hc_bb[2])))\n",
    "    # spacing = np.array(list(reversed(hc_bb[1])))\n",
    "    # spacing = np.array(list([1, 1, 1]))\n",
    "    \n",
    "    # vec_c = voxel_2_world(_vec_center, origin, spacing)\n",
    "    # vec_d = voxel_2_world(_vec_diam, origin, spacing)\n",
    "\n",
    "    voxel_min = np.array((hc_bb[4], hc_bb[5], hc_bb[6]))\n",
    "    voxel_max = np.array((hc_bb[7], hc_bb[8], hc_bb[9]))\n",
    "\n",
    "    origin = np.array(list(reversed(hc_bb[2])))\n",
    "    # spacing = np.array(list(reversed(hc_bb[1])))\n",
    "    spacing = np.array(list([1, 1, 1]))\n",
    "\n",
    "    world_coord_min = origin + voxel_min*spacing\n",
    "    world_coord_max = origin + voxel_max*spacing\n",
    "\n",
    "    vec_c = (world_coord_min + world_coord_max)/2\n",
    "    vec_d = world_coord_min - world_coord_max\n",
    "    \n",
    "    print(hc_bb[0], vec_c, vec_d)"
   ]
  },
  {
   "cell_type": "code",
   "execution_count": 19,
   "id": "58cf3edc-efa9-4506-b771-afe5be782421",
   "metadata": {},
   "outputs": [],
   "source": [
    "### test converting the spacing to 1, 1, 1 and then apply the rule above!"
   ]
  }
 ],
 "metadata": {
  "kernelspec": {
   "display_name": "Python 3 (ipykernel)",
   "language": "python",
   "name": "python3"
  },
  "language_info": {
   "codemirror_mode": {
    "name": "ipython",
    "version": 3
   },
   "file_extension": ".py",
   "mimetype": "text/x-python",
   "name": "python",
   "nbconvert_exporter": "python",
   "pygments_lexer": "ipython3",
   "version": "3.8.10"
  }
 },
 "nbformat": 4,
 "nbformat_minor": 5
}
