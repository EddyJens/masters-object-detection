{
 "cells": [
  {
   "cell_type": "code",
   "execution_count": 1,
   "metadata": {},
   "outputs": [],
   "source": [
    "import torch\n",
    "from monai.transforms import ScaleIntensityRanged\n",
    "from generate_transforms import generate_detection_inference_transform\n",
    "from monai.data import DataLoader, Dataset, load_decathlon_datalist\n",
    "from monai.data.utils import no_collation"
   ]
  },
  {
   "cell_type": "code",
   "execution_count": 2,
   "metadata": {},
   "outputs": [],
   "source": [
    "amp = True\n",
    "# gt_box_mode = \"cccwhd\"\n",
    "# src_mode = \"xyzxyz\"\n",
    "gt_box_mode = \"xyzxyz\"\n",
    "src_mode = \"cccwhd\"\n",
    "data_list_file_path = '/data/output/LUNA16-micro.json'\n",
    "data_base_dir = \"/data/LUNA16_Images_resample/\""
   ]
  },
  {
   "cell_type": "code",
   "execution_count": 3,
   "metadata": {},
   "outputs": [
    {
     "name": "stderr",
     "output_type": "stream",
     "text": [
      "monai.transforms.io.dictionary LoadImaged.__init__:image_only: Current default value of argument `image_only=False` has been deprecated since version 1.1. It will be changed to `image_only=True` in version 1.3.\n"
     ]
    }
   ],
   "source": [
    "# 1. define transform\n",
    "intensity_transform = ScaleIntensityRanged(\n",
    "    keys=[\"image\"],\n",
    "    a_min=-1024,\n",
    "    a_max=300.0,\n",
    "    b_min=0.0,\n",
    "    b_max=1.0,\n",
    "    clip=True,\n",
    ")\n",
    "\n",
    "inference_transforms, post_transforms = generate_detection_inference_transform(\n",
    "    \"image\",\n",
    "    \"box\",\n",
    "    \"pred_label\",\n",
    "    \"pred_score\",\n",
    "    gt_box_mode,\n",
    "    src_mode,\n",
    "    intensity_transform,\n",
    "    affine_lps_to_ras=True,\n",
    "    amp=amp,\n",
    ")"
   ]
  },
  {
   "cell_type": "code",
   "execution_count": 9,
   "metadata": {},
   "outputs": [],
   "source": [
    "# 2. create a inference data loader\n",
    "inference_data = load_decathlon_datalist(\n",
    "    data_list_file_path,\n",
    "    is_segmentation=True,\n",
    "    data_list_key=\"training\",\n",
    "    base_dir=data_base_dir,\n",
    ")\n",
    "\n",
    "inference_ds = Dataset(\n",
    "    data=inference_data,\n",
    "    transform=inference_transforms,\n",
    ")\n",
    "\n",
    "inference_loader = DataLoader(\n",
    "    inference_ds,\n",
    "    batch_size=1,\n",
    "    pin_memory=torch.cuda.is_available(),\n",
    "    collate_fn=no_collation,\n",
    ")"
   ]
  },
  {
   "cell_type": "code",
   "execution_count": 10,
   "metadata": {},
   "outputs": [
    {
     "name": "stdout",
     "output_type": "stream",
     "text": [
      "[[100.0021827, 22.00611876, -147.0757546, 8.871621958, 8.871621958, 8.871621958], [-55.31574942, 4.042374673, -154.7552924, 5.970538617, 5.970538617, 5.970538617], [-25.40860122, 136.715217, -181.6943198, 11.08601237, 11.08601237, 11.08601237], [127.2115066, 44.79847847, -164.7894133, 7.72427841, 7.72427841, 7.72427841], [120.2208995, 50.312055, -132.1372108, 5.251592099, 5.251592099, 5.251592099], [101.082909, -3.953008029, -180.4023007, 9.404294354, 9.404294354, 9.404294354]] /data/LUNA16_Images_resample/1.3.6.1.4.1.14519.5.2.1.6279.6001.250397690690072950000431855143/1.3.6.1.4.1.14519.5.2.1.6279.6001.250397690690072950000431855143.nii.gz\n",
      "[[102.2377292, 65.32842988, -240.6955559, 18.210145, 18.210145, 18.210145], [22.53616818, 34.72145001, -117.4375995, 10.33971307, 10.33971307, 10.33971307], [60.18947724, -45.04675978, -112.6427797, 8.349225392, 8.349225392, 8.349225392], [67.82725575, 85.37992457, -109.7467238, 32.27003025, 32.27003025, 32.27003025], [114.1058249, -11.85681073, -165.6215278, 4.915612527, 4.915612527, 4.915612527]] /data/LUNA16_Images_resample/1.3.6.1.4.1.14519.5.2.1.6279.6001.287966244644280690737019247886/1.3.6.1.4.1.14519.5.2.1.6279.6001.287966244644280690737019247886.nii.gz\n"
     ]
    }
   ],
   "source": [
    "for inference_data in inference_loader:\n",
    "    for inference_data_i in inference_data:\n",
    "        # print(inference_data_i['image_meta_dict'])\n",
    "        # print(inference_data_i['image_meta_dict'].keys())\n",
    "        print(inference_data_i['box'], inference_data_i['image_meta_dict']['filename_or_obj'])"
   ]
  },
  {
   "cell_type": "code",
   "execution_count": 6,
   "metadata": {},
   "outputs": [
    {
     "data": {
      "text/plain": [
       "[[100.0021827,\n",
       "  22.00611876,\n",
       "  -147.0757546,\n",
       "  8.871621958,\n",
       "  8.871621958,\n",
       "  8.871621958],\n",
       " [-55.31574942,\n",
       "  4.042374673,\n",
       "  -154.7552924,\n",
       "  5.970538617,\n",
       "  5.970538617,\n",
       "  5.970538617],\n",
       " [-25.40860122,\n",
       "  136.715217,\n",
       "  -181.6943198,\n",
       "  11.08601237,\n",
       "  11.08601237,\n",
       "  11.08601237],\n",
       " [127.2115066, 44.79847847, -164.7894133, 7.72427841, 7.72427841, 7.72427841],\n",
       " [120.2208995, 50.312055, -132.1372108, 5.251592099, 5.251592099, 5.251592099],\n",
       " [101.082909,\n",
       "  -3.953008029,\n",
       "  -180.4023007,\n",
       "  9.404294354,\n",
       "  9.404294354,\n",
       "  9.404294354]]"
      ]
     },
     "execution_count": 6,
     "metadata": {},
     "output_type": "execute_result"
    }
   ],
   "source": [
    "[[100.0021827, 22.00611876, -147.0757546, 8.871621958, 8.871621958, 8.871621958], \n",
    " [-55.31574942, 4.042374673, -154.7552924, 5.970538617, 5.970538617, 5.970538617], \n",
    " [-25.40860122, 136.715217, -181.6943198, 11.08601237, 11.08601237, 11.08601237], \n",
    " [127.2115066, 44.79847847, -164.7894133, 7.72427841, 7.72427841, 7.72427841], \n",
    " [120.2208995, 50.312055, -132.1372108, 5.251592099, 5.251592099, 5.251592099], \n",
    " [101.082909, -3.953008029, -180.4023007, 9.404294354, 9.404294354, 9.404294354]]"
   ]
  },
  {
   "cell_type": "code",
   "execution_count": 7,
   "metadata": {},
   "outputs": [
    {
     "data": {
      "text/plain": [
       "dict_keys(['box', 'image', 'label', 'image_meta_dict'])"
      ]
     },
     "execution_count": 7,
     "metadata": {},
     "output_type": "execute_result"
    }
   ],
   "source": [
    "inference_data_i.keys()"
   ]
  },
  {
   "cell_type": "code",
   "execution_count": 8,
   "metadata": {},
   "outputs": [
    {
     "data": {
      "text/plain": [
       "{'sizeof_hdr': array(348, dtype=int32),\n",
       " 'extents': array(0, dtype=int32),\n",
       " 'session_error': array(0, dtype=int16),\n",
       " 'dim_info': array(0, dtype=uint8),\n",
       " 'dim': array([  3, 512, 512, 245,   1,   1,   1,   1], dtype=int16),\n",
       " 'intent_p1': array(0., dtype=float32),\n",
       " 'intent_p2': array(0., dtype=float32),\n",
       " 'intent_p3': array(0., dtype=float32),\n",
       " 'intent_code': array(0, dtype=int16),\n",
       " 'datatype': array(16, dtype=int16),\n",
       " 'bitpix': array(32, dtype=int16),\n",
       " 'slice_start': array(0, dtype=int16),\n",
       " 'pixdim': array([1.      , 0.703125, 0.703125, 1.25    , 1.      , 1.      ,\n",
       "        1.      , 1.      ], dtype=float32),\n",
       " 'vox_offset': array(0., dtype=float32),\n",
       " 'scl_slope': array(nan, dtype=float32),\n",
       " 'scl_inter': array(nan, dtype=float32),\n",
       " 'slice_end': array(0, dtype=int16),\n",
       " 'slice_code': array(0, dtype=uint8),\n",
       " 'xyzt_units': array(0, dtype=uint8),\n",
       " 'cal_max': array(0., dtype=float32),\n",
       " 'cal_min': array(0., dtype=float32),\n",
       " 'slice_duration': array(0., dtype=float32),\n",
       " 'toffset': array(0., dtype=float32),\n",
       " 'glmax': array(0, dtype=int32),\n",
       " 'glmin': array(0, dtype=int32),\n",
       " 'qform_code': array(0, dtype=int16),\n",
       " 'sform_code': array(2, dtype=int16),\n",
       " 'quatern_b': array(0., dtype=float32),\n",
       " 'quatern_c': array(0., dtype=float32),\n",
       " 'quatern_d': array(0., dtype=float32),\n",
       " 'qoffset_x': array(-179.29688, dtype=float32),\n",
       " 'qoffset_y': array(-201.79688, dtype=float32),\n",
       " 'qoffset_z': array(-349.5, dtype=float32),\n",
       " 'srow_x': array([   0.703125,    0.      ,    0.      , -179.29688 ], dtype=float32),\n",
       " 'srow_y': array([   0.      ,    0.703125,    0.      , -201.79688 ], dtype=float32),\n",
       " 'srow_z': array([   0.  ,    0.  ,    1.25, -349.5 ], dtype=float32),\n",
       " affine: tensor([[   0.7031,    0.0000,    0.0000, -179.2969],\n",
       "         [   0.0000,    0.7031,    0.0000, -201.7969],\n",
       "         [   0.0000,    0.0000,    1.2500, -349.5000],\n",
       "         [   0.0000,    0.0000,    0.0000,    1.0000]], dtype=torch.float64),\n",
       " original_affine: array([[   0.703125,    0.      ,    0.      , -179.296875],\n",
       "        [   0.      ,    0.703125,    0.      , -201.796875],\n",
       "        [   0.      ,    0.      ,    1.25    , -349.5     ],\n",
       "        [   0.      ,    0.      ,    0.      ,    1.      ]]),\n",
       " 'as_closest_canonical': False,\n",
       " spatial_shape: array([512, 512, 245], dtype=int16),\n",
       " space: RAS,\n",
       " original_channel_dim: nan,\n",
       " 'filename_or_obj': '/data/LUNA16_Images_resample/1.3.6.1.4.1.14519.5.2.1.6279.6001.313334055029671473836954456733/1.3.6.1.4.1.14519.5.2.1.6279.6001.313334055029671473836954456733.nii.gz'}"
      ]
     },
     "execution_count": 8,
     "metadata": {},
     "output_type": "execute_result"
    }
   ],
   "source": [
    "inference_data_i['image_meta_dict']"
   ]
  },
  {
   "cell_type": "code",
   "execution_count": null,
   "metadata": {},
   "outputs": [],
   "source": []
  }
 ],
 "metadata": {
  "kernelspec": {
   "display_name": "Python 3 (ipykernel)",
   "language": "python",
   "name": "python3"
  },
  "language_info": {
   "codemirror_mode": {
    "name": "ipython",
    "version": 3
   },
   "file_extension": ".py",
   "mimetype": "text/x-python",
   "name": "python",
   "nbconvert_exporter": "python",
   "pygments_lexer": "ipython3",
   "version": "3.8.10"
  }
 },
 "nbformat": 4,
 "nbformat_minor": 4
}
