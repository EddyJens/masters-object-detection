{
 "cells": [
  {
   "cell_type": "code",
   "execution_count": 13,
   "id": "951adfc4-41ee-4a43-87a9-67c4e410062f",
   "metadata": {},
   "outputs": [],
   "source": [
    "from loading_dataset import load_data\n",
    "import SimpleITK as sitk\n",
    "import numpy as np"
   ]
  },
  {
   "cell_type": "code",
   "execution_count": 14,
   "id": "4a316732-9cda-4957-8f41-d50515430c3e",
   "metadata": {},
   "outputs": [],
   "source": [
    "gt_box_mode = 'cccwhd'\n",
    "# gt_box_mode = 'xyzxyz'\n",
    "batch_size = 1\n",
    "patch_size = [96,96,40]\n",
    "amp=True\n",
    "data_list_file_path = '/data/output/msd_train_val3.json'\n",
    "data_base_dir = '/data/MSD_Images_resample/'"
   ]
  },
  {
   "cell_type": "code",
   "execution_count": 15,
   "id": "64a0cb82-f2c4-4eed-8582-c13872798061",
   "metadata": {},
   "outputs": [],
   "source": [
    "train_loader, val_loader, len_train_ds = load_data(\n",
    "    gt_box_mode, patch_size, batch_size, amp, data_list_file_path, data_base_dir\n",
    ")"
   ]
  },
  {
   "cell_type": "code",
   "execution_count": 16,
   "id": "94195e68-4423-4e30-bf2b-38eeda5a4c7a",
   "metadata": {
    "scrolled": true
   },
   "outputs": [
    {
     "name": "stdout",
     "output_type": "stream",
     "text": [
      "metatensor([[438., 334., 105., 462., 353., 115.]], dtype=torch.float16)\n",
      "/data/MSD_Images_resample/lung_083/lung_083.nii.gz\n",
      "metatensor([[477., 188., 153., 500., 216., 172.]], dtype=torch.float16)\n",
      "/data/MSD_Images_resample/lung_079/lung_079.nii.gz\n"
     ]
    }
   ],
   "source": [
    "for val_data in val_loader:\n",
    "    print(val_data[0][\"box\"])\n",
    "    print(val_data[0][\"image_meta_dict\"][\"filename_or_obj\"])"
   ]
  },
  {
   "cell_type": "code",
   "execution_count": 5,
   "id": "0ded9b29-627d-424b-9662-7515869eb1c8",
   "metadata": {},
   "outputs": [],
   "source": [
    "def generate_conversions_info(\n",
    "    origin, spacing, world_coord, world_dist\n",
    "):\n",
    "    print(origin)\n",
    "    print(spacing)\n",
    "    print(\"first conversion, centers world to voxel\")\n",
    "    voxel_coord = np.abs(world_coord - origin) / spacing\n",
    "    print(world_coord)\n",
    "    print(voxel_coord)\n",
    "    voxel_dist = world_dist/ spacing\n",
    "    print(\"converting distances\")\n",
    "    print(world_dist)\n",
    "    print(voxel_dist)"
   ]
  },
  {
   "cell_type": "code",
   "execution_count": 6,
   "id": "b60226da-1b20-462d-b644-0bb0b41bb137",
   "metadata": {},
   "outputs": [],
   "source": [
    "origin = np.array([202.97944641, 227.27944946, -278])\n",
    "spacing = np.array([0.703125, 0.703125, 1.25])\n",
    "world_coord = np.array([109.11225891000001,  15.990386959999995, -468.625])\n",
    "world_dist = np.array([23.203125, 23.203125, 18.75])"
   ]
  },
  {
   "cell_type": "code",
   "execution_count": 7,
   "id": "b9ed61a6-f942-4dfc-86b2-e82432d8fa20",
   "metadata": {},
   "outputs": [
    {
     "name": "stdout",
     "output_type": "stream",
     "text": [
      "[ 202.97944641  227.27944946 -278.        ]\n",
      "[0.703125 0.703125 1.25    ]\n",
      "first conversion, centers world to voxel\n",
      "[ 109.11225891   15.99038696 -468.625     ]\n",
      "[133.5 300.5 152.5]\n",
      "converting distances\n",
      "[23.203125 23.203125 18.75    ]\n",
      "[33. 33. 15.]\n"
     ]
    }
   ],
   "source": [
    "generate_conversions_info(origin, spacing, world_coord, world_dist)"
   ]
  },
  {
   "cell_type": "code",
   "execution_count": 8,
   "id": "7c63234d-c63c-405a-93b7-8ff0fb17b1db",
   "metadata": {},
   "outputs": [
    {
     "ename": "ValueError",
     "evalue": "invalid literal for int() with base 10: 'aa'",
     "output_type": "error",
     "traceback": [
      "\u001b[0;31m---------------------------------------------------------------------------\u001b[0m",
      "\u001b[0;31mValueError\u001b[0m                                Traceback (most recent call last)",
      "Cell \u001b[0;32mIn[8], line 1\u001b[0m\n\u001b[0;32m----> 1\u001b[0m \u001b[38;5;28;43mint\u001b[39;49m\u001b[43m(\u001b[49m\u001b[38;5;124;43m'\u001b[39;49m\u001b[38;5;124;43maa\u001b[39;49m\u001b[38;5;124;43m'\u001b[39;49m\u001b[43m)\u001b[49m\n",
      "\u001b[0;31mValueError\u001b[0m: invalid literal for int() with base 10: 'aa'"
     ]
    }
   ],
   "source": [
    "int('aa')"
   ]
  },
  {
   "cell_type": "markdown",
   "id": "4482f726-5493-413e-9036-cfcad4af1d73",
   "metadata": {},
   "source": [
    "### voxel"
   ]
  },
  {
   "cell_type": "code",
   "execution_count": 9,
   "id": "a690b2d6-82d8-4527-9ee2-622237ee125c",
   "metadata": {},
   "outputs": [
    {
     "data": {
      "text/plain": [
       "array([109.11225891,  15.99038696, -87.375     ])"
      ]
     },
     "execution_count": 9,
     "metadata": {},
     "output_type": "execute_result"
    }
   ],
   "source": [
    "voxel_coordinates = np.array([133.5, 300.5, -152.5])\n",
    "world_coordinates = ((voxel_coordinates * spacing) - origin) * -1\n",
    "world_coordinates"
   ]
  },
  {
   "cell_type": "code",
   "execution_count": 10,
   "id": "f315e1b8-ee11-402b-803f-ee41d0ef8f03",
   "metadata": {},
   "outputs": [
    {
     "data": {
      "text/plain": [
       "array([18.19335938, 18.19335938, 18.203125  ])"
      ]
     },
     "execution_count": 10,
     "metadata": {},
     "output_type": "execute_result"
    }
   ],
   "source": [
    "voxel_coordinates = np.array([25.875, 25.875, 14.5625])\n",
    "world_coordinates = voxel_coordinates * spacing\n",
    "world_coordinates"
   ]
  },
  {
   "cell_type": "code",
   "execution_count": null,
   "id": "9683c587-a767-487d-8a57-8555b6a75573",
   "metadata": {},
   "outputs": [],
   "source": []
  },
  {
   "cell_type": "code",
   "execution_count": 11,
   "id": "364fabf2-3a53-49d0-84f6-9f91e181e10c",
   "metadata": {},
   "outputs": [],
   "source": [
    "world_coord_cent = np.array([133.5, 300.5, 152.5])"
   ]
  },
  {
   "cell_type": "code",
   "execution_count": 12,
   "id": "e27186c2-4817-45d2-b8e9-9d233833231e",
   "metadata": {},
   "outputs": [
    {
     "data": {
      "text/plain": [
       "array([ 133.5,  300.5, -152.5])"
      ]
     },
     "execution_count": 12,
     "metadata": {},
     "output_type": "execute_result"
    }
   ],
   "source": [
    "world_coord_cent[2] = world_coord_cent[2] * -1\n",
    "world_coord_cent"
   ]
  },
  {
   "cell_type": "code",
   "execution_count": null,
   "id": "720fe7bb-3b22-4408-a4ae-b9216b51f14a",
   "metadata": {},
   "outputs": [],
   "source": []
  }
 ],
 "metadata": {
  "kernelspec": {
   "display_name": "Python 3 (ipykernel)",
   "language": "python",
   "name": "python3"
  },
  "language_info": {
   "codemirror_mode": {
    "name": "ipython",
    "version": 3
   },
   "file_extension": ".py",
   "mimetype": "text/x-python",
   "name": "python",
   "nbconvert_exporter": "python",
   "pygments_lexer": "ipython3",
   "version": "3.8.10"
  }
 },
 "nbformat": 4,
 "nbformat_minor": 5
}
