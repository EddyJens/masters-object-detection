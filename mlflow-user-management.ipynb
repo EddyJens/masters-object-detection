{
 "cells": [
  {
   "cell_type": "code",
   "execution_count": 1,
   "id": "f2d2d3ec-0000-4c24-bdce-5bac7f48cd82",
   "metadata": {},
   "outputs": [],
   "source": [
    "import os\n",
    "\n",
    "os.environ['MLFLOW_TRACKING_USERNAME'] = 'admin'\n",
    "os.environ['MLFLOW_TRACKING_PASSWORD'] = 'password'"
   ]
  },
  {
   "cell_type": "code",
   "execution_count": 2,
   "id": "27b986af-a731-44fe-b745-d5ecbe38c8f1",
   "metadata": {},
   "outputs": [],
   "source": [
    "from mlflow.server.auth.client import AuthServiceClient\n",
    "\n",
    "client = AuthServiceClient('http://mlflow-server-remote:5001/')\n",
    "client.create_user(\"Eddy\", \"Usp1#\")\n",
    "client.update_user_admin(username=\"Eddy\", is_admin=True)"
   ]
  }
 ],
 "metadata": {
  "kernelspec": {
   "display_name": "Python 3 (ipykernel)",
   "language": "python",
   "name": "python3"
  },
  "language_info": {
   "codemirror_mode": {
    "name": "ipython",
    "version": 3
   },
   "file_extension": ".py",
   "mimetype": "text/x-python",
   "name": "python",
   "nbconvert_exporter": "python",
   "pygments_lexer": "ipython3",
   "version": "3.10.12"
  }
 },
 "nbformat": 4,
 "nbformat_minor": 5
}
