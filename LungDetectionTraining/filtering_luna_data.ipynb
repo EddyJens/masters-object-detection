{
 "cells": [
  {
   "cell_type": "markdown",
   "metadata": {},
   "source": [
    "### Code used to extract only LUNA16 data from mixed dataset .json "
   ]
  },
  {
   "cell_type": "code",
   "execution_count": 1,
   "metadata": {},
   "outputs": [],
   "source": [
    "import json\n",
    "from tqdm import tqdm"
   ]
  },
  {
   "cell_type": "markdown",
   "metadata": {},
   "source": [
    "#### train/val"
   ]
  },
  {
   "cell_type": "code",
   "execution_count": 2,
   "metadata": {},
   "outputs": [
    {
     "name": "stderr",
     "output_type": "stream",
     "text": [
      "100%|██████████| 488/488 [00:00<00:00, 1172962.95it/s]\n",
      "100%|██████████| 122/122 [00:00<00:00, 571099.43it/s]"
     ]
    },
    {
     "name": "stdout",
     "output_type": "stream",
     "text": [
      "384\n",
      "96\n"
     ]
    },
    {
     "name": "stderr",
     "output_type": "stream",
     "text": [
      "\n"
     ]
    }
   ],
   "source": [
    "data_list_file_path = f'/data/output/mixed_data/mixed_train_val0.json'\n",
    "f = open(data_list_file_path)\n",
    "data = json.load(f)\n",
    "\n",
    "train_luna = []\n",
    "val_luna = []\n",
    "for content in tqdm(data['training']):\n",
    "    if 'LUNA16' in content['image']:\n",
    "        train_luna.append({\n",
    "            \"box\": content['box'],\n",
    "            \"image\": content['image'],\n",
    "            \"label\": content['label']\n",
    "        })\n",
    "\n",
    "for content in tqdm(data['validation']):\n",
    "    if 'LUNA16' in content['image']:\n",
    "        val_luna.append({\n",
    "            \"box\": content['box'],\n",
    "            \"image\": content['image'],\n",
    "            \"label\": content['label']\n",
    "        })\n",
    "\n",
    "print(len(train_luna))\n",
    "print(len(val_luna))\n",
    "\n",
    "value = {\n",
    "    \"training\": train_luna,\n",
    "    \"validation\": val_luna\n",
    "}\n",
    "\n",
    "save_file = open(\n",
    "    '/data/output/unique_data/luna_train_val.json',\n",
    "    'w'\n",
    ")\n",
    "json.dump(value, save_file, indent=5)\n",
    "save_file.close()"
   ]
  },
  {
   "cell_type": "markdown",
   "metadata": {},
   "source": [
    "#### test"
   ]
  },
  {
   "cell_type": "code",
   "execution_count": 2,
   "metadata": {},
   "outputs": [
    {
     "name": "stderr",
     "output_type": "stream",
     "text": [
      "100%|██████████| 155/155 [00:00<00:00, 773948.95it/s]"
     ]
    },
    {
     "name": "stdout",
     "output_type": "stream",
     "text": [
      "121\n"
     ]
    },
    {
     "name": "stderr",
     "output_type": "stream",
     "text": [
      "\n"
     ]
    }
   ],
   "source": [
    "data_list_file_path = f'/data/output/mixed_data/mixed_test.json'\n",
    "f = open(data_list_file_path)\n",
    "data = json.load(f)\n",
    "\n",
    "test_luna = []\n",
    "val_luna = []\n",
    "for content in tqdm(data['test']):\n",
    "    if 'LUNA16' in content['image']:\n",
    "        test_luna.append({\n",
    "            \"box\": content['box'],\n",
    "            \"image\": content['image'],\n",
    "            \"label\": content['label']\n",
    "        })\n",
    "\n",
    "print(len(test_luna))\n",
    "\n",
    "value = {\n",
    "    \"test\": test_luna\n",
    "}\n",
    "\n",
    "save_file = open(\n",
    "    '/data/output/unique_data/luna_test.json',\n",
    "    'w'\n",
    ")\n",
    "json.dump(value, save_file, indent=5)\n",
    "save_file.close()"
   ]
  }
 ],
 "metadata": {
  "kernelspec": {
   "display_name": "Python 3 (ipykernel)",
   "language": "python",
   "name": "python3"
  },
  "language_info": {
   "codemirror_mode": {
    "name": "ipython",
    "version": 3
   },
   "file_extension": ".py",
   "mimetype": "text/x-python",
   "name": "python",
   "nbconvert_exporter": "python",
   "pygments_lexer": "ipython3",
   "version": "3.10.12"
  }
 },
 "nbformat": 4,
 "nbformat_minor": 4
}
