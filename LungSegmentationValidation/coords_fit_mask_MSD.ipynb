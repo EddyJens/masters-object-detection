{
 "cells": [
  {
   "cell_type": "code",
   "execution_count": 1,
   "id": "c9efcfc7-aee8-41c5-8a3a-50fab8c14b2c",
   "metadata": {},
   "outputs": [],
   "source": [
    "from matplotlib import pyplot as plt\n",
    "from tqdm import tqdm\n",
    "import SimpleITK as sitk\n",
    "import glob\n",
    "import numpy as np\n",
    "from utils import load_itk, resample, get_segmented_lungs"
   ]
  },
  {
   "cell_type": "code",
   "execution_count": 2,
   "id": "88378eaa",
   "metadata": {},
   "outputs": [
    {
     "name": "stdout",
     "output_type": "stream",
     "text": [
      "63\n"
     ]
    }
   ],
   "source": [
    "INPUT_FOLDER = r'/data/MSD/Task06_Lung/imagesTr/lung*'\n",
    "file_list = glob.glob(INPUT_FOLDER)\n",
    "print(len(file_list))\n",
    "file_list.sort()"
   ]
  },
  {
   "cell_type": "code",
   "execution_count": 3,
   "id": "1c12843e-1d19-46d6-9a28-1cf3e353fe32",
   "metadata": {},
   "outputs": [
    {
     "name": "stderr",
     "output_type": "stream",
     "text": [
      "  0%|          | 0/63 [00:00<?, ?it/s]/workspace/masters-object-detection/LungSegmentationValidation/utils.py:116: UserWarning: Input image is entirely zero, no valid convex hull. Returning empty image\n",
      "  l = convex_hull_image(l)\n",
      "  8%|▊         | 5/63 [10:33<2:10:11, 134.68s/it]/workspace/masters-object-detection/LungSegmentationValidation/utils.py:115: UserWarning: Input image is entirely zero, no valid convex hull. Returning empty image\n",
      "  r = convex_hull_image(r)\n",
      "100%|██████████| 63/63 [2:01:03<00:00, 115.29s/it]  \n"
     ]
    }
   ],
   "source": [
    "from skimage import measure\n",
    "from mpl_toolkits.mplot3d.art3d import Poly3DCollection\n",
    "import os\n",
    "import matplotlib\n",
    "\n",
    "for file in tqdm(file_list):\n",
    "    img, origin, spacing = load_itk(file)\n",
    "    img2, spacing2 = resample(img, spacing)\n",
    "    img3 = np.asarray([get_segmented_lungs(im) for im in img2])\n",
    "\n",
    "    raw_name = file.split('/')[5].split('.')[0]\n",
    "    \n",
    "    ## visualize generated masks\n",
    "\n",
    "    if not os.path.exists('/data/MSD-lung-segment-preview/' + raw_name + '.png'):\n",
    "        p = img3.transpose(2, 1, 0)\n",
    "        verts, faces, normals, values = measure.marching_cubes(p, 0)\n",
    "\n",
    "        fig = plt.figure(figsize=(10, 10))\n",
    "        ax = fig.add_subplot(111, projection='3d')\n",
    "\n",
    "        mesh = Poly3DCollection(verts[faces], alpha=0.20)\n",
    "        face_color = [0.45, 0.45, 0.75]\n",
    "        mesh.set_facecolor(face_color)\n",
    "        ax.add_collection3d(mesh)\n",
    "\n",
    "        ax.set_xlim(0, p.shape[0])\n",
    "        ax.set_ylim(0, p.shape[1])\n",
    "        ax.set_zlim(0, p.shape[2])\n",
    "\n",
    "        plt.savefig('/data/MSD-lung-segment-preview/' + raw_name + '.png')\n",
    "        plt.close()\n",
    "        matplotlib.use('Agg')\n",
    "\n",
    "    ### saving masks\n",
    "    current_name = raw_name + '.nrrd'\n",
    "    if not os.path.exists(current_name):\n",
    "        ma = sitk.GetImageFromArray(img3)\n",
    "        sitk.WriteImage(\n",
    "            ma,\n",
    "            '/data/MSD-lung-segment/' + current_name, True\n",
    "        )"
   ]
  },
  {
   "cell_type": "code",
   "execution_count": null,
   "id": "be7e73e5-49db-47fa-99a9-c43c84af9c79",
   "metadata": {},
   "outputs": [],
   "source": []
  }
 ],
 "metadata": {
  "kernelspec": {
   "display_name": "Python 3 (ipykernel)",
   "language": "python",
   "name": "python3"
  },
  "language_info": {
   "codemirror_mode": {
    "name": "ipython",
    "version": 3
   },
   "file_extension": ".py",
   "mimetype": "text/x-python",
   "name": "python",
   "nbconvert_exporter": "python",
   "pygments_lexer": "ipython3",
   "version": "3.8.10"
  }
 },
 "nbformat": 4,
 "nbformat_minor": 5
}
