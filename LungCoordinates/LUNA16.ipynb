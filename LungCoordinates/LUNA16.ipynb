{
 "cells": [
  {
   "cell_type": "code",
   "execution_count": 3,
   "id": "857389de-2323-4bfb-be50-3b793c97c8d3",
   "metadata": {},
   "outputs": [],
   "source": [
    "import os\n",
    "import json\n",
    "import glob\n",
    "from utils import load_itk\n",
    "from tqdm import tqdm\n",
    "import random"
   ]
  },
  {
   "cell_type": "code",
   "execution_count": 4,
   "id": "86d3fc5f-1b64-4a8a-b28a-dcb556cbe878",
   "metadata": {},
   "outputs": [
    {
     "name": "stdout",
     "output_type": "stream",
     "text": [
      "dict_keys(['training', 'validation'])\n",
      "total: 601\n",
      "train/val: 480 test: 121\n",
      "train: 384 val: 96\n"
     ]
    }
   ],
   "source": [
    "f = open('/data/output/LUNA16_datasplit/dataset_fold0.json')\n",
    "original_luna = json.load(f)\n",
    "print(original_luna.keys())\n",
    "\n",
    "orig_dataset = []\n",
    "for luna in original_luna['training']:\n",
    "    orig_dataset.append(luna)\n",
    "for luna in original_luna['validation']:\n",
    "    orig_dataset.append(luna)\n",
    "\n",
    "### gen test set\n",
    "dataset = orig_dataset.copy()\n",
    "random.shuffle(dataset)\n",
    "print('total: ' + str(len(dataset)))\n",
    "test_split_constant = 0.8\n",
    "test_size = len(dataset) - int(len(dataset) * test_split_constant)\n",
    "first_train_files, test_files = dataset[:-test_size], dataset[-test_size:]\n",
    "print('train/val: ' + str(len(first_train_files)) + ' test: ' + str(len(test_files)))\n",
    "\n",
    "save_file = open('/data/output/multi_data/luna_test.json', 'w')\n",
    "value = { \"test\": test_files }\n",
    "json.dump(value, save_file, indent=5)\n",
    "save_file.close()\n",
    "\n",
    "### gen 10 fold train val\n",
    "for fold_index in range(0, 10):\n",
    "    dataset = first_train_files.copy()\n",
    "    random.shuffle(dataset)\n",
    "    \n",
    "    val_split_constant = 0.8\n",
    "    val_size = len(dataset) - int(len(dataset)*val_split_constant)\n",
    "    train_files, val_files = dataset[:-val_size], dataset[-val_size:]\n",
    "\n",
    "    if fold_index == 0:\n",
    "        print('train: ' + str(len(train_files)) + ' val: ' + str(len(val_files)))\n",
    "\n",
    "    save_file = open(\n",
    "        '/data/output/multi_data/luna_train_val' + str(fold_index) + '.json',\n",
    "        'w'\n",
    "    )\n",
    "    value = {\n",
    "        \"training\": train_files,\n",
    "        \"validation\": val_files\n",
    "    }\n",
    "    json.dump(value, save_file, indent=5)\n",
    "    save_file.close()"
   ]
  },
  {
   "cell_type": "code",
   "execution_count": null,
   "id": "4e6d81c8-5fc3-423c-82dc-a11019d090b7",
   "metadata": {},
   "outputs": [],
   "source": []
  },
  {
   "cell_type": "code",
   "execution_count": null,
   "id": "1e965786-7001-46f5-8575-33d6f8bd11a8",
   "metadata": {},
   "outputs": [],
   "source": []
  },
  {
   "cell_type": "code",
   "execution_count": null,
   "id": "4f54212b-273d-4801-97b1-fbf1d32ffcd6",
   "metadata": {},
   "outputs": [],
   "source": []
  },
  {
   "cell_type": "code",
   "execution_count": null,
   "id": "bb242fb5-1619-4288-888b-cd7e03f9fd3a",
   "metadata": {},
   "outputs": [],
   "source": []
  },
  {
   "cell_type": "code",
   "execution_count": null,
   "id": "4137a0c1-31ac-46b0-8870-9e441993e545",
   "metadata": {},
   "outputs": [],
   "source": []
  },
  {
   "cell_type": "code",
   "execution_count": 2,
   "id": "b6e9b338-a748-4d2f-b353-4a8626f03bf1",
   "metadata": {
    "scrolled": true
   },
   "outputs": [
    {
     "name": "stdout",
     "output_type": "stream",
     "text": [
      "{'box': [[100.0021827, 22.00611876, -147.0757546, 8.871621958, 8.871621958, 8.871621958], [-55.31574942, 4.042374673, -154.7552924, 5.970538617, 5.970538617, 5.970538617], [-25.40860122, 136.715217, -181.6943198, 11.08601237, 11.08601237, 11.08601237], [127.2115066, 44.79847847, -164.7894133, 7.72427841, 7.72427841, 7.72427841], [120.2208995, 50.312055, -132.1372108, 5.251592099, 5.251592099, 5.251592099], [101.082909, -3.953008029, -180.4023007, 9.404294354, 9.404294354, 9.404294354]], 'image': '1.3.6.1.4.1.14519.5.2.1.6279.6001.250397690690072950000431855143/1.3.6.1.4.1.14519.5.2.1.6279.6001.250397690690072950000431855143.nii.gz', 'label': [0, 0, 0, 0, 0, 0]}\n"
     ]
    }
   ],
   "source": [
    "f = open('/data/output/LUNA16_datasplit/dataset_fold0.json')\n",
    "data = json.load(f)\n",
    "\n",
    "for i in range(0, 1):\n",
    "    # print(data['training'][i]['image'])\n",
    "    print(data['training'][i])"
   ]
  },
  {
   "cell_type": "code",
   "execution_count": 3,
   "id": "8ba3c631-b2a4-4a9e-b240-4ae4ad114e91",
   "metadata": {},
   "outputs": [],
   "source": [
    "# INPUT_FOLDER = r'/data/LUNA-sample/*.mhd'\n",
    "# file_list = glob.glob(INPUT_FOLDER)\n",
    "# print(len(file_list))\n",
    "# file_list.sort()"
   ]
  },
  {
   "cell_type": "code",
   "execution_count": 4,
   "id": "4df53a3f-9b92-47fa-88a2-6eb9a2a0d712",
   "metadata": {},
   "outputs": [
    {
     "name": "stdout",
     "output_type": "stream",
     "text": [
      "9\n"
     ]
    }
   ],
   "source": [
    "INPUT_FOLDER = r'/data/LUNA16_Images_resample2/*/*.nii.gz'\n",
    "file_list = glob.glob(INPUT_FOLDER)\n",
    "print(len(file_list))\n",
    "file_list.sort()"
   ]
  },
  {
   "cell_type": "code",
   "execution_count": 5,
   "id": "34803de0-47dd-44ca-a828-d98f93cc74a4",
   "metadata": {},
   "outputs": [],
   "source": [
    "# INPUT_FOLDER = r'/data/LUNA16_Images/*.mhd'\n",
    "# file_list = glob.glob(INPUT_FOLDER)\n",
    "# print(len(file_list))\n",
    "# file_list.sort()"
   ]
  },
  {
   "cell_type": "code",
   "execution_count": 6,
   "id": "8b8a0480-b90c-4f5a-a4b8-5c1df3c61427",
   "metadata": {
    "scrolled": true
   },
   "outputs": [
    {
     "name": "stdout",
     "output_type": "stream",
     "text": [
      "[1.25     0.703125 0.703125]\n",
      "[1.25     0.703125 0.703125]\n",
      "[1.25     0.703125 0.703125]\n",
      "[1.25     0.703125 0.703125]\n",
      "[1.25     0.703125 0.703125]\n",
      "[1.25     0.703125 0.703125]\n",
      "[1.25     0.703125 0.703125]\n",
      "[1.25     0.703125 0.703125]\n",
      "[1.25     0.703125 0.703125]\n"
     ]
    }
   ],
   "source": [
    "for file in file_list:\n",
    "    img, origin, spacing = load_itk(file)\n",
    "    print(spacing)"
   ]
  },
  {
   "cell_type": "markdown",
   "id": "ba125d85-8ec5-447d-a321-480d3a281af1",
   "metadata": {},
   "source": [
    "the results found, indicate that the preprocessed dataset\n",
    "was used with the current preprocess file!\n",
    "\n",
    "We also found that we need the world coordinates for HC\n",
    "and MSD"
   ]
  },
  {
   "cell_type": "code",
   "execution_count": 7,
   "id": "5d8ac136-9f39-4c87-ae53-e45d72dc36b4",
   "metadata": {},
   "outputs": [
    {
     "name": "stdout",
     "output_type": "stream",
     "text": [
      "534\n",
      "67\n"
     ]
    }
   ],
   "source": [
    "print(len(data['training']))\n",
    "print(len(data['validation']))"
   ]
  },
  {
   "cell_type": "code",
   "execution_count": null,
   "id": "5ba6b4e8-8fe6-4a23-8d06-067997b7168b",
   "metadata": {},
   "outputs": [],
   "source": []
  }
 ],
 "metadata": {
  "kernelspec": {
   "display_name": "Python 3 (ipykernel)",
   "language": "python",
   "name": "python3"
  },
  "language_info": {
   "codemirror_mode": {
    "name": "ipython",
    "version": 3
   },
   "file_extension": ".py",
   "mimetype": "text/x-python",
   "name": "python",
   "nbconvert_exporter": "python",
   "pygments_lexer": "ipython3",
   "version": "3.8.10"
  }
 },
 "nbformat": 4,
 "nbformat_minor": 5
}
