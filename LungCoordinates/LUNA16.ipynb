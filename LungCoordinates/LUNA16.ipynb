{
 "cells": [
  {
   "cell_type": "code",
   "execution_count": 1,
   "id": "857389de-2323-4bfb-be50-3b793c97c8d3",
   "metadata": {},
   "outputs": [],
   "source": [
    "import os\n",
    "import json\n",
    "import glob\n",
    "\n",
    "import sys        \n",
    "sys.path.append('/workspace/masters-object-detection')\n",
    "from utils import load_itk"
   ]
  },
  {
   "cell_type": "code",
   "execution_count": 2,
   "id": "b6e9b338-a748-4d2f-b353-4a8626f03bf1",
   "metadata": {
    "scrolled": true
   },
   "outputs": [],
   "source": [
    "# f = open('/data/LUNA16_datasplit/dataset_fold0.json')\n",
    "# data = json.load(f)\n",
    "\n",
    "# for i in range(0, 5):\n",
    "#     print(data['training'][i]['image'])"
   ]
  },
  {
   "cell_type": "code",
   "execution_count": 3,
   "id": "8ba3c631-b2a4-4a9e-b240-4ae4ad114e91",
   "metadata": {},
   "outputs": [],
   "source": [
    "# INPUT_FOLDER = r'/data/LUNA-sample/*.mhd'\n",
    "# file_list = glob.glob(INPUT_FOLDER)\n",
    "# print(len(file_list))\n",
    "# file_list.sort()"
   ]
  },
  {
   "cell_type": "code",
   "execution_count": 4,
   "id": "4df53a3f-9b92-47fa-88a2-6eb9a2a0d712",
   "metadata": {},
   "outputs": [
    {
     "name": "stdout",
     "output_type": "stream",
     "text": [
      "601\n"
     ]
    }
   ],
   "source": [
    "INPUT_FOLDER = r'/data/LUNA16_Images_resample/*/*.nii.gz'\n",
    "file_list = glob.glob(INPUT_FOLDER)\n",
    "print(len(file_list))\n",
    "file_list.sort()"
   ]
  },
  {
   "cell_type": "code",
   "execution_count": 5,
   "id": "8b8a0480-b90c-4f5a-a4b8-5c1df3c61427",
   "metadata": {
    "scrolled": true
   },
   "outputs": [
    {
     "name": "stdout",
     "output_type": "stream",
     "text": [
      "[1.25     0.703125 0.703125]\n",
      "CPU times: user 1.31 s, sys: 215 ms, total: 1.52 s\n",
      "Wall time: 2.17 s\n"
     ]
    }
   ],
   "source": [
    "%%time\n",
    "for file in file_list[0:1]:\n",
    "    img, origin, spacing = load_itk(file)\n",
    "    print(spacing)"
   ]
  },
  {
   "cell_type": "markdown",
   "id": "ba125d85-8ec5-447d-a321-480d3a281af1",
   "metadata": {},
   "source": [
    "the results found, indicate that the preprocessed dataset\n",
    "was used with the current preprocess file!\n",
    "\n",
    "We also found that we need the world coordinates for HC\n",
    "and MSD"
   ]
  },
  {
   "cell_type": "code",
   "execution_count": null,
   "id": "5d8ac136-9f39-4c87-ae53-e45d72dc36b4",
   "metadata": {},
   "outputs": [],
   "source": []
  }
 ],
 "metadata": {
  "kernelspec": {
   "display_name": "Python 3 (ipykernel)",
   "language": "python",
   "name": "python3"
  },
  "language_info": {
   "codemirror_mode": {
    "name": "ipython",
    "version": 3
   },
   "file_extension": ".py",
   "mimetype": "text/x-python",
   "name": "python",
   "nbconvert_exporter": "python",
   "pygments_lexer": "ipython3",
   "version": "3.8.10"
  }
 },
 "nbformat": 4,
 "nbformat_minor": 5
}
