{
 "cells": [
  {
   "cell_type": "code",
   "execution_count": 1,
   "id": "39221bb2-9327-4cbc-b87e-5867ad4f5ea5",
   "metadata": {},
   "outputs": [],
   "source": [
    "import os\n",
    "import pandas as pd\n",
    "import numpy as np\n",
    "import random\n",
    "from utils import from_np_array\n",
    "import json\n",
    "from monai.data.box_utils import convert_box_mode"
   ]
  },
  {
   "cell_type": "code",
   "execution_count": 2,
   "id": "997cebc2-68d3-4910-8049-a6331f6c3681",
   "metadata": {
    "scrolled": true
   },
   "outputs": [
    {
     "name": "stdout",
     "output_type": "stream",
     "text": [
      "(101, 10)\n"
     ]
    },
    {
     "data": {
      "text/html": [
       "<div>\n",
       "<style scoped>\n",
       "    .dataframe tbody tr th:only-of-type {\n",
       "        vertical-align: middle;\n",
       "    }\n",
       "\n",
       "    .dataframe tbody tr th {\n",
       "        vertical-align: top;\n",
       "    }\n",
       "\n",
       "    .dataframe thead th {\n",
       "        text-align: right;\n",
       "    }\n",
       "</style>\n",
       "<table border=\"1\" class=\"dataframe\">\n",
       "  <thead>\n",
       "    <tr style=\"text-align: right;\">\n",
       "      <th></th>\n",
       "      <th>name</th>\n",
       "      <th>spacing</th>\n",
       "      <th>origin</th>\n",
       "      <th>exam_refined</th>\n",
       "      <th>x_min</th>\n",
       "      <th>y_min</th>\n",
       "      <th>z_min</th>\n",
       "      <th>x_max</th>\n",
       "      <th>y_max</th>\n",
       "      <th>z_max</th>\n",
       "    </tr>\n",
       "  </thead>\n",
       "  <tbody>\n",
       "    <tr>\n",
       "      <th>0</th>\n",
       "      <td>PL032303325116347</td>\n",
       "      <td>[1.25, 0.703125, 0.703125]</td>\n",
       "      <td>[-239.75, 121.796875, 173.59687805]</td>\n",
       "      <td>False</td>\n",
       "      <td>175</td>\n",
       "      <td>171</td>\n",
       "      <td>62</td>\n",
       "      <td>201</td>\n",
       "      <td>200</td>\n",
       "      <td>76</td>\n",
       "    </tr>\n",
       "    <tr>\n",
       "      <th>1</th>\n",
       "      <td>PL061850842690412</td>\n",
       "      <td>[1.25, 0.703125, 0.703125]</td>\n",
       "      <td>[-241.5, 390.02319336, 255.0231781]</td>\n",
       "      <td>False</td>\n",
       "      <td>455</td>\n",
       "      <td>256</td>\n",
       "      <td>227</td>\n",
       "      <td>487</td>\n",
       "      <td>288</td>\n",
       "      <td>240</td>\n",
       "    </tr>\n",
       "    <tr>\n",
       "      <th>2</th>\n",
       "      <td>PL064775189851313</td>\n",
       "      <td>[1.25, 0.703125, 0.703125]</td>\n",
       "      <td>[-13.5, 372.078125, 234.078125]</td>\n",
       "      <td>False</td>\n",
       "      <td>206</td>\n",
       "      <td>231</td>\n",
       "      <td>195</td>\n",
       "      <td>240</td>\n",
       "      <td>260</td>\n",
       "      <td>208</td>\n",
       "    </tr>\n",
       "    <tr>\n",
       "      <th>3</th>\n",
       "      <td>PL070153620449075</td>\n",
       "      <td>[1.25, 0.703125, 0.703125]</td>\n",
       "      <td>[16.5, 369.02319336, 246.0231781]</td>\n",
       "      <td>False</td>\n",
       "      <td>445</td>\n",
       "      <td>330</td>\n",
       "      <td>222</td>\n",
       "      <td>514</td>\n",
       "      <td>388</td>\n",
       "      <td>247</td>\n",
       "    </tr>\n",
       "    <tr>\n",
       "      <th>4</th>\n",
       "      <td>PL075999918976403</td>\n",
       "      <td>[1.25, 0.703125, 0.703125]</td>\n",
       "      <td>[356.99996948, 308.09777832, 218.09777832]</td>\n",
       "      <td>False</td>\n",
       "      <td>359</td>\n",
       "      <td>208</td>\n",
       "      <td>181</td>\n",
       "      <td>419</td>\n",
       "      <td>266</td>\n",
       "      <td>216</td>\n",
       "    </tr>\n",
       "  </tbody>\n",
       "</table>\n",
       "</div>"
      ],
      "text/plain": [
       "                name                     spacing  \\\n",
       "0  PL032303325116347  [1.25, 0.703125, 0.703125]   \n",
       "1  PL061850842690412  [1.25, 0.703125, 0.703125]   \n",
       "2  PL064775189851313  [1.25, 0.703125, 0.703125]   \n",
       "3  PL070153620449075  [1.25, 0.703125, 0.703125]   \n",
       "4  PL075999918976403  [1.25, 0.703125, 0.703125]   \n",
       "\n",
       "                                       origin  exam_refined  x_min  y_min  \\\n",
       "0         [-239.75, 121.796875, 173.59687805]         False    175    171   \n",
       "1         [-241.5, 390.02319336, 255.0231781]         False    455    256   \n",
       "2             [-13.5, 372.078125, 234.078125]         False    206    231   \n",
       "3           [16.5, 369.02319336, 246.0231781]         False    445    330   \n",
       "4  [356.99996948, 308.09777832, 218.09777832]         False    359    208   \n",
       "\n",
       "   z_min  x_max  y_max  z_max  \n",
       "0     62    201    200     76  \n",
       "1    227    487    288    240  \n",
       "2    195    240    260    208  \n",
       "3    222    514    388    247  \n",
       "4    181    419    266    216  "
      ]
     },
     "execution_count": 2,
     "metadata": {},
     "output_type": "execute_result"
    }
   ],
   "source": [
    "content = pd.read_csv(\n",
    "    '/data/output/hc_clean_nodules3.csv',\n",
    "    converters={\n",
    "        'spacing': from_np_array,\n",
    "        'origin': from_np_array\n",
    "    }\n",
    ")\n",
    "print(content.shape)\n",
    "content.head()"
   ]
  },
  {
   "cell_type": "markdown",
   "id": "01ced089-d12e-40ee-a160-7ee9433f4985",
   "metadata": {},
   "source": [
    "### based on bounding box found, finding the center and diameter of the nodules"
   ]
  },
  {
   "cell_type": "markdown",
   "id": "262742d7",
   "metadata": {},
   "source": [
    "### converting voxel to world coordinates\n",
    "### reference: https://github.com/xjmxmt/LUNA16/blob/master/full_prep.py#L286"
   ]
  },
  {
   "cell_type": "code",
   "execution_count": 3,
   "id": "7c8c021b-e603-4eef-80b0-c6aaf1582f2c",
   "metadata": {
    "scrolled": true
   },
   "outputs": [],
   "source": [
    "dataset = []\n",
    "for hc_bb in content.itertuples(index=False):\n",
    "\n",
    "    origin = np.array(list(reversed(hc_bb[2])))\n",
    "    spacing = np.array(list(reversed(hc_bb[1])))\n",
    "\n",
    "    voxel_min = np.array((hc_bb[4], hc_bb[5], hc_bb[6]))\n",
    "    voxel_max = np.array((hc_bb[7], hc_bb[8], hc_bb[9]))\n",
    "\n",
    "    voxel_coord_cent = voxel_min + (np.absolute(voxel_min - voxel_max)/2)\n",
    "    \n",
    "    voxel_coord_diam = voxel_max - voxel_min\n",
    "\n",
    "    voxel_coord_cent[2] = voxel_coord_cent[2] * -1\n",
    "\n",
    "    world_coord_cent = ((voxel_coord_cent * spacing) - origin ) * -1\n",
    "    world_coord_diam = voxel_coord_diam * spacing\n",
    "    \n",
    "    dataset.append({\n",
    "        \"box\": [[\n",
    "                world_coord_cent[0],\n",
    "                world_coord_cent[1],\n",
    "                world_coord_cent[2],\n",
    "                world_coord_diam[0],\n",
    "                world_coord_diam[1],\n",
    "                world_coord_diam[2]\n",
    "            ]],\n",
    "            \"image\": hc_bb[0] + '/' + hc_bb[0] + '.nii.gz',\n",
    "            \"label\": [0]\n",
    "    })"
   ]
  },
  {
   "cell_type": "markdown",
   "id": "728a8e7d-ca17-414a-a000-43f1c56017cb",
   "metadata": {},
   "source": [
    "### data split "
   ]
  },
  {
   "cell_type": "code",
   "execution_count": 4,
   "id": "c29b3bc6-a582-4062-bfb8-10e1a0aae495",
   "metadata": {},
   "outputs": [
    {
     "name": "stdout",
     "output_type": "stream",
     "text": [
      "total: 101\n",
      "train/val: 80 test: 21\n",
      "train: 64 val: 16\n"
     ]
    }
   ],
   "source": [
    "random.shuffle(dataset)\n",
    "print('total: ' + str(len(dataset)))\n",
    "test_split_constant = 0.8\n",
    "test_size = len(dataset) - int(len(dataset)*test_split_constant)\n",
    "first_train_files, test_files = dataset[:-test_size], dataset[-test_size:]\n",
    "print('train/val: ' + str(len(first_train_files)) + ' test: ' + str(len(test_files)))\n",
    "\n",
    "save_file = open('/data/output/multi_data/hc_test.json', 'w')\n",
    "value = { \"test\": test_files }\n",
    "json.dump(value, save_file, indent=5)\n",
    "save_file.close()\n",
    "\n",
    "for fold_index in range(0, 10):\n",
    "    dataset = first_train_files.copy()\n",
    "    random.shuffle(dataset)\n",
    "\n",
    "    val_split_constant = 0.8\n",
    "    val_size = len(dataset) - int(len(dataset)*val_split_constant)\n",
    "    train_files, val_files = dataset[:-val_size], dataset[-val_size:]\n",
    "\n",
    "    if fold_index == 0:\n",
    "        print('train: ' + str(len(train_files)) + ' val: ' + str(len(val_files)))\n",
    "\n",
    "    save_file = open(\n",
    "        '/data/output/multi_data/hc_train_val' + str(fold_index) + '.json',\n",
    "        'w'\n",
    "    )\n",
    "    value = {\n",
    "        \"training\": train_files,\n",
    "        \"validation\": val_files\n",
    "    }\n",
    "    json.dump(value, save_file, indent=5)\n",
    "    save_file.close()"
   ]
  },
  {
   "cell_type": "code",
   "execution_count": null,
   "id": "7b4ead9b-a390-4c7a-a131-0399aa549b8c",
   "metadata": {},
   "outputs": [],
   "source": []
  }
 ],
 "metadata": {
  "kernelspec": {
   "display_name": "Python 3 (ipykernel)",
   "language": "python",
   "name": "python3"
  },
  "language_info": {
   "codemirror_mode": {
    "name": "ipython",
    "version": 3
   },
   "file_extension": ".py",
   "mimetype": "text/x-python",
   "name": "python",
   "nbconvert_exporter": "python",
   "pygments_lexer": "ipython3",
   "version": "3.8.10"
  }
 },
 "nbformat": 4,
 "nbformat_minor": 5
}
