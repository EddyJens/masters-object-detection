{
 "cells": [
  {
   "cell_type": "code",
   "execution_count": 11,
   "id": "0632bbaf-bb15-4d53-a02d-493eea56a0ba",
   "metadata": {},
   "outputs": [],
   "source": [
    "import json\n",
    "import numpy as np"
   ]
  },
  {
   "cell_type": "code",
   "execution_count": 5,
   "id": "490f2265-bb15-4c31-b605-c8a8f196de7c",
   "metadata": {},
   "outputs": [],
   "source": [
    "f = open('/data/output/hc_train_val2.json') \n",
    "hc = json.load(f)\n",
    "f = open('/data/output/msd_train_val2.json') \n",
    "msd = json.load(f)\n",
    "f = open('/data/output/msd_train_val2.json') \n",
    "luna = json.load(f)"
   ]
  },
  {
   "cell_type": "markdown",
   "id": "1633de4c-8411-44c8-a2ad-972aa201cabb",
   "metadata": {},
   "source": [
    "### training"
   ]
  },
  {
   "cell_type": "code",
   "execution_count": 6,
   "id": "58dc7050-07b5-43e0-b588-be05437bba3a",
   "metadata": {},
   "outputs": [
    {
     "name": "stdout",
     "output_type": "stream",
     "text": [
      "training\n",
      "validation\n"
     ]
    }
   ],
   "source": [
    "merged = []\n",
    "for h in hc['training']:\n",
    "    print(h)\n",
    "\n",
    "for m in msd['training']:\n",
    "    print(m)\n",
    "\n",
    "for l in luna['training']:\n",
    "    print(l)"
   ]
  },
  {
   "cell_type": "markdown",
   "id": "b3bbad8e-1f82-4dfd-a63d-0ed1ff557fd8",
   "metadata": {},
   "source": [
    "### validation"
   ]
  },
  {
   "cell_type": "code",
   "execution_count": null,
   "id": "a7470f1e-43e5-4cd1-a4a7-63d19e70cc38",
   "metadata": {},
   "outputs": [],
   "source": [
    "for h in hc['validation']:\n",
    "    print(h)"
   ]
  },
  {
   "cell_type": "markdown",
   "id": "72d72fa8-91d1-4d0f-bded-c9a14cafa1f9",
   "metadata": {},
   "source": [
    "### test"
   ]
  },
  {
   "cell_type": "code",
   "execution_count": null,
   "id": "acd74a42-0e72-4193-b729-09161420bd01",
   "metadata": {},
   "outputs": [],
   "source": [
    "f = open('/data/output/hc_test2.json')\n",
    "hc = json.load(f)"
   ]
  },
  {
   "cell_type": "code",
   "execution_count": null,
   "id": "c6942d78-7c6f-4dcb-8300-793531b9a8c8",
   "metadata": {},
   "outputs": [],
   "source": [
    "for h in hc['test']:\n",
    "    print(h)"
   ]
  },
  {
   "cell_type": "code",
   "execution_count": 12,
   "id": "ffd3fc2c-6703-42c2-b593-01d962b09210",
   "metadata": {},
   "outputs": [],
   "source": [
    "a = np.array([[163.4,  334.8,   95.06, 172.5,  344,   100.2 ],\n",
    " [167.5, 273.5,   80.7,  176.5,  282.5,   85.8 ],\n",
    " [147.8,  281.5,   73.56, 157.6,  291.2,   79.06],\n",
    " [222.2,  205.2,   34.6,  245,   228,    47.38]])"
   ]
  },
  {
   "cell_type": "code",
   "execution_count": 13,
   "id": "645a5c9b-0898-4ffa-9eb2-a0b5a0f343ee",
   "metadata": {},
   "outputs": [
    {
     "data": {
      "text/plain": [
       "array([163.4 , 334.8 ,  95.06, 172.5 , 344.  , 100.2 ])"
      ]
     },
     "execution_count": 13,
     "metadata": {},
     "output_type": "execute_result"
    }
   ],
   "source": [
    "a[0,:]"
   ]
  },
  {
   "cell_type": "code",
   "execution_count": null,
   "id": "779376b8-8dc6-44f5-a58d-155848c023d3",
   "metadata": {},
   "outputs": [],
   "source": [
    "voxel coordinate of expected: [163, 335, 95, 172, 344, 100]\n",
    "the predicted box: [158, 169, 98, 174, 193, 108]\n",
    "the predicted box: [421, 307, 94, 428, 317, 99]"
   ]
  },
  {
   "cell_type": "code",
   "execution_count": null,
   "id": "2d29212b-390e-4732-bdf6-30d8a5586422",
   "metadata": {},
   "outputs": [],
   "source": []
  }
 ],
 "metadata": {
  "kernelspec": {
   "display_name": "Python 3 (ipykernel)",
   "language": "python",
   "name": "python3"
  },
  "language_info": {
   "codemirror_mode": {
    "name": "ipython",
    "version": 3
   },
   "file_extension": ".py",
   "mimetype": "text/x-python",
   "name": "python",
   "nbconvert_exporter": "python",
   "pygments_lexer": "ipython3",
   "version": "3.8.10"
  }
 },
 "nbformat": 4,
 "nbformat_minor": 5
}
