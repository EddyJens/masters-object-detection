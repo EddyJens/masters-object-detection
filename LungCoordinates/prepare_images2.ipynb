{
 "cells": [
  {
   "cell_type": "code",
   "execution_count": 1,
   "id": "1c340d7d-e8a3-4d40-8e08-def5d9760acf",
   "metadata": {},
   "outputs": [],
   "source": [
    "import monai\n",
    "import torch\n",
    "from monai.data import DataLoader, Dataset, load_decathlon_datalist\n",
    "from monai.data.utils import no_collation\n",
    "from monai.transforms import (\n",
    "    Compose,\n",
    "    EnsureChannelFirstd,\n",
    "    EnsureTyped,\n",
    "    LoadImaged,\n",
    "    Orientationd,\n",
    "    SaveImaged,\n",
    "    Spacingd,\n",
    ")"
   ]
  },
  {
   "cell_type": "code",
   "execution_count": 2,
   "id": "c5ed7c0a-a35a-4c54-afe0-68e3c262fcfc",
   "metadata": {},
   "outputs": [
    {
     "name": "stdout",
     "output_type": "stream",
     "text": [
      "MONAI version: 1.2.0\n",
      "Numpy version: 1.24.4\n",
      "Pytorch version: 2.0.1+cu118\n",
      "MONAI flags: HAS_EXT = False, USE_COMPILED = False, USE_META_DICT = False\n",
      "MONAI rev id: c33f1ba588ee00229a309000e888f9817b4f1934\n",
      "MONAI __file__: /usr/local/lib/python3.8/dist-packages/monai/__init__.py\n",
      "\n",
      "Optional dependencies:\n",
      "Pytorch Ignite version: NOT INSTALLED or UNKNOWN VERSION.\n",
      "ITK version: 5.3.0\n",
      "Nibabel version: 5.1.0\n",
      "scikit-image version: 0.21.0\n",
      "Pillow version: 10.0.0\n",
      "Tensorboard version: 2.14.0\n",
      "gdown version: NOT INSTALLED or UNKNOWN VERSION.\n",
      "TorchVision version: 0.15.2+cu118\n",
      "tqdm version: 4.66.1\n",
      "lmdb version: NOT INSTALLED or UNKNOWN VERSION.\n",
      "psutil version: 5.9.5\n",
      "pandas version: 2.0.3\n",
      "einops version: NOT INSTALLED or UNKNOWN VERSION.\n",
      "transformers version: NOT INSTALLED or UNKNOWN VERSION.\n",
      "mlflow version: 2.6.0\n",
      "pynrrd version: 1.0.0\n",
      "\n",
      "For details about installing the optional dependencies, please visit:\n",
      "    https://docs.monai.io/en/latest/installation.html#installing-the-recommended-dependencies\n",
      "\n"
     ]
    }
   ],
   "source": [
    "monai.config.print_config()"
   ]
  },
  {
   "cell_type": "code",
   "execution_count": 3,
   "id": "a1736cc8-592e-4516-bd9b-22571c0d66b6",
   "metadata": {},
   "outputs": [],
   "source": [
    "spacing = [0.703125, 0.703125, 1.25]\n",
    "# data_base_dir = '/data/HC_Images_resample/'\n",
    "data_base_dir = '/data/MSD_Images_resample/'\n",
    "# data_base_dir = '/data/MSD_Masks_resample/'\n",
    "# data_base_dir = '/data/LUNA16_Images_resample2/'\n",
    "# data_list_file_path = '/data/output/hc_train_val2.json'\n",
    "# data_list_file_path = '/data/output/hc_test2.json'\n",
    "data_list_file_path = '/data/output/msd_train_val2.json'\n",
    "# data_list_file_path = '/data/output/msd_test2.json'\n",
    "# data_list_file_path = '/data/output/msd_test2.json'\n",
    "# data_list_file_path = '/data/output/LUNA16_datasplit/mhd_original/dataset_fold0.json'\n",
    "# orig_data_base_dir = '/data/HC/'\n",
    "orig_data_base_dir = '/data/MSD-exams/'\n",
    "# orig_data_base_dir = '/data/MSD-masks/'\n",
    "# orig_data_base_dir = '/data/LUNA16_Images/'"
   ]
  },
  {
   "cell_type": "code",
   "execution_count": 4,
   "id": "c0f070c5-ad24-44da-ba30-3a2f40570ac7",
   "metadata": {},
   "outputs": [
    {
     "name": "stderr",
     "output_type": "stream",
     "text": [
      "monai.transforms.io.dictionary LoadImaged.__init__:image_only: Current default value of argument `image_only=False` has been deprecated since version 1.1. It will be changed to `image_only=True` in version 1.3.\n"
     ]
    }
   ],
   "source": [
    "process_transforms = Compose(\n",
    "    [\n",
    "        LoadImaged(\n",
    "            keys=[\"image\"],\n",
    "            meta_key_postfix=\"meta_dict\",\n",
    "            reader=\"itkreader\",\n",
    "            affine_lps_to_ras=True,\n",
    "        ),\n",
    "        EnsureChannelFirstd(keys=[\"image\"]),\n",
    "        EnsureTyped(keys=[\"image\"], dtype=torch.float16),\n",
    "        Orientationd(keys=[\"image\"], axcodes=\"RAS\"),\n",
    "        Spacingd(keys=[\"image\"], pixdim=spacing, padding_mode=\"border\"),\n",
    "    ]\n",
    ")"
   ]
  },
  {
   "cell_type": "code",
   "execution_count": 5,
   "id": "a39fcbf3-2432-44be-ae13-9138429d6354",
   "metadata": {},
   "outputs": [],
   "source": [
    "post_transforms = Compose(\n",
    "    [\n",
    "        SaveImaged(\n",
    "            keys=\"image\",\n",
    "            meta_keys=\"image_meta_dict\",\n",
    "            output_dir=data_base_dir,\n",
    "            output_postfix=\"\",\n",
    "            resample=False,\n",
    "        ),\n",
    "    ]\n",
    ")"
   ]
  },
  {
   "cell_type": "code",
   "execution_count": 6,
   "id": "5f6552ed-00b3-47d6-a407-9d0215a1f0b9",
   "metadata": {
    "scrolled": true
   },
   "outputs": [
    {
     "name": "stdout",
     "output_type": "stream",
     "text": [
      "----------\n",
      "2023-09-08 23:40:37,893 INFO image_writer.py:197 - writing: /data/MSD_Images_resample/lung_001/lung_001.nii.gz\n",
      "2023-09-08 23:41:02,527 INFO image_writer.py:197 - writing: /data/MSD_Images_resample/lung_041/lung_041.nii.gz\n",
      "2023-09-08 23:41:33,168 INFO image_writer.py:197 - writing: /data/MSD_Images_resample/lung_048/lung_048.nii.gz\n",
      "2023-09-08 23:41:59,883 INFO image_writer.py:197 - writing: /data/MSD_Images_resample/lung_078/lung_078.nii.gz\n",
      "2023-09-08 23:42:16,728 INFO image_writer.py:197 - writing: /data/MSD_Images_resample/lung_037/lung_037.nii.gz\n",
      "2023-09-08 23:42:47,897 INFO image_writer.py:197 - writing: /data/MSD_Images_resample/lung_014/lung_014.nii.gz\n",
      "2023-09-08 23:43:17,861 INFO image_writer.py:197 - writing: /data/MSD_Images_resample/lung_066/lung_066.nii.gz\n",
      "2023-09-08 23:43:52,436 INFO image_writer.py:197 - writing: /data/MSD_Images_resample/lung_031/lung_031.nii.gz\n",
      "2023-09-08 23:44:40,108 INFO image_writer.py:197 - writing: /data/MSD_Images_resample/lung_047/lung_047.nii.gz\n",
      "2023-09-08 23:45:27,734 INFO image_writer.py:197 - writing: /data/MSD_Images_resample/lung_049/lung_049.nii.gz\n",
      "2023-09-08 23:45:47,495 INFO image_writer.py:197 - writing: /data/MSD_Images_resample/lung_061/lung_061.nii.gz\n",
      "2023-09-08 23:46:18,798 INFO image_writer.py:197 - writing: /data/MSD_Images_resample/lung_044/lung_044.nii.gz\n",
      "2023-09-08 23:46:50,908 INFO image_writer.py:197 - writing: /data/MSD_Images_resample/lung_065/lung_065.nii.gz\n",
      "2023-09-08 23:47:17,515 INFO image_writer.py:197 - writing: /data/MSD_Images_resample/lung_029/lung_029.nii.gz\n",
      "2023-09-08 23:47:45,297 INFO image_writer.py:197 - writing: /data/MSD_Images_resample/lung_038/lung_038.nii.gz\n",
      "2023-09-08 23:48:09,344 INFO image_writer.py:197 - writing: /data/MSD_Images_resample/lung_084/lung_084.nii.gz\n",
      "2023-09-08 23:48:34,260 INFO image_writer.py:197 - writing: /data/MSD_Images_resample/lung_046/lung_046.nii.gz\n",
      "2023-09-08 23:49:01,346 INFO image_writer.py:197 - writing: /data/MSD_Images_resample/lung_005/lung_005.nii.gz\n",
      "2023-09-08 23:49:26,005 INFO image_writer.py:197 - writing: /data/MSD_Images_resample/lung_062/lung_062.nii.gz\n",
      "2023-09-08 23:50:00,304 INFO image_writer.py:197 - writing: /data/MSD_Images_resample/lung_003/lung_003.nii.gz\n",
      "2023-09-08 23:50:40,075 INFO image_writer.py:197 - writing: /data/MSD_Images_resample/lung_080/lung_080.nii.gz\n",
      "2023-09-08 23:51:02,600 INFO image_writer.py:197 - writing: /data/MSD_Images_resample/lung_015/lung_015.nii.gz\n",
      "2023-09-08 23:51:32,873 INFO image_writer.py:197 - writing: /data/MSD_Images_resample/lung_058/lung_058.nii.gz\n",
      "2023-09-08 23:52:03,334 INFO image_writer.py:197 - writing: /data/MSD_Images_resample/lung_081/lung_081.nii.gz\n",
      "2023-09-08 23:52:34,574 INFO image_writer.py:197 - writing: /data/MSD_Images_resample/lung_059/lung_059.nii.gz\n",
      "2023-09-08 23:53:05,652 INFO image_writer.py:197 - writing: /data/MSD_Images_resample/lung_025/lung_025.nii.gz\n",
      "2023-09-08 23:53:36,704 INFO image_writer.py:197 - writing: /data/MSD_Images_resample/lung_070/lung_070.nii.gz\n",
      "2023-09-08 23:54:03,846 INFO image_writer.py:197 - writing: /data/MSD_Images_resample/lung_095/lung_095.nii.gz\n",
      "2023-09-08 23:54:41,057 INFO image_writer.py:197 - writing: /data/MSD_Images_resample/lung_004/lung_004.nii.gz\n",
      "2023-09-08 23:55:20,767 INFO image_writer.py:197 - writing: /data/MSD_Images_resample/lung_009/lung_009.nii.gz\n",
      "2023-09-08 23:55:54,079 INFO image_writer.py:197 - writing: /data/MSD_Images_resample/lung_026/lung_026.nii.gz\n",
      "2023-09-08 23:56:22,522 INFO image_writer.py:197 - writing: /data/MSD_Images_resample/lung_079/lung_079.nii.gz\n",
      "2023-09-08 23:57:00,024 INFO image_writer.py:197 - writing: /data/MSD_Images_resample/lung_074/lung_074.nii.gz\n",
      "2023-09-08 23:57:23,898 INFO image_writer.py:197 - writing: /data/MSD_Images_resample/lung_033/lung_033.nii.gz\n",
      "2023-09-08 23:57:55,893 INFO image_writer.py:197 - writing: /data/MSD_Images_resample/lung_028/lung_028.nii.gz\n",
      "2023-09-08 23:58:27,755 INFO image_writer.py:197 - writing: /data/MSD_Images_resample/lung_064/lung_064.nii.gz\n",
      "2023-09-08 23:58:57,900 INFO image_writer.py:197 - writing: /data/MSD_Images_resample/lung_073/lung_073.nii.gz\n",
      "2023-09-08 23:59:22,557 INFO image_writer.py:197 - writing: /data/MSD_Images_resample/lung_010/lung_010.nii.gz\n",
      "2023-09-08 23:59:46,806 INFO image_writer.py:197 - writing: /data/MSD_Images_resample/lung_036/lung_036.nii.gz\n",
      "2023-09-09 00:00:23,711 INFO image_writer.py:197 - writing: /data/MSD_Images_resample/lung_075/lung_075.nii.gz\n",
      "----------\n",
      "2023-09-09 00:01:02,896 INFO image_writer.py:197 - writing: /data/MSD_Images_resample/lung_071/lung_071.nii.gz\n",
      "2023-09-09 00:01:36,235 INFO image_writer.py:197 - writing: /data/MSD_Images_resample/lung_023/lung_023.nii.gz\n",
      "2023-09-09 00:02:06,624 INFO image_writer.py:197 - writing: /data/MSD_Images_resample/lung_054/lung_054.nii.gz\n",
      "2023-09-09 00:02:33,977 INFO image_writer.py:197 - writing: /data/MSD_Images_resample/lung_020/lung_020.nii.gz\n",
      "2023-09-09 00:03:02,696 INFO image_writer.py:197 - writing: /data/MSD_Images_resample/lung_092/lung_092.nii.gz\n",
      "2023-09-09 00:03:36,624 INFO image_writer.py:197 - writing: /data/MSD_Images_resample/lung_051/lung_051.nii.gz\n",
      "2023-09-09 00:04:08,384 INFO image_writer.py:197 - writing: /data/MSD_Images_resample/lung_045/lung_045.nii.gz\n",
      "2023-09-09 00:04:45,931 INFO image_writer.py:197 - writing: /data/MSD_Images_resample/lung_034/lung_034.nii.gz\n",
      "2023-09-09 00:05:23,743 INFO image_writer.py:197 - writing: /data/MSD_Images_resample/lung_027/lung_027.nii.gz\n",
      "2023-09-09 00:05:58,276 INFO image_writer.py:197 - writing: /data/MSD_Images_resample/lung_053/lung_053.nii.gz\n"
     ]
    }
   ],
   "source": [
    "for data_list_key in [\"training\", \"validation\"]:\n",
    "# for data_list_key in [\"test\"]:\n",
    "    # create a data loader\n",
    "    process_data = load_decathlon_datalist(\n",
    "        data_list_file_path,\n",
    "        is_segmentation=True,\n",
    "        data_list_key=data_list_key,\n",
    "        base_dir=orig_data_base_dir,\n",
    "    )\n",
    "    process_ds = Dataset(\n",
    "        data=process_data,\n",
    "        transform=process_transforms,\n",
    "    )\n",
    "    process_loader = DataLoader(\n",
    "        process_ds,\n",
    "        batch_size=1,\n",
    "        shuffle=False,\n",
    "        pin_memory=False,\n",
    "        collate_fn=no_collation,\n",
    "    )\n",
    "\n",
    "    print(\"-\" * 10)\n",
    "    for batch_data in process_loader:\n",
    "        for batch_data_i in batch_data:\n",
    "            batch_data_i = post_transforms(batch_data_i)"
   ]
  },
  {
   "cell_type": "code",
   "execution_count": null,
   "id": "d8753aee-f4d4-44c7-a4af-971a12eb9ecd",
   "metadata": {},
   "outputs": [],
   "source": []
  }
 ],
 "metadata": {
  "kernelspec": {
   "display_name": "Python 3 (ipykernel)",
   "language": "python",
   "name": "python3"
  },
  "language_info": {
   "codemirror_mode": {
    "name": "ipython",
    "version": 3
   },
   "file_extension": ".py",
   "mimetype": "text/x-python",
   "name": "python",
   "nbconvert_exporter": "python",
   "pygments_lexer": "ipython3",
   "version": "3.8.10"
  }
 },
 "nbformat": 4,
 "nbformat_minor": 5
}
