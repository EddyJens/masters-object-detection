{
 "cells": [
  {
   "cell_type": "code",
   "execution_count": 1,
   "id": "1c340d7d-e8a3-4d40-8e08-def5d9760acf",
   "metadata": {},
   "outputs": [],
   "source": [
    "import monai\n",
    "import torch\n",
    "import glob\n",
    "import shutil\n",
    "import os\n",
    "from tqdm import tqdm\n",
    "from monai.data import DataLoader, Dataset, load_decathlon_datalist\n",
    "from monai.data.utils import no_collation\n",
    "from monai.transforms import (\n",
    "    Compose,\n",
    "    EnsureChannelFirstd,\n",
    "    EnsureTyped,\n",
    "    LoadImaged,\n",
    "    Orientationd,\n",
    "    SaveImaged,\n",
    "    Spacingd,\n",
    ")"
   ]
  },
  {
   "cell_type": "code",
   "execution_count": 2,
   "id": "c5ed7c0a-a35a-4c54-afe0-68e3c262fcfc",
   "metadata": {},
   "outputs": [
    {
     "name": "stdout",
     "output_type": "stream",
     "text": [
      "MONAI version: 1.2.0\n",
      "Numpy version: 1.24.4\n",
      "Pytorch version: 2.0.1+cu118\n",
      "MONAI flags: HAS_EXT = False, USE_COMPILED = False, USE_META_DICT = False\n",
      "MONAI rev id: c33f1ba588ee00229a309000e888f9817b4f1934\n",
      "MONAI __file__: /usr/local/lib/python3.8/dist-packages/monai/__init__.py\n",
      "\n",
      "Optional dependencies:\n",
      "Pytorch Ignite version: NOT INSTALLED or UNKNOWN VERSION.\n",
      "ITK version: 5.3.0\n",
      "Nibabel version: 5.1.0\n",
      "scikit-image version: 0.21.0\n",
      "Pillow version: 10.0.0\n",
      "Tensorboard version: 2.14.0\n",
      "gdown version: NOT INSTALLED or UNKNOWN VERSION.\n",
      "TorchVision version: 0.15.2+cu118\n",
      "tqdm version: 4.66.1\n",
      "lmdb version: NOT INSTALLED or UNKNOWN VERSION.\n",
      "psutil version: 5.9.5\n",
      "pandas version: 2.0.3\n",
      "einops version: NOT INSTALLED or UNKNOWN VERSION.\n",
      "transformers version: NOT INSTALLED or UNKNOWN VERSION.\n",
      "mlflow version: 2.6.0\n",
      "pynrrd version: 1.0.0\n",
      "\n",
      "For details about installing the optional dependencies, please visit:\n",
      "    https://docs.monai.io/en/latest/installation.html#installing-the-recommended-dependencies\n",
      "\n"
     ]
    }
   ],
   "source": [
    "monai.config.print_config()"
   ]
  },
  {
   "cell_type": "markdown",
   "id": "01671ab7-7194-4ba1-8a50-b8af39bd5d31",
   "metadata": {
    "jp-MarkdownHeadingCollapsed": true
   },
   "source": [
    "### spliting HC exams and masks"
   ]
  },
  {
   "cell_type": "code",
   "execution_count": 3,
   "id": "c40456bd-729c-41db-8c94-80dd3e5c1f26",
   "metadata": {},
   "outputs": [],
   "source": [
    "# MASK_PATH = r'/data/HC/*/*-label.nrrd'\n",
    "# mask_list = glob.glob(MASK_PATH)\n",
    "# print(len(mask_list))\n",
    "# print(mask_list[0])\n",
    "\n",
    "# ### creating copies\n",
    "# dest_dir = '/data/HC-masks/'\n",
    "# for i in tqdm(range(len(mask_list))):\n",
    "#     src_file = mask_list[i]\n",
    "#     shutil.copy(src_file, dest_dir)\n",
    "\n",
    "#     dst_file = os.path.join(dest_dir, mask_list[i].split('/')[4])\n",
    "#     new_dst_file_name = os.path.join(\n",
    "#         dest_dir,\n",
    "#         mask_list[i].split('/')[3] + '.nrrd'\n",
    "#     )\n",
    "#     os.rename(dst_file, new_dst_file_name)"
   ]
  },
  {
   "cell_type": "code",
   "execution_count": 4,
   "id": "0548986c-f5f6-422f-bbb1-8917178c9363",
   "metadata": {},
   "outputs": [],
   "source": [
    "# EXAM_PATH = r'/data/HC/*/303*.nrrd'\n",
    "# exam_list = glob.glob(EXAM_PATH)\n",
    "# print(len(exam_list))\n",
    "# print(exam_list[0])\n",
    "\n",
    "# ### creating copies\n",
    "# dest_dir = '/data/HC-exams/'\n",
    "# for i in tqdm(range(len(exam_list))):\n",
    "#     src_file = exam_list[i]\n",
    "#     shutil.copy(src_file, dest_dir)\n",
    "\n",
    "#     dst_file = os.path.join(dest_dir, exam_list[i].split('/')[4])\n",
    "#     new_dst_file_name = os.path.join(\n",
    "#         dest_dir,\n",
    "#         exam_list[i].split('/')[3] + '.nrrd'\n",
    "#     )\n",
    "#     os.rename(dst_file, new_dst_file_name)"
   ]
  },
  {
   "cell_type": "markdown",
   "id": "7be7f9e4-aa1c-4575-83aa-b58b4be58d3b",
   "metadata": {},
   "source": [
    "### perform conversion"
   ]
  },
  {
   "cell_type": "code",
   "execution_count": 5,
   "id": "a1736cc8-592e-4516-bd9b-22571c0d66b6",
   "metadata": {},
   "outputs": [],
   "source": [
    "spacing = [0.703125, 0.703125, 1.25]\n",
    "data_base_dir = '/data/HC_Images_resample/'\n",
    "# data_base_dir = '/data/HC_Masks_resample/'\n",
    "# data_base_dir = '/data/MSD_Images_resample/'\n",
    "# data_base_dir = '/data/MSD_Masks_resample/'\n",
    "# data_base_dir = '/data/LUNA16_Images_resample2/'\n",
    "data_list_file_path = '/data/output/hc_train_val3.json'\n",
    "# data_list_file_path = '/data/output/hc_test3.json'\n",
    "# data_list_file_path = '/data/output/msd_train_val2.json'\n",
    "# data_list_file_path = '/data/output/msd_test2.json'\n",
    "# data_list_file_path = '/data/output/LUNA16_datasplit/mhd_original/dataset_fold0.json'\n",
    "orig_data_base_dir = '/data/HC-exams/'\n",
    "# orig_data_base_dir = '/data/HC-masks/'\n",
    "# orig_data_base_dir = '/data/MSD-exams/'\n",
    "# orig_data_base_dir = '/data/MSD-masks/'\n",
    "# orig_data_base_dir = '/data/LUNA16_Images/'"
   ]
  },
  {
   "cell_type": "code",
   "execution_count": 6,
   "id": "c0f070c5-ad24-44da-ba30-3a2f40570ac7",
   "metadata": {},
   "outputs": [
    {
     "name": "stderr",
     "output_type": "stream",
     "text": [
      "monai.transforms.io.dictionary LoadImaged.__init__:image_only: Current default value of argument `image_only=False` has been deprecated since version 1.1. It will be changed to `image_only=True` in version 1.3.\n"
     ]
    }
   ],
   "source": [
    "process_transforms = Compose(\n",
    "    [\n",
    "        LoadImaged(\n",
    "            keys=[\"image\"],\n",
    "            meta_key_postfix=\"meta_dict\",\n",
    "            reader=\"itkreader\",\n",
    "            affine_lps_to_ras=True,\n",
    "        ),\n",
    "        EnsureChannelFirstd(keys=[\"image\"]),\n",
    "        EnsureTyped(keys=[\"image\"], dtype=torch.float16),\n",
    "        Orientationd(keys=[\"image\"], axcodes=\"RAS\"),\n",
    "        Spacingd(keys=[\"image\"], pixdim=spacing, padding_mode=\"border\"),\n",
    "    ]\n",
    ")"
   ]
  },
  {
   "cell_type": "code",
   "execution_count": 7,
   "id": "a39fcbf3-2432-44be-ae13-9138429d6354",
   "metadata": {},
   "outputs": [],
   "source": [
    "post_transforms = Compose(\n",
    "    [\n",
    "        SaveImaged(\n",
    "            keys=\"image\",\n",
    "            meta_keys=\"image_meta_dict\",\n",
    "            output_dir=data_base_dir,\n",
    "            output_postfix=\"\",\n",
    "            resample=False,\n",
    "        ),\n",
    "    ]\n",
    ")"
   ]
  },
  {
   "cell_type": "code",
   "execution_count": 8,
   "id": "5f6552ed-00b3-47d6-a407-9d0215a1f0b9",
   "metadata": {
    "scrolled": true
   },
   "outputs": [
    {
     "name": "stdout",
     "output_type": "stream",
     "text": [
      "----------\n",
      "2023-09-16 15:12:41,418 INFO image_writer.py:197 - writing: /data/HC_Images_resample/PL606729492858408/PL606729492858408.nii.gz\n",
      "2023-09-16 15:13:13,069 INFO image_writer.py:197 - writing: /data/HC_Images_resample/PL278029848115415/PL278029848115415.nii.gz\n",
      "2023-09-16 15:13:41,902 INFO image_writer.py:197 - writing: /data/HC_Images_resample/PL926008951016659/PL926008951016659.nii.gz\n",
      "2023-09-16 15:14:18,728 INFO image_writer.py:197 - writing: /data/HC_Images_resample/PL259838368407140/PL259838368407140.nii.gz\n",
      "2023-09-16 15:15:03,566 INFO image_writer.py:197 - writing: /data/HC_Images_resample/PL883384319849708/PL883384319849708.nii.gz\n",
      "2023-09-16 15:15:45,248 INFO image_writer.py:197 - writing: /data/HC_Images_resample/PL824109098946531/PL824109098946531.nii.gz\n",
      "2023-09-16 15:16:23,318 INFO image_writer.py:197 - writing: /data/HC_Images_resample/PL421132963270314/PL421132963270314.nii.gz\n",
      "2023-09-16 15:17:01,877 INFO image_writer.py:197 - writing: /data/HC_Images_resample/PL210874587126061/PL210874587126061.nii.gz\n",
      "2023-09-16 15:17:44,364 INFO image_writer.py:197 - writing: /data/HC_Images_resample/PL107909012459665/PL107909012459665.nii.gz\n",
      "2023-09-16 15:18:12,015 INFO image_writer.py:197 - writing: /data/HC_Images_resample/PL223569481163904/PL223569481163904.nii.gz\n",
      "2023-09-16 15:18:45,450 INFO image_writer.py:197 - writing: /data/HC_Images_resample/PL217160176826976/PL217160176826976.nii.gz\n",
      "2023-09-16 15:19:25,951 INFO image_writer.py:197 - writing: /data/HC_Images_resample/PL155113087338785/PL155113087338785.nii.gz\n",
      "2023-09-16 15:19:55,017 INFO image_writer.py:197 - writing: /data/HC_Images_resample/PL190114204934163/PL190114204934163.nii.gz\n",
      "2023-09-16 15:20:13,008 INFO image_writer.py:197 - writing: /data/HC_Images_resample/PL370380860092461/PL370380860092461.nii.gz\n",
      "2023-09-16 15:20:49,496 INFO image_writer.py:197 - writing: /data/HC_Images_resample/PL206802585657179/PL206802585657179.nii.gz\n",
      "2023-09-16 15:21:30,374 INFO image_writer.py:197 - writing: /data/HC_Images_resample/PL193315128274536/PL193315128274536.nii.gz\n",
      "2023-09-16 15:22:02,505 INFO image_writer.py:197 - writing: /data/HC_Images_resample/PL316898027619487/PL316898027619487.nii.gz\n",
      "2023-09-16 15:22:29,423 INFO image_writer.py:197 - writing: /data/HC_Images_resample/PL902130424325924/PL902130424325924.nii.gz\n",
      "2023-09-16 15:22:58,991 INFO image_writer.py:197 - writing: /data/HC_Images_resample/PL652474346066949/PL652474346066949.nii.gz\n",
      "2023-09-16 15:23:30,367 INFO image_writer.py:197 - writing: /data/HC_Images_resample/PL969252002286674/PL969252002286674.nii.gz\n",
      "2023-09-16 15:24:05,994 INFO image_writer.py:197 - writing: /data/HC_Images_resample/PL541928041538951/PL541928041538951.nii.gz\n",
      "2023-09-16 15:24:49,967 INFO image_writer.py:197 - writing: /data/HC_Images_resample/PL893862074631541/PL893862074631541.nii.gz\n",
      "2023-09-16 15:25:32,146 INFO image_writer.py:197 - writing: /data/HC_Images_resample/PL140377731469643/PL140377731469643.nii.gz\n",
      "2023-09-16 15:26:18,030 INFO image_writer.py:197 - writing: /data/HC_Images_resample/PL295837474449919/PL295837474449919.nii.gz\n",
      "2023-09-16 15:27:02,703 INFO image_writer.py:197 - writing: /data/HC_Images_resample/PL485265127999615/PL485265127999615.nii.gz\n",
      "2023-09-16 15:27:30,954 INFO image_writer.py:197 - writing: /data/HC_Images_resample/PL928344421934809/PL928344421934809.nii.gz\n",
      "2023-09-16 15:27:49,355 INFO image_writer.py:197 - writing: /data/HC_Images_resample/PL409219386102512/PL409219386102512.nii.gz\n",
      "2023-09-16 15:28:16,699 INFO image_writer.py:197 - writing: /data/HC_Images_resample/PL064775189851313/PL064775189851313.nii.gz\n",
      "2023-09-16 15:28:46,082 INFO image_writer.py:197 - writing: /data/HC_Images_resample/PL394690845353826/PL394690845353826.nii.gz\n",
      "2023-09-16 15:29:06,819 INFO image_writer.py:197 - writing: /data/HC_Images_resample/PL311865558285692/PL311865558285692.nii.gz\n",
      "2023-09-16 15:29:39,595 INFO image_writer.py:197 - writing: /data/HC_Images_resample/PL157451505025629/PL157451505025629.nii.gz\n",
      "2023-09-16 15:30:30,274 INFO image_writer.py:197 - writing: /data/HC_Images_resample/PL920329784000140/PL920329784000140.nii.gz\n",
      "2023-09-16 15:31:20,724 INFO image_writer.py:197 - writing: /data/HC_Images_resample/PL145353604730560/PL145353604730560.nii.gz\n",
      "2023-09-16 15:32:18,965 INFO image_writer.py:197 - writing: /data/HC_Images_resample/PL455075220933606/PL455075220933606.nii.gz\n",
      "2023-09-16 15:33:11,219 INFO image_writer.py:197 - writing: /data/HC_Images_resample/PL320857902250775/PL320857902250775.nii.gz\n",
      "2023-09-16 15:33:46,898 INFO image_writer.py:197 - writing: /data/HC_Images_resample/PL324109837616393/PL324109837616393.nii.gz\n",
      "2023-09-16 15:34:26,681 INFO image_writer.py:197 - writing: /data/HC_Images_resample/PL070153620449075/PL070153620449075.nii.gz\n",
      "2023-09-16 15:35:14,154 INFO image_writer.py:197 - writing: /data/HC_Images_resample/PL983603910175928/PL983603910175928.nii.gz\n",
      "2023-09-16 15:35:51,145 INFO image_writer.py:197 - writing: /data/HC_Images_resample/PL140420556594226/PL140420556594226.nii.gz\n",
      "2023-09-16 15:36:30,815 INFO image_writer.py:197 - writing: /data/HC_Images_resample/PL482296892847501/PL482296892847501.nii.gz\n",
      "2023-09-16 15:36:53,653 INFO image_writer.py:197 - writing: /data/HC_Images_resample/PL257608828298422/PL257608828298422.nii.gz\n",
      "2023-09-16 15:37:28,163 INFO image_writer.py:197 - writing: /data/HC_Images_resample/PL657447059971795/PL657447059971795.nii.gz\n",
      "2023-09-16 15:38:16,239 INFO image_writer.py:197 - writing: /data/HC_Images_resample/PL472351208889330/PL472351208889330.nii.gz\n",
      "2023-09-16 15:38:54,177 INFO image_writer.py:197 - writing: /data/HC_Images_resample/PL787522134459936/PL787522134459936.nii.gz\n",
      "2023-09-16 15:39:24,903 INFO image_writer.py:197 - writing: /data/HC_Images_resample/PL105774832311414/PL105774832311414.nii.gz\n",
      "2023-09-16 15:40:16,589 INFO image_writer.py:197 - writing: /data/HC_Images_resample/PL726370505794785/PL726370505794785.nii.gz\n",
      "2023-09-16 15:40:52,595 INFO image_writer.py:197 - writing: /data/HC_Images_resample/PL914457525602235/PL914457525602235.nii.gz\n",
      "2023-09-16 15:41:38,159 INFO image_writer.py:197 - writing: /data/HC_Images_resample/PL126225386175081/PL126225386175081.nii.gz\n",
      "2023-09-16 15:42:13,328 INFO image_writer.py:197 - writing: /data/HC_Images_resample/PL953834711954631/PL953834711954631.nii.gz\n",
      "2023-09-16 15:42:46,008 INFO image_writer.py:197 - writing: /data/HC_Images_resample/PL583852487844012/PL583852487844012.nii.gz\n",
      "2023-09-16 15:43:23,599 INFO image_writer.py:197 - writing: /data/HC_Images_resample/PL176076668767205/PL176076668767205.nii.gz\n",
      "2023-09-16 15:43:50,615 INFO image_writer.py:197 - writing: /data/HC_Images_resample/PL090002409998035/PL090002409998035.nii.gz\n",
      "2023-09-16 15:44:24,417 INFO image_writer.py:197 - writing: /data/HC_Images_resample/PL662091651004559/PL662091651004559.nii.gz\n",
      "2023-09-16 15:44:58,299 INFO image_writer.py:197 - writing: /data/HC_Images_resample/PL988135019002984/PL988135019002984.nii.gz\n",
      "2023-09-16 15:45:29,837 INFO image_writer.py:197 - writing: /data/HC_Images_resample/PL545003825312165/PL545003825312165.nii.gz\n",
      "2023-09-16 15:46:00,014 INFO image_writer.py:197 - writing: /data/HC_Images_resample/PL137111792949578/PL137111792949578.nii.gz\n",
      "2023-09-16 15:46:34,087 INFO image_writer.py:197 - writing: /data/HC_Images_resample/PL559798186095424/PL559798186095424.nii.gz\n",
      "2023-09-16 15:47:08,138 INFO image_writer.py:197 - writing: /data/HC_Images_resample/PL372317261298557/PL372317261298557.nii.gz\n",
      "2023-09-16 15:47:47,230 INFO image_writer.py:197 - writing: /data/HC_Images_resample/PL909112578062532/PL909112578062532.nii.gz\n",
      "2023-09-16 15:48:22,754 INFO image_writer.py:197 - writing: /data/HC_Images_resample/PL849391181244830/PL849391181244830.nii.gz\n",
      "2023-09-16 15:49:10,729 INFO image_writer.py:197 - writing: /data/HC_Images_resample/PL913310838223648/PL913310838223648.nii.gz\n",
      "2023-09-16 15:49:46,361 INFO image_writer.py:197 - writing: /data/HC_Images_resample/PL277836728611025/PL277836728611025.nii.gz\n",
      "2023-09-16 15:50:10,013 INFO image_writer.py:197 - writing: /data/HC_Images_resample/PL958263208662081/PL958263208662081.nii.gz\n",
      "2023-09-16 15:50:35,564 INFO image_writer.py:197 - writing: /data/HC_Images_resample/PL479468654609280/PL479468654609280.nii.gz\n",
      "----------\n",
      "2023-09-16 15:51:01,010 INFO image_writer.py:197 - writing: /data/HC_Images_resample/PL480406808061164/PL480406808061164.nii.gz\n",
      "2023-09-16 15:51:40,498 INFO image_writer.py:197 - writing: /data/HC_Images_resample/PL725211669773173/PL725211669773173.nii.gz\n",
      "2023-09-16 15:52:31,163 INFO image_writer.py:197 - writing: /data/HC_Images_resample/PL194974317758309/PL194974317758309.nii.gz\n",
      "2023-09-16 15:53:09,342 INFO image_writer.py:197 - writing: /data/HC_Images_resample/PL651821184080881/PL651821184080881.nii.gz\n",
      "2023-09-16 15:53:34,601 INFO image_writer.py:197 - writing: /data/HC_Images_resample/PL848680237447534/PL848680237447534.nii.gz\n",
      "2023-09-16 15:53:52,841 INFO image_writer.py:197 - writing: /data/HC_Images_resample/PL217818717136625/PL217818717136625.nii.gz\n",
      "2023-09-16 15:54:18,563 INFO image_writer.py:197 - writing: /data/HC_Images_resample/PL933804121064000/PL933804121064000.nii.gz\n",
      "2023-09-16 15:54:53,960 INFO image_writer.py:197 - writing: /data/HC_Images_resample/PL061850842690412/PL061850842690412.nii.gz\n",
      "2023-09-16 15:55:45,484 INFO image_writer.py:197 - writing: /data/HC_Images_resample/PL652297908013408/PL652297908013408.nii.gz\n",
      "2023-09-16 15:56:29,488 INFO image_writer.py:197 - writing: /data/HC_Images_resample/PL620133077537220/PL620133077537220.nii.gz\n",
      "2023-09-16 15:57:01,942 INFO image_writer.py:197 - writing: /data/HC_Images_resample/PL156124271286723/PL156124271286723.nii.gz\n",
      "2023-09-16 15:57:26,346 INFO image_writer.py:197 - writing: /data/HC_Images_resample/PL322185620784099/PL322185620784099.nii.gz\n",
      "2023-09-16 15:58:00,370 INFO image_writer.py:197 - writing: /data/HC_Images_resample/PL907051718772370/PL907051718772370.nii.gz\n",
      "2023-09-16 15:58:35,566 INFO image_writer.py:197 - writing: /data/HC_Images_resample/PL664791531429075/PL664791531429075.nii.gz\n",
      "2023-09-16 15:59:22,143 INFO image_writer.py:197 - writing: /data/HC_Images_resample/PL421177930542477/PL421177930542477.nii.gz\n",
      "2023-09-16 15:59:59,578 INFO image_writer.py:197 - writing: /data/HC_Images_resample/PL746676605749924/PL746676605749924.nii.gz\n"
     ]
    }
   ],
   "source": [
    "for data_list_key in [\"training\", \"validation\"]:\n",
    "# for data_list_key in [\"test\"]:\n",
    "    # create a data loader\n",
    "    process_data = load_decathlon_datalist(\n",
    "        data_list_file_path,\n",
    "        is_segmentation=True,\n",
    "        data_list_key=data_list_key,\n",
    "        base_dir=orig_data_base_dir,\n",
    "    )\n",
    "    process_ds = Dataset(\n",
    "        data=process_data,\n",
    "        transform=process_transforms,\n",
    "    )\n",
    "    process_loader = DataLoader(\n",
    "        process_ds,\n",
    "        batch_size=1,\n",
    "        shuffle=False,\n",
    "        pin_memory=False,\n",
    "        collate_fn=no_collation,\n",
    "    )\n",
    "\n",
    "    print(\"-\" * 10)\n",
    "    for batch_data in process_loader:\n",
    "        for batch_data_i in batch_data:\n",
    "            batch_data_i = post_transforms(batch_data_i)"
   ]
  }
 ],
 "metadata": {
  "kernelspec": {
   "display_name": "Python 3 (ipykernel)",
   "language": "python",
   "name": "python3"
  },
  "language_info": {
   "codemirror_mode": {
    "name": "ipython",
    "version": 3
   },
   "file_extension": ".py",
   "mimetype": "text/x-python",
   "name": "python",
   "nbconvert_exporter": "python",
   "pygments_lexer": "ipython3",
   "version": "3.8.10"
  }
 },
 "nbformat": 4,
 "nbformat_minor": 5
}
