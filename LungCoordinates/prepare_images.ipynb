{
 "cells": [
  {
   "cell_type": "code",
   "execution_count": 1,
   "id": "6b9fc7eb-d62e-4118-a92d-93fbf325ea32",
   "metadata": {},
   "outputs": [],
   "source": [
    "import os\n",
    "import monai\n",
    "import torch\n",
    "from monai.data import DataLoader, Dataset, load_decathlon_datalist, NibabelWriter\n",
    "from monai.data.utils import no_collation\n",
    "from monai.transforms import (\n",
    "    Compose,\n",
    "    EnsureChannelFirstd,\n",
    "    EnsureTyped,\n",
    "    LoadImaged,\n",
    "    Orientationd,\n",
    "    Spacingd,\n",
    ")"
   ]
  },
  {
   "cell_type": "code",
   "execution_count": 2,
   "id": "5b8423fc-87d5-4203-a981-68cfb6ea61c7",
   "metadata": {},
   "outputs": [
    {
     "name": "stdout",
     "output_type": "stream",
     "text": [
      "MONAI version: 1.2.0\n",
      "Numpy version: 1.24.4\n",
      "Pytorch version: 2.0.1+cu118\n",
      "MONAI flags: HAS_EXT = False, USE_COMPILED = False, USE_META_DICT = False\n",
      "MONAI rev id: c33f1ba588ee00229a309000e888f9817b4f1934\n",
      "MONAI __file__: /usr/local/lib/python3.8/dist-packages/monai/__init__.py\n",
      "\n",
      "Optional dependencies:\n",
      "Pytorch Ignite version: NOT INSTALLED or UNKNOWN VERSION.\n",
      "ITK version: 5.3.0\n",
      "Nibabel version: 5.1.0\n",
      "scikit-image version: 0.21.0\n",
      "Pillow version: 10.0.0\n",
      "Tensorboard version: NOT INSTALLED or UNKNOWN VERSION.\n",
      "gdown version: NOT INSTALLED or UNKNOWN VERSION.\n",
      "TorchVision version: 0.15.2+cu118\n",
      "tqdm version: 4.66.1\n",
      "lmdb version: NOT INSTALLED or UNKNOWN VERSION.\n",
      "psutil version: 5.9.5\n",
      "pandas version: 2.0.3\n",
      "einops version: NOT INSTALLED or UNKNOWN VERSION.\n",
      "transformers version: NOT INSTALLED or UNKNOWN VERSION.\n",
      "mlflow version: 2.6.0\n",
      "pynrrd version: 1.0.0\n",
      "\n",
      "For details about installing the optional dependencies, please visit:\n",
      "    https://docs.monai.io/en/latest/installation.html#installing-the-recommended-dependencies\n",
      "\n"
     ]
    }
   ],
   "source": [
    "monai.config.print_config()"
   ]
  },
  {
   "cell_type": "code",
   "execution_count": 3,
   "id": "4e5f38eb",
   "metadata": {},
   "outputs": [],
   "source": [
    "spacing = [0.703125, 0.703125, 1.25]\n",
    "data_base_dir = '/data/HC_Images_resample/'\n",
    "data_list_file_path = '/data/output/hc_train_val.json'\n",
    "# data_list_file_path = '/data/output/hc_test.json'\n",
    "orig_data_base_dir = '/data/HC1/'\n",
    "# data_base_dir = '/data/MSD_Images_resample/'\n",
    "# data_list_file_path = '/data/output/msd_train_val.json'\n",
    "# data_list_file_path = '/data/output/msd_test.json'\n",
    "# orig_data_base_dir = '/data/MSD-files-moved/'"
   ]
  },
  {
   "cell_type": "code",
   "execution_count": 4,
   "id": "27c55eaa-6e31-4e54-ab45-99dfc3813901",
   "metadata": {
    "scrolled": true
   },
   "outputs": [
    {
     "name": "stderr",
     "output_type": "stream",
     "text": [
      "monai.transforms.io.dictionary LoadImaged.__init__:image_only: Current default value of argument `image_only=False` has been deprecated since version 1.1. It will be changed to `image_only=True` in version 1.3.\n"
     ]
    }
   ],
   "source": [
    "process_transforms = Compose(\n",
    "    [\n",
    "        LoadImaged(\n",
    "            keys=[\"image\"],\n",
    "            meta_key_postfix=\"meta_dict\",\n",
    "            reader=\"itkreader\",\n",
    "            affine_lps_to_ras=True\n",
    "        ),\n",
    "        EnsureChannelFirstd(keys=[\"image\"]),\n",
    "        EnsureTyped(keys=[\"image\"], dtype=torch.float16),\n",
    "        Orientationd(keys=[\"image\"], axcodes=\"RAS\"),\n",
    "        Spacingd(keys=[\"image\"], pixdim=spacing, padding_mode=\"border\"),\n",
    "    ]\n",
    ")"
   ]
  },
  {
   "cell_type": "code",
   "execution_count": 5,
   "id": "22aba3b9-1dea-4281-ae34-db23b80e4ba0",
   "metadata": {
    "scrolled": true
   },
   "outputs": [
    {
     "name": "stdout",
     "output_type": "stream",
     "text": [
      "----------\n",
      "2023-08-26 19:10:40,507 INFO image_writer.py:197 - writing: /data/HC_Images_resample/PL652474346066949.nii.gz\n",
      "2023-08-26 19:11:24,428 INFO image_writer.py:197 - writing: /data/HC_Images_resample/PL883384319849708.nii.gz\n",
      "2023-08-26 19:12:04,234 INFO image_writer.py:197 - writing: /data/HC_Images_resample/PL392606925066512.nii.gz\n",
      "2023-08-26 19:12:37,808 INFO image_writer.py:197 - writing: /data/HC_Images_resample/PL176076668767205.nii.gz\n",
      "2023-08-26 19:13:18,801 INFO image_writer.py:197 - writing: /data/HC_Images_resample/PL140377731469643.nii.gz\n",
      "2023-08-26 19:14:05,406 INFO image_writer.py:197 - writing: /data/HC_Images_resample/PL372317261298557.nii.gz\n",
      "2023-08-26 19:14:45,969 INFO image_writer.py:197 - writing: /data/HC_Images_resample/PL983603910175928.nii.gz\n",
      "2023-08-26 19:15:28,790 INFO image_writer.py:197 - writing: /data/HC_Images_resample/PL210874587126061.nii.gz\n",
      "2023-08-26 19:16:17,085 INFO image_writer.py:197 - writing: /data/HC_Images_resample/PL455075220933606.nii.gz\n",
      "2023-08-26 19:16:49,875 INFO image_writer.py:197 - writing: /data/HC_Images_resample/PL545003825312165.nii.gz\n",
      "2023-08-26 19:17:29,845 INFO image_writer.py:197 - writing: /data/HC_Images_resample/PL920329784000140.nii.gz\n",
      "2023-08-26 19:18:03,343 INFO image_writer.py:197 - writing: /data/HC_Images_resample/PL163227125740365.nii.gz\n",
      "2023-08-26 19:18:30,314 INFO image_writer.py:197 - writing: /data/HC_Images_resample/PL223569481163904.nii.gz\n",
      "2023-08-26 19:18:58,665 INFO image_writer.py:197 - writing: /data/HC_Images_resample/PL702936542346630.nii.gz\n",
      "2023-08-26 19:19:34,343 INFO image_writer.py:197 - writing: /data/HC_Images_resample/PL914457525602235.nii.gz\n",
      "2023-08-26 19:20:16,504 INFO image_writer.py:197 - writing: /data/HC_Images_resample/PL157451505025629.nii.gz\n",
      "2023-08-26 19:20:54,575 INFO image_writer.py:197 - writing: /data/HC_Images_resample/PL105774832311414.nii.gz\n",
      "2023-08-26 19:21:27,285 INFO image_writer.py:197 - writing: /data/HC_Images_resample/PL933804121064000.nii.gz\n",
      "2023-08-26 19:21:58,033 INFO image_writer.py:197 - writing: /data/HC_Images_resample/PL156124271286723.nii.gz\n",
      "2023-08-26 19:22:33,733 INFO image_writer.py:197 - writing: /data/HC_Images_resample/PL327294052177261.nii.gz\n",
      "2023-08-26 19:22:57,888 INFO image_writer.py:197 - writing: /data/HC_Images_resample/PL394690845353826.nii.gz\n",
      "2023-08-26 19:23:15,017 INFO image_writer.py:197 - writing: /data/HC_Images_resample/PL153971807430236.nii.gz\n",
      "2023-08-26 19:23:41,420 INFO image_writer.py:197 - writing: /data/HC_Images_resample/PL421177930542477.nii.gz\n",
      "2023-08-26 19:24:11,370 INFO image_writer.py:197 - writing: /data/HC_Images_resample/PL893862074631541.nii.gz\n",
      "2023-08-26 19:24:43,984 INFO image_writer.py:197 - writing: /data/HC_Images_resample/PL514155367181115.nii.gz\n",
      "2023-08-26 19:25:17,045 INFO image_writer.py:197 - writing: /data/HC_Images_resample/PL889765486688436.nii.gz\n",
      "2023-08-26 19:25:48,103 INFO image_writer.py:197 - writing: /data/HC_Images_resample/PL907051718772370.nii.gz\n",
      "2023-08-26 19:26:15,797 INFO image_writer.py:197 - writing: /data/HC_Images_resample/PL958263208662081.nii.gz\n",
      "2023-08-26 19:26:43,426 INFO image_writer.py:197 - writing: /data/HC_Images_resample/PL637340825227915.nii.gz\n",
      "2023-08-26 19:27:12,926 INFO image_writer.py:197 - writing: /data/HC_Images_resample/PL787522134459936.nii.gz\n",
      "2023-08-26 19:27:46,340 INFO image_writer.py:197 - writing: /data/HC_Images_resample/PL746676605749924.nii.gz\n",
      "2023-08-26 19:28:20,437 INFO image_writer.py:197 - writing: /data/HC_Images_resample/PL137111792949578.nii.gz\n",
      "2023-08-26 19:28:55,121 INFO image_writer.py:197 - writing: /data/HC_Images_resample/PL583852487844012.nii.gz\n",
      "2023-08-26 19:29:33,415 INFO image_writer.py:197 - writing: /data/HC_Images_resample/PL259838368407140.nii.gz\n",
      "2023-08-26 19:30:22,240 INFO image_writer.py:197 - writing: /data/HC_Images_resample/PL657447059971795.nii.gz\n",
      "2023-08-26 19:31:16,120 INFO image_writer.py:197 - writing: /data/HC_Images_resample/PL206802585657179.nii.gz\n",
      "2023-08-26 19:31:56,447 INFO image_writer.py:197 - writing: /data/HC_Images_resample/PL664791531429075.nii.gz\n",
      "2023-08-26 19:32:28,541 INFO image_writer.py:197 - writing: /data/HC_Images_resample/PL316898027619487.nii.gz\n",
      "2023-08-26 19:33:01,722 INFO image_writer.py:197 - writing: /data/HC_Images_resample/PL836830665190450.nii.gz\n",
      "2023-08-26 19:33:33,477 INFO image_writer.py:197 - writing: /data/HC_Images_resample/PL953834711954631.nii.gz\n",
      "2023-08-26 19:34:06,608 INFO image_writer.py:197 - writing: /data/HC_Images_resample/PL952806205422554.nii.gz\n",
      "2023-08-26 19:34:42,744 INFO image_writer.py:197 - writing: /data/HC_Images_resample/PL193315128274536.nii.gz\n",
      "2023-08-26 19:35:17,083 INFO image_writer.py:197 - writing: /data/HC_Images_resample/PL322185620784099.nii.gz\n",
      "2023-08-26 19:35:47,270 INFO image_writer.py:197 - writing: /data/HC_Images_resample/PL909112578062532.nii.gz\n",
      "2023-08-26 19:36:18,865 INFO image_writer.py:197 - writing: /data/HC_Images_resample/PL140420556594226.nii.gz\n",
      "2023-08-26 19:37:04,086 INFO image_writer.py:197 - writing: /data/HC_Images_resample/PL726370505794785.nii.gz\n",
      "2023-08-26 19:37:59,231 INFO image_writer.py:197 - writing: /data/HC_Images_resample/PL155113087338785.nii.gz\n",
      "2023-08-26 19:38:39,639 INFO image_writer.py:197 - writing: /data/HC_Images_resample/PL064775189851313.nii.gz\n",
      "2023-08-26 19:39:23,555 INFO image_writer.py:197 - writing: /data/HC_Images_resample/PL324109837616393.nii.gz\n",
      "2023-08-26 19:40:00,981 INFO image_writer.py:197 - writing: /data/HC_Images_resample/PL926008951016659.nii.gz\n",
      "2023-08-26 19:40:37,365 INFO image_writer.py:197 - writing: /data/HC_Images_resample/PL485265127999615.nii.gz\n",
      "2023-08-26 19:41:09,207 INFO image_writer.py:197 - writing: /data/HC_Images_resample/PL928344421934809.nii.gz\n",
      "2023-08-26 19:41:42,613 INFO image_writer.py:197 - writing: /data/HC_Images_resample/PL620133077537220.nii.gz\n",
      "2023-08-26 19:42:19,265 INFO image_writer.py:197 - writing: /data/HC_Images_resample/PL295837474449919.nii.gz\n",
      "2023-08-26 19:42:56,690 INFO image_writer.py:197 - writing: /data/HC_Images_resample/PL090002409998035.nii.gz\n",
      "2023-08-26 19:43:27,465 INFO image_writer.py:197 - writing: /data/HC_Images_resample/PL277836728611025.nii.gz\n",
      "2023-08-26 19:43:59,814 INFO image_writer.py:197 - writing: /data/HC_Images_resample/PL902130424325924.nii.gz\n",
      "2023-08-26 19:44:32,739 INFO image_writer.py:197 - writing: /data/HC_Images_resample/PL559798186095424.nii.gz\n",
      "2023-08-26 19:45:06,490 INFO image_writer.py:197 - writing: /data/HC_Images_resample/PL145353604730560.nii.gz\n",
      "2023-08-26 19:45:36,895 INFO image_writer.py:197 - writing: /data/HC_Images_resample/PL662091651004559.nii.gz\n",
      "2023-08-26 19:46:01,376 INFO image_writer.py:197 - writing: /data/HC_Images_resample/PL239690140904756.nii.gz\n",
      "2023-08-26 19:46:32,031 INFO image_writer.py:197 - writing: /data/HC_Images_resample/PL194974317758309.nii.gz\n",
      "2023-08-26 19:47:07,177 INFO image_writer.py:197 - writing: /data/HC_Images_resample/PL561622476780991.nii.gz\n",
      "2023-08-26 19:47:43,667 INFO image_writer.py:197 - writing: /data/HC_Images_resample/PL287162993503794.nii.gz\n",
      "----------\n",
      "2023-08-26 19:48:20,114 INFO image_writer.py:197 - writing: /data/HC_Images_resample/PL472351208889330.nii.gz\n",
      "2023-08-26 19:48:54,912 INFO image_writer.py:197 - writing: /data/HC_Images_resample/PL988135019002984.nii.gz\n",
      "2023-08-26 19:49:27,841 INFO image_writer.py:197 - writing: /data/HC_Images_resample/PL969252002286674.nii.gz\n",
      "2023-08-26 19:49:54,397 INFO image_writer.py:197 - writing: /data/HC_Images_resample/PL217818717136625.nii.gz\n",
      "2023-08-26 19:50:27,172 INFO image_writer.py:197 - writing: /data/HC_Images_resample/PL217160176826976.nii.gz\n",
      "2023-08-26 19:51:00,301 INFO image_writer.py:197 - writing: /data/HC_Images_resample/PL075999918976403.nii.gz\n",
      "2023-08-26 19:51:34,494 INFO image_writer.py:197 - writing: /data/HC_Images_resample/PL232909971086533.nii.gz\n",
      "2023-08-26 19:52:04,173 INFO image_writer.py:197 - writing: /data/HC_Images_resample/PL278029848115415.nii.gz\n",
      "2023-08-26 19:52:41,011 INFO image_writer.py:197 - writing: /data/HC_Images_resample/PL126225386175081.nii.gz\n",
      "2023-08-26 19:53:17,660 INFO image_writer.py:197 - writing: /data/HC_Images_resample/PL191217512924609.nii.gz\n",
      "2023-08-26 19:53:45,473 INFO image_writer.py:197 - writing: /data/HC_Images_resample/PL479468654609280.nii.gz\n",
      "2023-08-26 19:54:11,627 INFO image_writer.py:197 - writing: /data/HC_Images_resample/PL107909012459665.nii.gz\n",
      "2023-08-26 19:54:34,675 INFO image_writer.py:197 - writing: /data/HC_Images_resample/PL190114204934163.nii.gz\n",
      "2023-08-26 19:54:59,406 INFO image_writer.py:197 - writing: /data/HC_Images_resample/PL320857902250775.nii.gz\n",
      "2023-08-26 19:55:41,324 INFO image_writer.py:197 - writing: /data/HC_Images_resample/PL061850842690412.nii.gz\n",
      "2023-08-26 19:56:15,708 INFO image_writer.py:197 - writing: /data/HC_Images_resample/PL370380860092461.nii.gz\n"
     ]
    }
   ],
   "source": [
    "for data_list_key in [\"training\", \"validation\"]:\n",
    "# for data_list_key in [\"test\"]:\n",
    "    process_data = load_decathlon_datalist(\n",
    "        data_list_file_path,\n",
    "        is_segmentation=True,\n",
    "        data_list_key=data_list_key,\n",
    "        base_dir=orig_data_base_dir\n",
    "    )\n",
    "    process_ds = Dataset(\n",
    "        data=process_data,\n",
    "        transform=process_transforms\n",
    "    )\n",
    "    process_loader = DataLoader(\n",
    "        process_ds,\n",
    "        batch_size=1,\n",
    "        shuffle=False,\n",
    "        pin_memory=False,\n",
    "        collate_fn=no_collation\n",
    "    )\n",
    "\n",
    "    print(\"-\" * 10)\n",
    "    for batch_data in process_loader:\n",
    "        for batch_data_i in batch_data:\n",
    "            subj_id = batch_data_i[\"image_meta_dict\"][\"filename_or_obj\"].split(\"/\")[3] + '.nii.gz'\n",
    "            # subj_id = batch_data_i[\"image_meta_dict\"][\"filename_or_obj\"].split(\"/\")[-1]\n",
    "            new_filename = os.path.join(data_base_dir, subj_id)\n",
    "            writer = NibabelWriter()\n",
    "            writer.set_data_array(data_array=batch_data_i[\"image\"])\n",
    "            writer.set_metadata(meta_dict=batch_data_i[\"image\"].meta)\n",
    "            writer.write(new_filename, verbose=True)"
   ]
  },
  {
   "cell_type": "code",
   "execution_count": null,
   "id": "186f5767-d31f-4dcd-8821-04e241004e67",
   "metadata": {},
   "outputs": [],
   "source": []
  }
 ],
 "metadata": {
  "kernelspec": {
   "display_name": "Python 3 (ipykernel)",
   "language": "python",
   "name": "python3"
  },
  "language_info": {
   "codemirror_mode": {
    "name": "ipython",
    "version": 3
   },
   "file_extension": ".py",
   "mimetype": "text/x-python",
   "name": "python",
   "nbconvert_exporter": "python",
   "pygments_lexer": "ipython3",
   "version": "3.8.10"
  }
 },
 "nbformat": 4,
 "nbformat_minor": 5
}
