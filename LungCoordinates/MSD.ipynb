{
 "cells": [
  {
   "cell_type": "code",
   "execution_count": 1,
   "id": "39221bb2-9327-4cbc-b87e-5867ad4f5ea5",
   "metadata": {},
   "outputs": [],
   "source": [
    "import os\n",
    "import pandas as pd\n",
    "import numpy as np\n",
    "import random\n",
    "from utils import from_np_array\n",
    "import json"
   ]
  },
  {
   "cell_type": "code",
   "execution_count": 2,
   "id": "619fbe42-0894-4390-a610-93e205697332",
   "metadata": {},
   "outputs": [
    {
     "data": {
      "text/plain": [
       "['hc_clean_nodules.csv',\n",
       " 'hc_nodules.csv',\n",
       " 'hc_test.json',\n",
       " 'hc_train_val.json',\n",
       " 'msd_clean_nodules.csv',\n",
       " 'msd_nodules.csv',\n",
       " 'msd_test.json',\n",
       " 'msd_train_val.json']"
      ]
     },
     "execution_count": 2,
     "metadata": {},
     "output_type": "execute_result"
    }
   ],
   "source": [
    "os.listdir('/data/output')"
   ]
  },
  {
   "cell_type": "code",
   "execution_count": 3,
   "id": "997cebc2-68d3-4910-8049-a6331f6c3681",
   "metadata": {
    "scrolled": true
   },
   "outputs": [
    {
     "name": "stdout",
     "output_type": "stream",
     "text": [
      "(63, 10)\n"
     ]
    },
    {
     "data": {
      "text/html": [
       "<div>\n",
       "<style scoped>\n",
       "    .dataframe tbody tr th:only-of-type {\n",
       "        vertical-align: middle;\n",
       "    }\n",
       "\n",
       "    .dataframe tbody tr th {\n",
       "        vertical-align: top;\n",
       "    }\n",
       "\n",
       "    .dataframe thead th {\n",
       "        text-align: right;\n",
       "    }\n",
       "</style>\n",
       "<table border=\"1\" class=\"dataframe\">\n",
       "  <thead>\n",
       "    <tr style=\"text-align: right;\">\n",
       "      <th></th>\n",
       "      <th>name</th>\n",
       "      <th>spacing</th>\n",
       "      <th>origin</th>\n",
       "      <th>exam_refined</th>\n",
       "      <th>x_min</th>\n",
       "      <th>y_min</th>\n",
       "      <th>z_min</th>\n",
       "      <th>x_max</th>\n",
       "      <th>y_max</th>\n",
       "      <th>z_max</th>\n",
       "    </tr>\n",
       "  </thead>\n",
       "  <tbody>\n",
       "    <tr>\n",
       "      <th>0</th>\n",
       "      <td>lung_001</td>\n",
       "      <td>[1.0, 0.69335938, 0.69335938]</td>\n",
       "      <td>[-305.0, 40.15332031, -182.15332031]</td>\n",
       "      <td>False</td>\n",
       "      <td>113</td>\n",
       "      <td>257</td>\n",
       "      <td>231</td>\n",
       "      <td>139</td>\n",
       "      <td>278</td>\n",
       "      <td>251</td>\n",
       "    </tr>\n",
       "    <tr>\n",
       "      <th>1</th>\n",
       "      <td>lung_003</td>\n",
       "      <td>[1.24565971, 0.9375, 0.9375]</td>\n",
       "      <td>[-377.75, 232.86250305, -252.8999939]</td>\n",
       "      <td>False</td>\n",
       "      <td>386</td>\n",
       "      <td>234</td>\n",
       "      <td>138</td>\n",
       "      <td>402</td>\n",
       "      <td>255</td>\n",
       "      <td>148</td>\n",
       "    </tr>\n",
       "    <tr>\n",
       "      <th>2</th>\n",
       "      <td>lung_004</td>\n",
       "      <td>[1.245471, 0.828125, 0.828125]</td>\n",
       "      <td>[-410.5, 211.171875, -207.8999939]</td>\n",
       "      <td>False</td>\n",
       "      <td>323</td>\n",
       "      <td>314</td>\n",
       "      <td>217</td>\n",
       "      <td>343</td>\n",
       "      <td>337</td>\n",
       "      <td>232</td>\n",
       "    </tr>\n",
       "    <tr>\n",
       "      <th>3</th>\n",
       "      <td>lung_005</td>\n",
       "      <td>[1.0, 0.65429688, 0.65429688]</td>\n",
       "      <td>[-326.0, 0.172851562, -163.172852]</td>\n",
       "      <td>False</td>\n",
       "      <td>116</td>\n",
       "      <td>267</td>\n",
       "      <td>155</td>\n",
       "      <td>164</td>\n",
       "      <td>313</td>\n",
       "      <td>181</td>\n",
       "    </tr>\n",
       "    <tr>\n",
       "      <th>4</th>\n",
       "      <td>lung_006</td>\n",
       "      <td>[0.625, 0.97656202, 0.97656202]</td>\n",
       "      <td>[-360.25, 229.02319336, -250.0]</td>\n",
       "      <td>False</td>\n",
       "      <td>285</td>\n",
       "      <td>186</td>\n",
       "      <td>447</td>\n",
       "      <td>313</td>\n",
       "      <td>213</td>\n",
       "      <td>487</td>\n",
       "    </tr>\n",
       "  </tbody>\n",
       "</table>\n",
       "</div>"
      ],
      "text/plain": [
       "       name                          spacing  \\\n",
       "0  lung_001    [1.0, 0.69335938, 0.69335938]   \n",
       "1  lung_003     [1.24565971, 0.9375, 0.9375]   \n",
       "2  lung_004   [1.245471, 0.828125, 0.828125]   \n",
       "3  lung_005    [1.0, 0.65429688, 0.65429688]   \n",
       "4  lung_006  [0.625, 0.97656202, 0.97656202]   \n",
       "\n",
       "                                  origin  exam_refined  x_min  y_min  z_min  \\\n",
       "0   [-305.0, 40.15332031, -182.15332031]         False    113    257    231   \n",
       "1  [-377.75, 232.86250305, -252.8999939]         False    386    234    138   \n",
       "2     [-410.5, 211.171875, -207.8999939]         False    323    314    217   \n",
       "3     [-326.0, 0.172851562, -163.172852]         False    116    267    155   \n",
       "4        [-360.25, 229.02319336, -250.0]         False    285    186    447   \n",
       "\n",
       "   x_max  y_max  z_max  \n",
       "0    139    278    251  \n",
       "1    402    255    148  \n",
       "2    343    337    232  \n",
       "3    164    313    181  \n",
       "4    313    213    487  "
      ]
     },
     "execution_count": 3,
     "metadata": {},
     "output_type": "execute_result"
    }
   ],
   "source": [
    "content = pd.read_csv(\n",
    "    '/data/output/msd_clean_nodules.csv',\n",
    "    converters={\n",
    "        'spacing': from_np_array,\n",
    "        'origin': from_np_array\n",
    "    }\n",
    ")\n",
    "print(content.shape)\n",
    "content.head()"
   ]
  },
  {
   "cell_type": "markdown",
   "id": "01ced089-d12e-40ee-a160-7ee9433f4985",
   "metadata": {},
   "source": [
    "### based on bounding box found, finding the center and diameter of the nodules"
   ]
  },
  {
   "cell_type": "code",
   "execution_count": 4,
   "id": "7c8c021b-e603-4eef-80b0-c6aaf1582f2c",
   "metadata": {
    "scrolled": true
   },
   "outputs": [],
   "source": [
    "hc_dataset = []\n",
    "for hc_bb in content.itertuples(index=False):\n",
    "\n",
    "    voxel_min = np.array((hc_bb[4], hc_bb[5], hc_bb[6]))\n",
    "    voxel_max = np.array((hc_bb[7], hc_bb[8], hc_bb[9]))\n",
    "\n",
    "    origin = np.array(list(reversed(hc_bb[2])))\n",
    "    spacing = np.array(list(reversed(hc_bb[1])))\n",
    "\n",
    "    world_coord_min = origin + voxel_min*spacing\n",
    "    world_coord_max = origin + voxel_max*spacing\n",
    "\n",
    "    world_coord_cent = (world_coord_min + world_coord_max)/2\n",
    "    world_coord_diam = world_coord_min - world_coord_max\n",
    "    \n",
    "    hc_dataset.append({\n",
    "        \"box\": [[\n",
    "                world_coord_cent[0],\n",
    "                world_coord_cent[1],\n",
    "                world_coord_cent[2],\n",
    "                world_coord_diam[0],\n",
    "                world_coord_diam[1],\n",
    "                world_coord_diam[2]\n",
    "            ]],\n",
    "            \"image\": hc_bb[0] + '.nii.gz',\n",
    "            \"label\": [0]\n",
    "    })"
   ]
  },
  {
   "cell_type": "markdown",
   "id": "728a8e7d-ca17-414a-a000-43f1c56017cb",
   "metadata": {},
   "source": [
    "### data split "
   ]
  },
  {
   "cell_type": "code",
   "execution_count": 5,
   "id": "c29b3bc6-a582-4062-bfb8-10e1a0aae495",
   "metadata": {},
   "outputs": [
    {
     "name": "stdout",
     "output_type": "stream",
     "text": [
      "total: 63\n",
      "train/val: 50 test: 13\n",
      "train: 40 val: 10\n"
     ]
    }
   ],
   "source": [
    "random.shuffle(hc_dataset)\n",
    "print('total: ' + str(len(hc_dataset)))\n",
    "test_split_constant = 0.8\n",
    "test_size = len(hc_dataset) - int(len(hc_dataset)*test_split_constant)\n",
    "train_files, test_files = hc_dataset[:-test_size], hc_dataset[-test_size:]\n",
    "print('train/val: ' + str(len(train_files)) + ' test: ' + str(len(test_files)))\n",
    "hc_dataset = train_files.copy()\n",
    "\n",
    "val_split_constant = 0.8\n",
    "val_size = len(hc_dataset) - int(len(hc_dataset)*val_split_constant)\n",
    "train_files, val_files = hc_dataset[:-val_size], hc_dataset[-val_size:]\n",
    "print('train: ' + str(len(train_files)) + ' val: ' + str(len(val_files)))"
   ]
  },
  {
   "cell_type": "markdown",
   "id": "327384c3-d78f-46ed-ae40-7485c14785a1",
   "metadata": {},
   "source": [
    "### saving corresponding json for test"
   ]
  },
  {
   "cell_type": "code",
   "execution_count": 6,
   "id": "df3a21b4-88f7-4c4b-9da3-f7c13213c16f",
   "metadata": {},
   "outputs": [],
   "source": [
    "save_file = open('/data/output/msd_test.json', 'w')\n",
    "value = {\n",
    "    \"test\": test_files\n",
    "}\n",
    "json.dump(value, save_file, indent=5)\n",
    "save_file.close()"
   ]
  },
  {
   "cell_type": "markdown",
   "id": "aed672f1-c836-4273-bd1b-623e794b5c93",
   "metadata": {},
   "source": [
    "### saving corresponding json for train and val"
   ]
  },
  {
   "cell_type": "code",
   "execution_count": 7,
   "id": "c3816231-d5a2-4fd8-861b-dbbc814c7d38",
   "metadata": {
    "scrolled": true
   },
   "outputs": [],
   "source": [
    "save_file = open('/data/output/msd_train_val.json', 'w')\n",
    "value = {\n",
    "    \"training\": train_files,\n",
    "    \"validation\": val_files\n",
    "}\n",
    "json.dump(value, save_file, indent=5)\n",
    "save_file.close()"
   ]
  },
  {
   "cell_type": "code",
   "execution_count": null,
   "id": "639846a0-dedc-4fcd-871f-2f13d637d8fc",
   "metadata": {},
   "outputs": [],
   "source": []
  },
  {
   "cell_type": "code",
   "execution_count": null,
   "id": "7b4ead9b-a390-4c7a-a131-0399aa549b8c",
   "metadata": {},
   "outputs": [],
   "source": []
  }
 ],
 "metadata": {
  "kernelspec": {
   "display_name": "Python 3 (ipykernel)",
   "language": "python",
   "name": "python3"
  },
  "language_info": {
   "codemirror_mode": {
    "name": "ipython",
    "version": 3
   },
   "file_extension": ".py",
   "mimetype": "text/x-python",
   "name": "python",
   "nbconvert_exporter": "python",
   "pygments_lexer": "ipython3",
   "version": "3.8.10"
  }
 },
 "nbformat": 4,
 "nbformat_minor": 5
}
